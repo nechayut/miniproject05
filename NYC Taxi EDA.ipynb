{
 "cells": [
  {
   "cell_type": "code",
   "execution_count": 2,
   "id": "3a2a1099",
   "metadata": {},
   "outputs": [],
   "source": [
    "import pandas as pd\n",
    "import numpy as np\n",
    "from scipy import stats\n",
    "import seaborn as sns\n",
    "import matplotlib.pyplot as plt\n",
    "import datetime as dt"
   ]
  },
  {
   "cell_type": "code",
   "execution_count": 3,
   "id": "3beff098",
   "metadata": {},
   "outputs": [],
   "source": [
    "df = pd.read_csv('Data/Taxi.csv')\n",
    "data_dictionary = pd.read_excel('Data/taxi_dic.xlsx')"
   ]
  },
  {
   "cell_type": "markdown",
   "id": "ac8f8c1b",
   "metadata": {},
   "source": [
    "# EDA"
   ]
  },
  {
   "cell_type": "code",
   "execution_count": 4,
   "id": "85a43680",
   "metadata": {},
   "outputs": [
    {
     "data": {
      "text/html": [
       "<div>\n",
       "<style scoped>\n",
       "    .dataframe tbody tr th:only-of-type {\n",
       "        vertical-align: middle;\n",
       "    }\n",
       "\n",
       "    .dataframe tbody tr th {\n",
       "        vertical-align: top;\n",
       "    }\n",
       "\n",
       "    .dataframe thead th {\n",
       "        text-align: right;\n",
       "    }\n",
       "</style>\n",
       "<table border=\"1\" class=\"dataframe\">\n",
       "  <thead>\n",
       "    <tr style=\"text-align: right;\">\n",
       "      <th></th>\n",
       "      <th>Column name</th>\n",
       "      <th>Description</th>\n",
       "    </tr>\n",
       "  </thead>\n",
       "  <tbody>\n",
       "    <tr>\n",
       "      <th>0</th>\n",
       "      <td>ID</td>\n",
       "      <td>Trip identification number</td>\n",
       "    </tr>\n",
       "    <tr>\n",
       "      <th>1</th>\n",
       "      <td>VendorID</td>\n",
       "      <td>A code indicating the TPEP provider that provi...</td>\n",
       "    </tr>\n",
       "    <tr>\n",
       "      <th>2</th>\n",
       "      <td>NaN</td>\n",
       "      <td>NaN</td>\n",
       "    </tr>\n",
       "    <tr>\n",
       "      <th>3</th>\n",
       "      <td>NaN</td>\n",
       "      <td>1= Creative Mobile Technologies, LLC;</td>\n",
       "    </tr>\n",
       "    <tr>\n",
       "      <th>4</th>\n",
       "      <td>NaN</td>\n",
       "      <td>NaN</td>\n",
       "    </tr>\n",
       "    <tr>\n",
       "      <th>5</th>\n",
       "      <td>NaN</td>\n",
       "      <td>2= VeriFone Inc.</td>\n",
       "    </tr>\n",
       "    <tr>\n",
       "      <th>6</th>\n",
       "      <td>tpep_pickup_datetime</td>\n",
       "      <td>The date and time when the meter was engaged.</td>\n",
       "    </tr>\n",
       "    <tr>\n",
       "      <th>7</th>\n",
       "      <td>tpep_dropoff_datetime</td>\n",
       "      <td>The date and time when the meter was disengaged.</td>\n",
       "    </tr>\n",
       "    <tr>\n",
       "      <th>8</th>\n",
       "      <td>Passenger_count</td>\n",
       "      <td>The number of passengers in the vehicle.</td>\n",
       "    </tr>\n",
       "    <tr>\n",
       "      <th>9</th>\n",
       "      <td>NaN</td>\n",
       "      <td>NaN</td>\n",
       "    </tr>\n",
       "    <tr>\n",
       "      <th>10</th>\n",
       "      <td>NaN</td>\n",
       "      <td>This is a driver-entered value.</td>\n",
       "    </tr>\n",
       "    <tr>\n",
       "      <th>11</th>\n",
       "      <td>Trip_distance</td>\n",
       "      <td>The elapsed trip distance in miles reported by...</td>\n",
       "    </tr>\n",
       "    <tr>\n",
       "      <th>12</th>\n",
       "      <td>PULocationID</td>\n",
       "      <td>TLC Taxi Zone in which the taximeter was engaged</td>\n",
       "    </tr>\n",
       "    <tr>\n",
       "      <th>13</th>\n",
       "      <td>DOLocationID</td>\n",
       "      <td>TLC Taxi Zone in which the taximeter was disen...</td>\n",
       "    </tr>\n",
       "    <tr>\n",
       "      <th>14</th>\n",
       "      <td>RateCodeID</td>\n",
       "      <td>The final rate code in effect at the end of th...</td>\n",
       "    </tr>\n",
       "    <tr>\n",
       "      <th>15</th>\n",
       "      <td>NaN</td>\n",
       "      <td>NaN</td>\n",
       "    </tr>\n",
       "    <tr>\n",
       "      <th>16</th>\n",
       "      <td>NaN</td>\n",
       "      <td>1= Standard rate</td>\n",
       "    </tr>\n",
       "    <tr>\n",
       "      <th>17</th>\n",
       "      <td>NaN</td>\n",
       "      <td>NaN</td>\n",
       "    </tr>\n",
       "    <tr>\n",
       "      <th>18</th>\n",
       "      <td>NaN</td>\n",
       "      <td>2=JFK</td>\n",
       "    </tr>\n",
       "    <tr>\n",
       "      <th>19</th>\n",
       "      <td>NaN</td>\n",
       "      <td>NaN</td>\n",
       "    </tr>\n",
       "    <tr>\n",
       "      <th>20</th>\n",
       "      <td>NaN</td>\n",
       "      <td>3=Newark</td>\n",
       "    </tr>\n",
       "    <tr>\n",
       "      <th>21</th>\n",
       "      <td>NaN</td>\n",
       "      <td>NaN</td>\n",
       "    </tr>\n",
       "    <tr>\n",
       "      <th>22</th>\n",
       "      <td>NaN</td>\n",
       "      <td>4=Nassau or Westchester</td>\n",
       "    </tr>\n",
       "    <tr>\n",
       "      <th>23</th>\n",
       "      <td>NaN</td>\n",
       "      <td>NaN</td>\n",
       "    </tr>\n",
       "    <tr>\n",
       "      <th>24</th>\n",
       "      <td>NaN</td>\n",
       "      <td>5=Negotiated fare</td>\n",
       "    </tr>\n",
       "    <tr>\n",
       "      <th>25</th>\n",
       "      <td>NaN</td>\n",
       "      <td>NaN</td>\n",
       "    </tr>\n",
       "    <tr>\n",
       "      <th>26</th>\n",
       "      <td>NaN</td>\n",
       "      <td>6=Group ride</td>\n",
       "    </tr>\n",
       "    <tr>\n",
       "      <th>27</th>\n",
       "      <td>Store_and_fwd_flag</td>\n",
       "      <td>This flag indicates whether the trip record wa...</td>\n",
       "    </tr>\n",
       "    <tr>\n",
       "      <th>28</th>\n",
       "      <td>NaN</td>\n",
       "      <td>NaN</td>\n",
       "    </tr>\n",
       "    <tr>\n",
       "      <th>29</th>\n",
       "      <td>NaN</td>\n",
       "      <td>Y= store and forward trip</td>\n",
       "    </tr>\n",
       "    <tr>\n",
       "      <th>30</th>\n",
       "      <td>NaN</td>\n",
       "      <td>NaN</td>\n",
       "    </tr>\n",
       "    <tr>\n",
       "      <th>31</th>\n",
       "      <td>NaN</td>\n",
       "      <td>N= not a store and forward trip</td>\n",
       "    </tr>\n",
       "    <tr>\n",
       "      <th>32</th>\n",
       "      <td>Payment_type</td>\n",
       "      <td>A numeric code signifying how the passenger pa...</td>\n",
       "    </tr>\n",
       "    <tr>\n",
       "      <th>33</th>\n",
       "      <td>NaN</td>\n",
       "      <td>NaN</td>\n",
       "    </tr>\n",
       "    <tr>\n",
       "      <th>34</th>\n",
       "      <td>NaN</td>\n",
       "      <td>1= Credit card</td>\n",
       "    </tr>\n",
       "    <tr>\n",
       "      <th>35</th>\n",
       "      <td>NaN</td>\n",
       "      <td>NaN</td>\n",
       "    </tr>\n",
       "    <tr>\n",
       "      <th>36</th>\n",
       "      <td>NaN</td>\n",
       "      <td>2= Cash</td>\n",
       "    </tr>\n",
       "    <tr>\n",
       "      <th>37</th>\n",
       "      <td>NaN</td>\n",
       "      <td>NaN</td>\n",
       "    </tr>\n",
       "    <tr>\n",
       "      <th>38</th>\n",
       "      <td>NaN</td>\n",
       "      <td>3= No charge</td>\n",
       "    </tr>\n",
       "    <tr>\n",
       "      <th>39</th>\n",
       "      <td>NaN</td>\n",
       "      <td>NaN</td>\n",
       "    </tr>\n",
       "    <tr>\n",
       "      <th>40</th>\n",
       "      <td>NaN</td>\n",
       "      <td>4= Dispute</td>\n",
       "    </tr>\n",
       "    <tr>\n",
       "      <th>41</th>\n",
       "      <td>NaN</td>\n",
       "      <td>NaN</td>\n",
       "    </tr>\n",
       "    <tr>\n",
       "      <th>42</th>\n",
       "      <td>NaN</td>\n",
       "      <td>5= Unknown</td>\n",
       "    </tr>\n",
       "    <tr>\n",
       "      <th>43</th>\n",
       "      <td>NaN</td>\n",
       "      <td>NaN</td>\n",
       "    </tr>\n",
       "    <tr>\n",
       "      <th>44</th>\n",
       "      <td>NaN</td>\n",
       "      <td>6= Voided trip</td>\n",
       "    </tr>\n",
       "    <tr>\n",
       "      <th>45</th>\n",
       "      <td>Fare_amount</td>\n",
       "      <td>The time-and-distance fare calculated by the m...</td>\n",
       "    </tr>\n",
       "    <tr>\n",
       "      <th>46</th>\n",
       "      <td>Extra</td>\n",
       "      <td>Miscellaneous extras and surcharges. Currently...</td>\n",
       "    </tr>\n",
       "    <tr>\n",
       "      <th>47</th>\n",
       "      <td>MTA_tax</td>\n",
       "      <td>$0.50 MTA tax that is automatically triggered ...</td>\n",
       "    </tr>\n",
       "    <tr>\n",
       "      <th>48</th>\n",
       "      <td>Improvement_surcharge</td>\n",
       "      <td>$0.30 improvement surcharge assessed trips at ...</td>\n",
       "    </tr>\n",
       "    <tr>\n",
       "      <th>49</th>\n",
       "      <td>Tip_amount</td>\n",
       "      <td>Tip amount – This field is automatically popul...</td>\n",
       "    </tr>\n",
       "    <tr>\n",
       "      <th>50</th>\n",
       "      <td>Tolls_amount</td>\n",
       "      <td>Total amount of all tolls paid in trip.</td>\n",
       "    </tr>\n",
       "    <tr>\n",
       "      <th>51</th>\n",
       "      <td>Total_amount</td>\n",
       "      <td>The total amount charged to passengers. Does n...</td>\n",
       "    </tr>\n",
       "  </tbody>\n",
       "</table>\n",
       "</div>"
      ],
      "text/plain": [
       "               Column name                                        Description\n",
       "0                       ID                         Trip identification number\n",
       "1                 VendorID  A code indicating the TPEP provider that provi...\n",
       "2                      NaN                                                NaN\n",
       "3                      NaN             1= Creative Mobile Technologies, LLC; \n",
       "4                      NaN                                                NaN\n",
       "5                      NaN                                   2= VeriFone Inc.\n",
       "6    tpep_pickup_datetime      The date and time when the meter was engaged. \n",
       "7   tpep_dropoff_datetime   The date and time when the meter was disengaged. \n",
       "8         Passenger_count          The number of passengers in the vehicle.  \n",
       "9                      NaN                                                NaN\n",
       "10                     NaN                    This is a driver-entered value.\n",
       "11          Trip_distance   The elapsed trip distance in miles reported by...\n",
       "12           PULocationID    TLC Taxi Zone in which the taximeter was engaged\n",
       "13           DOLocationID   TLC Taxi Zone in which the taximeter was disen...\n",
       "14             RateCodeID   The final rate code in effect at the end of th...\n",
       "15                     NaN                                                NaN\n",
       "16                     NaN                                  1= Standard rate \n",
       "17                     NaN                                                NaN\n",
       "18                     NaN                                             2=JFK \n",
       "19                     NaN                                                NaN\n",
       "20                     NaN                                          3=Newark \n",
       "21                     NaN                                                NaN\n",
       "22                     NaN                           4=Nassau or Westchester \n",
       "23                     NaN                                                NaN\n",
       "24                     NaN                                 5=Negotiated fare \n",
       "25                     NaN                                                NaN\n",
       "26                     NaN                                       6=Group ride\n",
       "27     Store_and_fwd_flag   This flag indicates whether the trip record wa...\n",
       "28                     NaN                                                NaN\n",
       "29                     NaN                         Y= store and forward trip \n",
       "30                     NaN                                                NaN\n",
       "31                     NaN                    N= not a store and forward trip\n",
       "32           Payment_type   A numeric code signifying how the passenger pa...\n",
       "33                     NaN                                                NaN\n",
       "34                     NaN                                    1= Credit card \n",
       "35                     NaN                                                NaN\n",
       "36                     NaN                                           2= Cash \n",
       "37                     NaN                                                NaN\n",
       "38                     NaN                                      3= No charge \n",
       "39                     NaN                                                NaN\n",
       "40                     NaN                                        4= Dispute \n",
       "41                     NaN                                                NaN\n",
       "42                     NaN                                        5= Unknown \n",
       "43                     NaN                                                NaN\n",
       "44                     NaN                                     6= Voided trip\n",
       "45            Fare_amount   The time-and-distance fare calculated by the m...\n",
       "46                  Extra   Miscellaneous extras and surcharges. Currently...\n",
       "47                MTA_tax   $0.50 MTA tax that is automatically triggered ...\n",
       "48  Improvement_surcharge   $0.30 improvement surcharge assessed trips at ...\n",
       "49             Tip_amount   Tip amount – This field is automatically popul...\n",
       "50           Tolls_amount            Total amount of all tolls paid in trip. \n",
       "51           Total_amount   The total amount charged to passengers. Does n..."
      ]
     },
     "execution_count": 4,
     "metadata": {},
     "output_type": "execute_result"
    }
   ],
   "source": [
    "data_dictionary"
   ]
  },
  {
   "cell_type": "code",
   "execution_count": 5,
   "id": "67ac3e72",
   "metadata": {},
   "outputs": [
    {
     "data": {
      "text/html": [
       "<div>\n",
       "<style scoped>\n",
       "    .dataframe tbody tr th:only-of-type {\n",
       "        vertical-align: middle;\n",
       "    }\n",
       "\n",
       "    .dataframe tbody tr th {\n",
       "        vertical-align: top;\n",
       "    }\n",
       "\n",
       "    .dataframe thead th {\n",
       "        text-align: right;\n",
       "    }\n",
       "</style>\n",
       "<table border=\"1\" class=\"dataframe\">\n",
       "  <thead>\n",
       "    <tr style=\"text-align: right;\">\n",
       "      <th></th>\n",
       "      <th>Unnamed: 0</th>\n",
       "      <th>VendorID</th>\n",
       "      <th>tpep_pickup_datetime</th>\n",
       "      <th>tpep_dropoff_datetime</th>\n",
       "      <th>passenger_count</th>\n",
       "      <th>trip_distance</th>\n",
       "      <th>RatecodeID</th>\n",
       "      <th>store_and_fwd_flag</th>\n",
       "      <th>PULocationID</th>\n",
       "      <th>DOLocationID</th>\n",
       "      <th>payment_type</th>\n",
       "      <th>fare_amount</th>\n",
       "      <th>extra</th>\n",
       "      <th>mta_tax</th>\n",
       "      <th>tip_amount</th>\n",
       "      <th>tolls_amount</th>\n",
       "      <th>improvement_surcharge</th>\n",
       "      <th>total_amount</th>\n",
       "    </tr>\n",
       "  </thead>\n",
       "  <tbody>\n",
       "    <tr>\n",
       "      <th>0</th>\n",
       "      <td>24870114</td>\n",
       "      <td>2</td>\n",
       "      <td>03/25/2017 8:55:43 AM</td>\n",
       "      <td>03/25/2017 9:09:47 AM</td>\n",
       "      <td>6</td>\n",
       "      <td>3.34</td>\n",
       "      <td>1</td>\n",
       "      <td>N</td>\n",
       "      <td>100</td>\n",
       "      <td>231</td>\n",
       "      <td>1</td>\n",
       "      <td>13.0</td>\n",
       "      <td>0.0</td>\n",
       "      <td>0.5</td>\n",
       "      <td>2.76</td>\n",
       "      <td>0.0</td>\n",
       "      <td>0.3</td>\n",
       "      <td>16.56</td>\n",
       "    </tr>\n",
       "    <tr>\n",
       "      <th>1</th>\n",
       "      <td>35634249</td>\n",
       "      <td>1</td>\n",
       "      <td>04/11/2017 2:53:28 PM</td>\n",
       "      <td>04/11/2017 3:19:58 PM</td>\n",
       "      <td>1</td>\n",
       "      <td>1.80</td>\n",
       "      <td>1</td>\n",
       "      <td>N</td>\n",
       "      <td>186</td>\n",
       "      <td>43</td>\n",
       "      <td>1</td>\n",
       "      <td>16.0</td>\n",
       "      <td>0.0</td>\n",
       "      <td>0.5</td>\n",
       "      <td>4.00</td>\n",
       "      <td>0.0</td>\n",
       "      <td>0.3</td>\n",
       "      <td>20.80</td>\n",
       "    </tr>\n",
       "    <tr>\n",
       "      <th>2</th>\n",
       "      <td>106203690</td>\n",
       "      <td>1</td>\n",
       "      <td>12/15/2017 7:26:56 AM</td>\n",
       "      <td>12/15/2017 7:34:08 AM</td>\n",
       "      <td>1</td>\n",
       "      <td>1.00</td>\n",
       "      <td>1</td>\n",
       "      <td>N</td>\n",
       "      <td>262</td>\n",
       "      <td>236</td>\n",
       "      <td>1</td>\n",
       "      <td>6.5</td>\n",
       "      <td>0.0</td>\n",
       "      <td>0.5</td>\n",
       "      <td>1.45</td>\n",
       "      <td>0.0</td>\n",
       "      <td>0.3</td>\n",
       "      <td>8.75</td>\n",
       "    </tr>\n",
       "    <tr>\n",
       "      <th>3</th>\n",
       "      <td>38942136</td>\n",
       "      <td>2</td>\n",
       "      <td>05/07/2017 1:17:59 PM</td>\n",
       "      <td>05/07/2017 1:48:14 PM</td>\n",
       "      <td>1</td>\n",
       "      <td>3.70</td>\n",
       "      <td>1</td>\n",
       "      <td>N</td>\n",
       "      <td>188</td>\n",
       "      <td>97</td>\n",
       "      <td>1</td>\n",
       "      <td>20.5</td>\n",
       "      <td>0.0</td>\n",
       "      <td>0.5</td>\n",
       "      <td>6.39</td>\n",
       "      <td>0.0</td>\n",
       "      <td>0.3</td>\n",
       "      <td>27.69</td>\n",
       "    </tr>\n",
       "    <tr>\n",
       "      <th>4</th>\n",
       "      <td>30841670</td>\n",
       "      <td>2</td>\n",
       "      <td>04/15/2017 11:32:20 PM</td>\n",
       "      <td>04/15/2017 11:49:03 PM</td>\n",
       "      <td>1</td>\n",
       "      <td>4.37</td>\n",
       "      <td>1</td>\n",
       "      <td>N</td>\n",
       "      <td>4</td>\n",
       "      <td>112</td>\n",
       "      <td>2</td>\n",
       "      <td>16.5</td>\n",
       "      <td>0.5</td>\n",
       "      <td>0.5</td>\n",
       "      <td>0.00</td>\n",
       "      <td>0.0</td>\n",
       "      <td>0.3</td>\n",
       "      <td>17.80</td>\n",
       "    </tr>\n",
       "  </tbody>\n",
       "</table>\n",
       "</div>"
      ],
      "text/plain": [
       "   Unnamed: 0  VendorID    tpep_pickup_datetime   tpep_dropoff_datetime  \\\n",
       "0    24870114         2   03/25/2017 8:55:43 AM   03/25/2017 9:09:47 AM   \n",
       "1    35634249         1   04/11/2017 2:53:28 PM   04/11/2017 3:19:58 PM   \n",
       "2   106203690         1   12/15/2017 7:26:56 AM   12/15/2017 7:34:08 AM   \n",
       "3    38942136         2   05/07/2017 1:17:59 PM   05/07/2017 1:48:14 PM   \n",
       "4    30841670         2  04/15/2017 11:32:20 PM  04/15/2017 11:49:03 PM   \n",
       "\n",
       "   passenger_count  trip_distance  RatecodeID store_and_fwd_flag  \\\n",
       "0                6           3.34           1                  N   \n",
       "1                1           1.80           1                  N   \n",
       "2                1           1.00           1                  N   \n",
       "3                1           3.70           1                  N   \n",
       "4                1           4.37           1                  N   \n",
       "\n",
       "   PULocationID  DOLocationID  payment_type  fare_amount  extra  mta_tax  \\\n",
       "0           100           231             1         13.0    0.0      0.5   \n",
       "1           186            43             1         16.0    0.0      0.5   \n",
       "2           262           236             1          6.5    0.0      0.5   \n",
       "3           188            97             1         20.5    0.0      0.5   \n",
       "4             4           112             2         16.5    0.5      0.5   \n",
       "\n",
       "   tip_amount  tolls_amount  improvement_surcharge  total_amount  \n",
       "0        2.76           0.0                    0.3         16.56  \n",
       "1        4.00           0.0                    0.3         20.80  \n",
       "2        1.45           0.0                    0.3          8.75  \n",
       "3        6.39           0.0                    0.3         27.69  \n",
       "4        0.00           0.0                    0.3         17.80  "
      ]
     },
     "execution_count": 5,
     "metadata": {},
     "output_type": "execute_result"
    }
   ],
   "source": [
    "df.head()"
   ]
  },
  {
   "cell_type": "code",
   "execution_count": 6,
   "id": "1d3ea946",
   "metadata": {},
   "outputs": [
    {
     "data": {
      "text/html": [
       "<div>\n",
       "<style scoped>\n",
       "    .dataframe tbody tr th:only-of-type {\n",
       "        vertical-align: middle;\n",
       "    }\n",
       "\n",
       "    .dataframe tbody tr th {\n",
       "        vertical-align: top;\n",
       "    }\n",
       "\n",
       "    .dataframe thead th {\n",
       "        text-align: right;\n",
       "    }\n",
       "</style>\n",
       "<table border=\"1\" class=\"dataframe\">\n",
       "  <thead>\n",
       "    <tr style=\"text-align: right;\">\n",
       "      <th></th>\n",
       "      <th>Unnamed: 0</th>\n",
       "      <th>VendorID</th>\n",
       "      <th>passenger_count</th>\n",
       "      <th>trip_distance</th>\n",
       "      <th>RatecodeID</th>\n",
       "      <th>PULocationID</th>\n",
       "      <th>DOLocationID</th>\n",
       "      <th>payment_type</th>\n",
       "      <th>fare_amount</th>\n",
       "      <th>extra</th>\n",
       "      <th>mta_tax</th>\n",
       "      <th>tip_amount</th>\n",
       "      <th>tolls_amount</th>\n",
       "      <th>improvement_surcharge</th>\n",
       "      <th>total_amount</th>\n",
       "    </tr>\n",
       "  </thead>\n",
       "  <tbody>\n",
       "    <tr>\n",
       "      <th>count</th>\n",
       "      <td>2.269900e+04</td>\n",
       "      <td>22699.000000</td>\n",
       "      <td>22699.000000</td>\n",
       "      <td>22699.000000</td>\n",
       "      <td>22699.000000</td>\n",
       "      <td>22699.000000</td>\n",
       "      <td>22699.000000</td>\n",
       "      <td>22699.000000</td>\n",
       "      <td>22699.000000</td>\n",
       "      <td>22699.000000</td>\n",
       "      <td>22699.000000</td>\n",
       "      <td>22699.000000</td>\n",
       "      <td>22699.000000</td>\n",
       "      <td>22699.000000</td>\n",
       "      <td>22699.000000</td>\n",
       "    </tr>\n",
       "    <tr>\n",
       "      <th>mean</th>\n",
       "      <td>5.675849e+07</td>\n",
       "      <td>1.556236</td>\n",
       "      <td>1.642319</td>\n",
       "      <td>2.913313</td>\n",
       "      <td>1.043394</td>\n",
       "      <td>162.412353</td>\n",
       "      <td>161.527997</td>\n",
       "      <td>1.336887</td>\n",
       "      <td>13.026629</td>\n",
       "      <td>0.333275</td>\n",
       "      <td>0.497445</td>\n",
       "      <td>1.835781</td>\n",
       "      <td>0.312542</td>\n",
       "      <td>0.299551</td>\n",
       "      <td>16.310502</td>\n",
       "    </tr>\n",
       "    <tr>\n",
       "      <th>std</th>\n",
       "      <td>3.274493e+07</td>\n",
       "      <td>0.496838</td>\n",
       "      <td>1.285231</td>\n",
       "      <td>3.653171</td>\n",
       "      <td>0.708391</td>\n",
       "      <td>66.633373</td>\n",
       "      <td>70.139691</td>\n",
       "      <td>0.496211</td>\n",
       "      <td>13.243791</td>\n",
       "      <td>0.463097</td>\n",
       "      <td>0.039465</td>\n",
       "      <td>2.800626</td>\n",
       "      <td>1.399212</td>\n",
       "      <td>0.015673</td>\n",
       "      <td>16.097295</td>\n",
       "    </tr>\n",
       "    <tr>\n",
       "      <th>min</th>\n",
       "      <td>1.212700e+04</td>\n",
       "      <td>1.000000</td>\n",
       "      <td>0.000000</td>\n",
       "      <td>0.000000</td>\n",
       "      <td>1.000000</td>\n",
       "      <td>1.000000</td>\n",
       "      <td>1.000000</td>\n",
       "      <td>1.000000</td>\n",
       "      <td>-120.000000</td>\n",
       "      <td>-1.000000</td>\n",
       "      <td>-0.500000</td>\n",
       "      <td>0.000000</td>\n",
       "      <td>0.000000</td>\n",
       "      <td>-0.300000</td>\n",
       "      <td>-120.300000</td>\n",
       "    </tr>\n",
       "    <tr>\n",
       "      <th>25%</th>\n",
       "      <td>2.852056e+07</td>\n",
       "      <td>1.000000</td>\n",
       "      <td>1.000000</td>\n",
       "      <td>0.990000</td>\n",
       "      <td>1.000000</td>\n",
       "      <td>114.000000</td>\n",
       "      <td>112.000000</td>\n",
       "      <td>1.000000</td>\n",
       "      <td>6.500000</td>\n",
       "      <td>0.000000</td>\n",
       "      <td>0.500000</td>\n",
       "      <td>0.000000</td>\n",
       "      <td>0.000000</td>\n",
       "      <td>0.300000</td>\n",
       "      <td>8.750000</td>\n",
       "    </tr>\n",
       "    <tr>\n",
       "      <th>50%</th>\n",
       "      <td>5.673150e+07</td>\n",
       "      <td>2.000000</td>\n",
       "      <td>1.000000</td>\n",
       "      <td>1.610000</td>\n",
       "      <td>1.000000</td>\n",
       "      <td>162.000000</td>\n",
       "      <td>162.000000</td>\n",
       "      <td>1.000000</td>\n",
       "      <td>9.500000</td>\n",
       "      <td>0.000000</td>\n",
       "      <td>0.500000</td>\n",
       "      <td>1.350000</td>\n",
       "      <td>0.000000</td>\n",
       "      <td>0.300000</td>\n",
       "      <td>11.800000</td>\n",
       "    </tr>\n",
       "    <tr>\n",
       "      <th>75%</th>\n",
       "      <td>8.537452e+07</td>\n",
       "      <td>2.000000</td>\n",
       "      <td>2.000000</td>\n",
       "      <td>3.060000</td>\n",
       "      <td>1.000000</td>\n",
       "      <td>233.000000</td>\n",
       "      <td>233.000000</td>\n",
       "      <td>2.000000</td>\n",
       "      <td>14.500000</td>\n",
       "      <td>0.500000</td>\n",
       "      <td>0.500000</td>\n",
       "      <td>2.450000</td>\n",
       "      <td>0.000000</td>\n",
       "      <td>0.300000</td>\n",
       "      <td>17.800000</td>\n",
       "    </tr>\n",
       "    <tr>\n",
       "      <th>max</th>\n",
       "      <td>1.134863e+08</td>\n",
       "      <td>2.000000</td>\n",
       "      <td>6.000000</td>\n",
       "      <td>33.960000</td>\n",
       "      <td>99.000000</td>\n",
       "      <td>265.000000</td>\n",
       "      <td>265.000000</td>\n",
       "      <td>4.000000</td>\n",
       "      <td>999.990000</td>\n",
       "      <td>4.500000</td>\n",
       "      <td>0.500000</td>\n",
       "      <td>200.000000</td>\n",
       "      <td>19.100000</td>\n",
       "      <td>0.300000</td>\n",
       "      <td>1200.290000</td>\n",
       "    </tr>\n",
       "  </tbody>\n",
       "</table>\n",
       "</div>"
      ],
      "text/plain": [
       "         Unnamed: 0      VendorID  passenger_count  trip_distance  \\\n",
       "count  2.269900e+04  22699.000000     22699.000000   22699.000000   \n",
       "mean   5.675849e+07      1.556236         1.642319       2.913313   \n",
       "std    3.274493e+07      0.496838         1.285231       3.653171   \n",
       "min    1.212700e+04      1.000000         0.000000       0.000000   \n",
       "25%    2.852056e+07      1.000000         1.000000       0.990000   \n",
       "50%    5.673150e+07      2.000000         1.000000       1.610000   \n",
       "75%    8.537452e+07      2.000000         2.000000       3.060000   \n",
       "max    1.134863e+08      2.000000         6.000000      33.960000   \n",
       "\n",
       "         RatecodeID  PULocationID  DOLocationID  payment_type   fare_amount  \\\n",
       "count  22699.000000  22699.000000  22699.000000  22699.000000  22699.000000   \n",
       "mean       1.043394    162.412353    161.527997      1.336887     13.026629   \n",
       "std        0.708391     66.633373     70.139691      0.496211     13.243791   \n",
       "min        1.000000      1.000000      1.000000      1.000000   -120.000000   \n",
       "25%        1.000000    114.000000    112.000000      1.000000      6.500000   \n",
       "50%        1.000000    162.000000    162.000000      1.000000      9.500000   \n",
       "75%        1.000000    233.000000    233.000000      2.000000     14.500000   \n",
       "max       99.000000    265.000000    265.000000      4.000000    999.990000   \n",
       "\n",
       "              extra       mta_tax    tip_amount  tolls_amount  \\\n",
       "count  22699.000000  22699.000000  22699.000000  22699.000000   \n",
       "mean       0.333275      0.497445      1.835781      0.312542   \n",
       "std        0.463097      0.039465      2.800626      1.399212   \n",
       "min       -1.000000     -0.500000      0.000000      0.000000   \n",
       "25%        0.000000      0.500000      0.000000      0.000000   \n",
       "50%        0.000000      0.500000      1.350000      0.000000   \n",
       "75%        0.500000      0.500000      2.450000      0.000000   \n",
       "max        4.500000      0.500000    200.000000     19.100000   \n",
       "\n",
       "       improvement_surcharge  total_amount  \n",
       "count           22699.000000  22699.000000  \n",
       "mean                0.299551     16.310502  \n",
       "std                 0.015673     16.097295  \n",
       "min                -0.300000   -120.300000  \n",
       "25%                 0.300000      8.750000  \n",
       "50%                 0.300000     11.800000  \n",
       "75%                 0.300000     17.800000  \n",
       "max                 0.300000   1200.290000  "
      ]
     },
     "execution_count": 6,
     "metadata": {},
     "output_type": "execute_result"
    }
   ],
   "source": [
    "df.describe()"
   ]
  },
  {
   "cell_type": "code",
   "execution_count": 7,
   "id": "7d4f40ba",
   "metadata": {},
   "outputs": [],
   "source": [
    "df = df.drop(['RatecodeID','store_and_fwd_flag','extra','mta_tax','improvement_surcharge'],axis=1)"
   ]
  },
  {
   "cell_type": "code",
   "execution_count": 8,
   "id": "16ddb1fd",
   "metadata": {},
   "outputs": [],
   "source": [
    "date_cols = df[['tpep_pickup_datetime','tpep_dropoff_datetime']]"
   ]
  },
  {
   "cell_type": "code",
   "execution_count": 10,
   "id": "5dcf5ced",
   "metadata": {},
   "outputs": [],
   "source": [
    "for i in date_cols:\n",
    "    df[i] = pd.to_datetime(df[i])"
   ]
  },
  {
   "cell_type": "code",
   "execution_count": 11,
   "id": "d2a1c053",
   "metadata": {},
   "outputs": [],
   "source": [
    "df['pickup_hour'] = df['tpep_pickup_datetime'].dt.hour"
   ]
  },
  {
   "cell_type": "code",
   "execution_count": 12,
   "id": "dc8a1bfb",
   "metadata": {},
   "outputs": [
    {
     "data": {
      "text/plain": [
       "19    1454\n",
       "18    1449\n",
       "20    1295\n",
       "21    1281\n",
       "14    1224\n",
       "17    1216\n",
       "22    1213\n",
       "15    1167\n",
       "16    1132\n",
       "13    1127\n",
       "12    1114\n",
       "9     1112\n",
       "11    1088\n",
       "10    1040\n",
       "8     1020\n",
       "23    1006\n",
       "7      857\n",
       "0      737\n",
       "1      525\n",
       "6      499\n",
       "2      386\n",
       "3      287\n",
       "4      235\n",
       "5      235\n",
       "Name: pickup_hour, dtype: int64"
      ]
     },
     "execution_count": 12,
     "metadata": {},
     "output_type": "execute_result"
    }
   ],
   "source": [
    "df['pickup_hour'].value_counts()"
   ]
  },
  {
   "cell_type": "code",
   "execution_count": 13,
   "id": "c3b8e2ca",
   "metadata": {},
   "outputs": [],
   "source": [
    "df['duration_minutes'] = (df['tpep_dropoff_datetime'] - df['tpep_pickup_datetime'])/np.timedelta64(1,'m')\n",
    "df_period0 = df[df['duration_minutes']== 0 ]"
   ]
  },
  {
   "cell_type": "code",
   "execution_count": 14,
   "id": "3d3143ec",
   "metadata": {},
   "outputs": [],
   "source": [
    "df.loc[df['duration_minutes'] < 0,'duration_minutes'] = 0"
   ]
  },
  {
   "cell_type": "code",
   "execution_count": 15,
   "id": "4abd5ffe",
   "metadata": {},
   "outputs": [
    {
     "name": "stdout",
     "output_type": "stream",
     "text": [
      "314       -3.8\n",
      "1646      -3.3\n",
      "4423      -4.3\n",
      "5448      -4.3\n",
      "5758      -3.8\n",
      "8204      -4.8\n",
      "10281     -4.3\n",
      "11204     -5.3\n",
      "12944   -120.3\n",
      "14714     -5.3\n",
      "17602     -5.8\n",
      "18565     -3.8\n",
      "20317     -4.8\n",
      "20698     -5.8\n",
      "Name: total_amount, dtype: float64\n",
      "314       -2.5\n",
      "1646      -2.5\n",
      "4423      -3.0\n",
      "5448      -3.5\n",
      "5758      -2.5\n",
      "8204      -3.5\n",
      "10281     -2.5\n",
      "11204     -4.5\n",
      "12944   -120.0\n",
      "14714     -4.0\n",
      "17602     -4.0\n",
      "18565     -3.0\n",
      "20317     -3.5\n",
      "20698     -4.5\n",
      "Name: fare_amount, dtype: float64\n"
     ]
    }
   ],
   "source": [
    "print(df.loc[df['total_amount'] < 0,'total_amount'])\n",
    "print(df.loc[df['fare_amount'] < 0,'fare_amount'])"
   ]
  },
  {
   "cell_type": "code",
   "execution_count": 16,
   "id": "d0532fac",
   "metadata": {},
   "outputs": [],
   "source": [
    "df = df.drop(df[df['fare_amount']<0]['fare_amount'].index)"
   ]
  },
  {
   "cell_type": "code",
   "execution_count": 17,
   "id": "14b829d4",
   "metadata": {},
   "outputs": [],
   "source": [
    "def outlier(cols,iqr_factor):\n",
    "\n",
    "    for col in cols:\n",
    "        df.loc[df[col] < 0 ,col] = 0\n",
    "    \n",
    "        q1 = df[col].quantile(0.25)\n",
    "        q3 = df[col].quantile(0.75)\n",
    "        iqr = q3-q1\n",
    "        upper = q3 + iqr*iqr_factor\n",
    "        df.loc[df[col] > upper,col] = upper\n",
    "        print(df[col].describe())"
   ]
  },
  {
   "cell_type": "code",
   "execution_count": 18,
   "id": "ab328cc7",
   "metadata": {},
   "outputs": [
    {
     "name": "stdout",
     "output_type": "stream",
     "text": [
      "count    22685.000000\n",
      "mean        12.943362\n",
      "std         10.737644\n",
      "min          0.000000\n",
      "25%          6.500000\n",
      "50%          9.500000\n",
      "75%         14.500000\n",
      "max         78.500000\n",
      "Name: fare_amount, dtype: float64\n",
      "count    22685.000000\n",
      "mean        16.202658\n",
      "std         13.231729\n",
      "min          0.000000\n",
      "25%          8.750000\n",
      "50%         11.800000\n",
      "75%         17.800000\n",
      "max         90.200000\n",
      "Name: total_amount, dtype: float64\n",
      "count    22685.000000\n",
      "mean        14.523675\n",
      "std         12.352746\n",
      "min          0.000000\n",
      "25%          6.666667\n",
      "50%         11.183333\n",
      "75%         18.383333\n",
      "max        112.116667\n",
      "Name: duration_minutes, dtype: float64\n"
     ]
    }
   ],
   "source": [
    "outlier(['fare_amount','total_amount','duration_minutes'],8)"
   ]
  },
  {
   "cell_type": "code",
   "execution_count": 19,
   "id": "49732f61",
   "metadata": {},
   "outputs": [],
   "source": [
    "df['day'] = df['tpep_pickup_datetime'].dt.day_name()\n",
    "df['month'] = df['tpep_pickup_datetime'].dt.month_name()"
   ]
  },
  {
   "cell_type": "code",
   "execution_count": 20,
   "id": "9a1cb3b4",
   "metadata": {},
   "outputs": [
    {
     "name": "stdout",
     "output_type": "stream",
     "text": [
      "Unnamed: 0               147\n",
      "VendorID                 147\n",
      "tpep_pickup_datetime     147\n",
      "tpep_dropoff_datetime    147\n",
      "passenger_count          147\n",
      "trip_distance            147\n",
      "PULocationID             147\n",
      "DOLocationID             147\n",
      "payment_type             147\n",
      "fare_amount              147\n",
      "tip_amount               147\n",
      "tolls_amount             147\n",
      "total_amount             147\n",
      "pickup_hour              147\n",
      "duration_minutes         147\n",
      "day                      147\n",
      "month                    147\n",
      "dtype: int64\n"
     ]
    }
   ],
   "source": [
    "df_distance0 = df[df['trip_distance'] == 0]\n",
    "print(df[df['trip_distance']==0].count())"
   ]
  },
  {
   "cell_type": "code",
   "execution_count": 21,
   "id": "d43ef82a",
   "metadata": {},
   "outputs": [
    {
     "data": {
      "text/plain": [
       "Unnamed: 0               0\n",
       "VendorID                 0\n",
       "tpep_pickup_datetime     0\n",
       "tpep_dropoff_datetime    0\n",
       "passenger_count          0\n",
       "trip_distance            0\n",
       "PULocationID             0\n",
       "DOLocationID             0\n",
       "payment_type             0\n",
       "fare_amount              0\n",
       "tip_amount               0\n",
       "tolls_amount             0\n",
       "total_amount             0\n",
       "pickup_hour              0\n",
       "duration_minutes         0\n",
       "day                      0\n",
       "month                    0\n",
       "dtype: int64"
      ]
     },
     "execution_count": 21,
     "metadata": {},
     "output_type": "execute_result"
    }
   ],
   "source": [
    "df.isna().sum()"
   ]
  },
  {
   "cell_type": "code",
   "execution_count": 22,
   "id": "3988faf1",
   "metadata": {},
   "outputs": [
    {
     "name": "stdout",
     "output_type": "stream",
     "text": [
      "<class 'pandas.core.frame.DataFrame'>\n",
      "Int64Index: 22685 entries, 0 to 22698\n",
      "Data columns (total 17 columns):\n",
      " #   Column                 Non-Null Count  Dtype         \n",
      "---  ------                 --------------  -----         \n",
      " 0   Unnamed: 0             22685 non-null  int64         \n",
      " 1   VendorID               22685 non-null  int64         \n",
      " 2   tpep_pickup_datetime   22685 non-null  datetime64[ns]\n",
      " 3   tpep_dropoff_datetime  22685 non-null  datetime64[ns]\n",
      " 4   passenger_count        22685 non-null  int64         \n",
      " 5   trip_distance          22685 non-null  float64       \n",
      " 6   PULocationID           22685 non-null  int64         \n",
      " 7   DOLocationID           22685 non-null  int64         \n",
      " 8   payment_type           22685 non-null  int64         \n",
      " 9   fare_amount            22685 non-null  float64       \n",
      " 10  tip_amount             22685 non-null  float64       \n",
      " 11  tolls_amount           22685 non-null  float64       \n",
      " 12  total_amount           22685 non-null  float64       \n",
      " 13  pickup_hour            22685 non-null  int64         \n",
      " 14  duration_minutes       22685 non-null  float64       \n",
      " 15  day                    22685 non-null  object        \n",
      " 16  month                  22685 non-null  object        \n",
      "dtypes: datetime64[ns](2), float64(6), int64(7), object(2)\n",
      "memory usage: 3.1+ MB\n"
     ]
    }
   ],
   "source": [
    "df.info()"
   ]
  },
  {
   "cell_type": "code",
   "execution_count": 23,
   "id": "39cd59b7",
   "metadata": {},
   "outputs": [
    {
     "name": "stderr",
     "output_type": "stream",
     "text": [
      "C:\\Users\\Ne\\AppData\\Local\\Temp/ipykernel_13476/2884002236.py:1: FutureWarning: Treating datetime data as categorical rather than numeric in `.describe` is deprecated and will be removed in a future version of pandas. Specify `datetime_is_numeric=True` to silence this warning and adopt the future behavior now.\n",
      "  df.describe(include='all')\n"
     ]
    },
    {
     "data": {
      "text/html": [
       "<div>\n",
       "<style scoped>\n",
       "    .dataframe tbody tr th:only-of-type {\n",
       "        vertical-align: middle;\n",
       "    }\n",
       "\n",
       "    .dataframe tbody tr th {\n",
       "        vertical-align: top;\n",
       "    }\n",
       "\n",
       "    .dataframe thead th {\n",
       "        text-align: right;\n",
       "    }\n",
       "</style>\n",
       "<table border=\"1\" class=\"dataframe\">\n",
       "  <thead>\n",
       "    <tr style=\"text-align: right;\">\n",
       "      <th></th>\n",
       "      <th>Unnamed: 0</th>\n",
       "      <th>VendorID</th>\n",
       "      <th>tpep_pickup_datetime</th>\n",
       "      <th>tpep_dropoff_datetime</th>\n",
       "      <th>passenger_count</th>\n",
       "      <th>trip_distance</th>\n",
       "      <th>PULocationID</th>\n",
       "      <th>DOLocationID</th>\n",
       "      <th>payment_type</th>\n",
       "      <th>fare_amount</th>\n",
       "      <th>tip_amount</th>\n",
       "      <th>tolls_amount</th>\n",
       "      <th>total_amount</th>\n",
       "      <th>pickup_hour</th>\n",
       "      <th>duration_minutes</th>\n",
       "      <th>day</th>\n",
       "      <th>month</th>\n",
       "    </tr>\n",
       "  </thead>\n",
       "  <tbody>\n",
       "    <tr>\n",
       "      <th>count</th>\n",
       "      <td>2.268500e+04</td>\n",
       "      <td>22685.000000</td>\n",
       "      <td>22685</td>\n",
       "      <td>22685</td>\n",
       "      <td>22685.000000</td>\n",
       "      <td>22685.000000</td>\n",
       "      <td>22685.000000</td>\n",
       "      <td>22685.000000</td>\n",
       "      <td>22685.000000</td>\n",
       "      <td>22685.000000</td>\n",
       "      <td>22685.000000</td>\n",
       "      <td>22685.000000</td>\n",
       "      <td>22685.000000</td>\n",
       "      <td>22685.000000</td>\n",
       "      <td>22685.000000</td>\n",
       "      <td>22685</td>\n",
       "      <td>22685</td>\n",
       "    </tr>\n",
       "    <tr>\n",
       "      <th>unique</th>\n",
       "      <td>NaN</td>\n",
       "      <td>NaN</td>\n",
       "      <td>22673</td>\n",
       "      <td>22674</td>\n",
       "      <td>NaN</td>\n",
       "      <td>NaN</td>\n",
       "      <td>NaN</td>\n",
       "      <td>NaN</td>\n",
       "      <td>NaN</td>\n",
       "      <td>NaN</td>\n",
       "      <td>NaN</td>\n",
       "      <td>NaN</td>\n",
       "      <td>NaN</td>\n",
       "      <td>NaN</td>\n",
       "      <td>NaN</td>\n",
       "      <td>7</td>\n",
       "      <td>12</td>\n",
       "    </tr>\n",
       "    <tr>\n",
       "      <th>top</th>\n",
       "      <td>NaN</td>\n",
       "      <td>NaN</td>\n",
       "      <td>2017-11-23 14:28:08</td>\n",
       "      <td>2017-11-15 11:20:56</td>\n",
       "      <td>NaN</td>\n",
       "      <td>NaN</td>\n",
       "      <td>NaN</td>\n",
       "      <td>NaN</td>\n",
       "      <td>NaN</td>\n",
       "      <td>NaN</td>\n",
       "      <td>NaN</td>\n",
       "      <td>NaN</td>\n",
       "      <td>NaN</td>\n",
       "      <td>NaN</td>\n",
       "      <td>NaN</td>\n",
       "      <td>Friday</td>\n",
       "      <td>March</td>\n",
       "    </tr>\n",
       "    <tr>\n",
       "      <th>freq</th>\n",
       "      <td>NaN</td>\n",
       "      <td>NaN</td>\n",
       "      <td>2</td>\n",
       "      <td>2</td>\n",
       "      <td>NaN</td>\n",
       "      <td>NaN</td>\n",
       "      <td>NaN</td>\n",
       "      <td>NaN</td>\n",
       "      <td>NaN</td>\n",
       "      <td>NaN</td>\n",
       "      <td>NaN</td>\n",
       "      <td>NaN</td>\n",
       "      <td>NaN</td>\n",
       "      <td>NaN</td>\n",
       "      <td>NaN</td>\n",
       "      <td>3411</td>\n",
       "      <td>2048</td>\n",
       "    </tr>\n",
       "    <tr>\n",
       "      <th>first</th>\n",
       "      <td>NaN</td>\n",
       "      <td>NaN</td>\n",
       "      <td>2017-01-01 00:08:25</td>\n",
       "      <td>2017-01-01 00:17:20</td>\n",
       "      <td>NaN</td>\n",
       "      <td>NaN</td>\n",
       "      <td>NaN</td>\n",
       "      <td>NaN</td>\n",
       "      <td>NaN</td>\n",
       "      <td>NaN</td>\n",
       "      <td>NaN</td>\n",
       "      <td>NaN</td>\n",
       "      <td>NaN</td>\n",
       "      <td>NaN</td>\n",
       "      <td>NaN</td>\n",
       "      <td>NaN</td>\n",
       "      <td>NaN</td>\n",
       "    </tr>\n",
       "    <tr>\n",
       "      <th>last</th>\n",
       "      <td>NaN</td>\n",
       "      <td>NaN</td>\n",
       "      <td>2017-12-31 23:45:30</td>\n",
       "      <td>2017-12-31 23:49:24</td>\n",
       "      <td>NaN</td>\n",
       "      <td>NaN</td>\n",
       "      <td>NaN</td>\n",
       "      <td>NaN</td>\n",
       "      <td>NaN</td>\n",
       "      <td>NaN</td>\n",
       "      <td>NaN</td>\n",
       "      <td>NaN</td>\n",
       "      <td>NaN</td>\n",
       "      <td>NaN</td>\n",
       "      <td>NaN</td>\n",
       "      <td>NaN</td>\n",
       "      <td>NaN</td>\n",
       "    </tr>\n",
       "    <tr>\n",
       "      <th>mean</th>\n",
       "      <td>5.675861e+07</td>\n",
       "      <td>1.555962</td>\n",
       "      <td>NaN</td>\n",
       "      <td>NaN</td>\n",
       "      <td>1.642231</td>\n",
       "      <td>2.914952</td>\n",
       "      <td>162.421732</td>\n",
       "      <td>161.544545</td>\n",
       "      <td>1.335552</td>\n",
       "      <td>12.943362</td>\n",
       "      <td>1.836914</td>\n",
       "      <td>0.312734</td>\n",
       "      <td>16.202658</td>\n",
       "      <td>13.726780</td>\n",
       "      <td>14.523675</td>\n",
       "      <td>NaN</td>\n",
       "      <td>NaN</td>\n",
       "    </tr>\n",
       "    <tr>\n",
       "      <th>std</th>\n",
       "      <td>3.274427e+07</td>\n",
       "      <td>0.496869</td>\n",
       "      <td>NaN</td>\n",
       "      <td>NaN</td>\n",
       "      <td>1.285034</td>\n",
       "      <td>3.653698</td>\n",
       "      <td>66.632736</td>\n",
       "      <td>70.136002</td>\n",
       "      <td>0.493288</td>\n",
       "      <td>10.737644</td>\n",
       "      <td>2.801119</td>\n",
       "      <td>1.399622</td>\n",
       "      <td>13.231729</td>\n",
       "      <td>6.223532</td>\n",
       "      <td>12.352746</td>\n",
       "      <td>NaN</td>\n",
       "      <td>NaN</td>\n",
       "    </tr>\n",
       "    <tr>\n",
       "      <th>min</th>\n",
       "      <td>1.212700e+04</td>\n",
       "      <td>1.000000</td>\n",
       "      <td>NaN</td>\n",
       "      <td>NaN</td>\n",
       "      <td>0.000000</td>\n",
       "      <td>0.000000</td>\n",
       "      <td>1.000000</td>\n",
       "      <td>1.000000</td>\n",
       "      <td>1.000000</td>\n",
       "      <td>0.000000</td>\n",
       "      <td>0.000000</td>\n",
       "      <td>0.000000</td>\n",
       "      <td>0.000000</td>\n",
       "      <td>0.000000</td>\n",
       "      <td>0.000000</td>\n",
       "      <td>NaN</td>\n",
       "      <td>NaN</td>\n",
       "    </tr>\n",
       "    <tr>\n",
       "      <th>25%</th>\n",
       "      <td>2.852087e+07</td>\n",
       "      <td>1.000000</td>\n",
       "      <td>NaN</td>\n",
       "      <td>NaN</td>\n",
       "      <td>1.000000</td>\n",
       "      <td>0.990000</td>\n",
       "      <td>114.000000</td>\n",
       "      <td>112.000000</td>\n",
       "      <td>1.000000</td>\n",
       "      <td>6.500000</td>\n",
       "      <td>0.000000</td>\n",
       "      <td>0.000000</td>\n",
       "      <td>8.750000</td>\n",
       "      <td>9.000000</td>\n",
       "      <td>6.666667</td>\n",
       "      <td>NaN</td>\n",
       "      <td>NaN</td>\n",
       "    </tr>\n",
       "    <tr>\n",
       "      <th>50%</th>\n",
       "      <td>5.673150e+07</td>\n",
       "      <td>2.000000</td>\n",
       "      <td>NaN</td>\n",
       "      <td>NaN</td>\n",
       "      <td>1.000000</td>\n",
       "      <td>1.610000</td>\n",
       "      <td>162.000000</td>\n",
       "      <td>162.000000</td>\n",
       "      <td>1.000000</td>\n",
       "      <td>9.500000</td>\n",
       "      <td>1.350000</td>\n",
       "      <td>0.000000</td>\n",
       "      <td>11.800000</td>\n",
       "      <td>14.000000</td>\n",
       "      <td>11.183333</td>\n",
       "      <td>NaN</td>\n",
       "      <td>NaN</td>\n",
       "    </tr>\n",
       "    <tr>\n",
       "      <th>75%</th>\n",
       "      <td>8.537404e+07</td>\n",
       "      <td>2.000000</td>\n",
       "      <td>NaN</td>\n",
       "      <td>NaN</td>\n",
       "      <td>2.000000</td>\n",
       "      <td>3.070000</td>\n",
       "      <td>233.000000</td>\n",
       "      <td>233.000000</td>\n",
       "      <td>2.000000</td>\n",
       "      <td>14.500000</td>\n",
       "      <td>2.450000</td>\n",
       "      <td>0.000000</td>\n",
       "      <td>17.800000</td>\n",
       "      <td>19.000000</td>\n",
       "      <td>18.383333</td>\n",
       "      <td>NaN</td>\n",
       "      <td>NaN</td>\n",
       "    </tr>\n",
       "    <tr>\n",
       "      <th>max</th>\n",
       "      <td>1.134863e+08</td>\n",
       "      <td>2.000000</td>\n",
       "      <td>NaN</td>\n",
       "      <td>NaN</td>\n",
       "      <td>6.000000</td>\n",
       "      <td>33.960000</td>\n",
       "      <td>265.000000</td>\n",
       "      <td>265.000000</td>\n",
       "      <td>4.000000</td>\n",
       "      <td>78.500000</td>\n",
       "      <td>200.000000</td>\n",
       "      <td>19.100000</td>\n",
       "      <td>90.200000</td>\n",
       "      <td>23.000000</td>\n",
       "      <td>112.116667</td>\n",
       "      <td>NaN</td>\n",
       "      <td>NaN</td>\n",
       "    </tr>\n",
       "  </tbody>\n",
       "</table>\n",
       "</div>"
      ],
      "text/plain": [
       "          Unnamed: 0      VendorID tpep_pickup_datetime tpep_dropoff_datetime  \\\n",
       "count   2.268500e+04  22685.000000                22685                 22685   \n",
       "unique           NaN           NaN                22673                 22674   \n",
       "top              NaN           NaN  2017-11-23 14:28:08   2017-11-15 11:20:56   \n",
       "freq             NaN           NaN                    2                     2   \n",
       "first            NaN           NaN  2017-01-01 00:08:25   2017-01-01 00:17:20   \n",
       "last             NaN           NaN  2017-12-31 23:45:30   2017-12-31 23:49:24   \n",
       "mean    5.675861e+07      1.555962                  NaN                   NaN   \n",
       "std     3.274427e+07      0.496869                  NaN                   NaN   \n",
       "min     1.212700e+04      1.000000                  NaN                   NaN   \n",
       "25%     2.852087e+07      1.000000                  NaN                   NaN   \n",
       "50%     5.673150e+07      2.000000                  NaN                   NaN   \n",
       "75%     8.537404e+07      2.000000                  NaN                   NaN   \n",
       "max     1.134863e+08      2.000000                  NaN                   NaN   \n",
       "\n",
       "        passenger_count  trip_distance  PULocationID  DOLocationID  \\\n",
       "count      22685.000000   22685.000000  22685.000000  22685.000000   \n",
       "unique              NaN            NaN           NaN           NaN   \n",
       "top                 NaN            NaN           NaN           NaN   \n",
       "freq                NaN            NaN           NaN           NaN   \n",
       "first               NaN            NaN           NaN           NaN   \n",
       "last                NaN            NaN           NaN           NaN   \n",
       "mean           1.642231       2.914952    162.421732    161.544545   \n",
       "std            1.285034       3.653698     66.632736     70.136002   \n",
       "min            0.000000       0.000000      1.000000      1.000000   \n",
       "25%            1.000000       0.990000    114.000000    112.000000   \n",
       "50%            1.000000       1.610000    162.000000    162.000000   \n",
       "75%            2.000000       3.070000    233.000000    233.000000   \n",
       "max            6.000000      33.960000    265.000000    265.000000   \n",
       "\n",
       "        payment_type   fare_amount    tip_amount  tolls_amount  total_amount  \\\n",
       "count   22685.000000  22685.000000  22685.000000  22685.000000  22685.000000   \n",
       "unique           NaN           NaN           NaN           NaN           NaN   \n",
       "top              NaN           NaN           NaN           NaN           NaN   \n",
       "freq             NaN           NaN           NaN           NaN           NaN   \n",
       "first            NaN           NaN           NaN           NaN           NaN   \n",
       "last             NaN           NaN           NaN           NaN           NaN   \n",
       "mean        1.335552     12.943362      1.836914      0.312734     16.202658   \n",
       "std         0.493288     10.737644      2.801119      1.399622     13.231729   \n",
       "min         1.000000      0.000000      0.000000      0.000000      0.000000   \n",
       "25%         1.000000      6.500000      0.000000      0.000000      8.750000   \n",
       "50%         1.000000      9.500000      1.350000      0.000000     11.800000   \n",
       "75%         2.000000     14.500000      2.450000      0.000000     17.800000   \n",
       "max         4.000000     78.500000    200.000000     19.100000     90.200000   \n",
       "\n",
       "         pickup_hour  duration_minutes     day  month  \n",
       "count   22685.000000      22685.000000   22685  22685  \n",
       "unique           NaN               NaN       7     12  \n",
       "top              NaN               NaN  Friday  March  \n",
       "freq             NaN               NaN    3411   2048  \n",
       "first            NaN               NaN     NaN    NaN  \n",
       "last             NaN               NaN     NaN    NaN  \n",
       "mean       13.726780         14.523675     NaN    NaN  \n",
       "std         6.223532         12.352746     NaN    NaN  \n",
       "min         0.000000          0.000000     NaN    NaN  \n",
       "25%         9.000000          6.666667     NaN    NaN  \n",
       "50%        14.000000         11.183333     NaN    NaN  \n",
       "75%        19.000000         18.383333     NaN    NaN  \n",
       "max        23.000000        112.116667     NaN    NaN  "
      ]
     },
     "execution_count": 23,
     "metadata": {},
     "output_type": "execute_result"
    }
   ],
   "source": [
    "df.describe(include='all')"
   ]
  },
  {
   "cell_type": "code",
   "execution_count": 24,
   "id": "4b23cc00",
   "metadata": {},
   "outputs": [
    {
     "data": {
      "text/html": [
       "<div>\n",
       "<style scoped>\n",
       "    .dataframe tbody tr th:only-of-type {\n",
       "        vertical-align: middle;\n",
       "    }\n",
       "\n",
       "    .dataframe tbody tr th {\n",
       "        vertical-align: top;\n",
       "    }\n",
       "\n",
       "    .dataframe thead th {\n",
       "        text-align: right;\n",
       "    }\n",
       "</style>\n",
       "<table border=\"1\" class=\"dataframe\">\n",
       "  <thead>\n",
       "    <tr style=\"text-align: right;\">\n",
       "      <th></th>\n",
       "      <th>Unnamed: 0</th>\n",
       "      <th>VendorID</th>\n",
       "      <th>tpep_pickup_datetime</th>\n",
       "      <th>tpep_dropoff_datetime</th>\n",
       "      <th>passenger_count</th>\n",
       "      <th>trip_distance</th>\n",
       "      <th>PULocationID</th>\n",
       "      <th>DOLocationID</th>\n",
       "      <th>payment_type</th>\n",
       "      <th>fare_amount</th>\n",
       "      <th>tip_amount</th>\n",
       "      <th>tolls_amount</th>\n",
       "      <th>total_amount</th>\n",
       "      <th>pickup_hour</th>\n",
       "      <th>duration_minutes</th>\n",
       "      <th>day</th>\n",
       "      <th>month</th>\n",
       "    </tr>\n",
       "  </thead>\n",
       "  <tbody>\n",
       "    <tr>\n",
       "      <th>0</th>\n",
       "      <td>24870114</td>\n",
       "      <td>2</td>\n",
       "      <td>2017-03-25 08:55:43</td>\n",
       "      <td>2017-03-25 09:09:47</td>\n",
       "      <td>6</td>\n",
       "      <td>3.34</td>\n",
       "      <td>100</td>\n",
       "      <td>231</td>\n",
       "      <td>1</td>\n",
       "      <td>13.0</td>\n",
       "      <td>2.76</td>\n",
       "      <td>0.0</td>\n",
       "      <td>16.56</td>\n",
       "      <td>8</td>\n",
       "      <td>14.066667</td>\n",
       "      <td>Saturday</td>\n",
       "      <td>March</td>\n",
       "    </tr>\n",
       "    <tr>\n",
       "      <th>1</th>\n",
       "      <td>35634249</td>\n",
       "      <td>1</td>\n",
       "      <td>2017-04-11 14:53:28</td>\n",
       "      <td>2017-04-11 15:19:58</td>\n",
       "      <td>1</td>\n",
       "      <td>1.80</td>\n",
       "      <td>186</td>\n",
       "      <td>43</td>\n",
       "      <td>1</td>\n",
       "      <td>16.0</td>\n",
       "      <td>4.00</td>\n",
       "      <td>0.0</td>\n",
       "      <td>20.80</td>\n",
       "      <td>14</td>\n",
       "      <td>26.500000</td>\n",
       "      <td>Tuesday</td>\n",
       "      <td>April</td>\n",
       "    </tr>\n",
       "    <tr>\n",
       "      <th>2</th>\n",
       "      <td>106203690</td>\n",
       "      <td>1</td>\n",
       "      <td>2017-12-15 07:26:56</td>\n",
       "      <td>2017-12-15 07:34:08</td>\n",
       "      <td>1</td>\n",
       "      <td>1.00</td>\n",
       "      <td>262</td>\n",
       "      <td>236</td>\n",
       "      <td>1</td>\n",
       "      <td>6.5</td>\n",
       "      <td>1.45</td>\n",
       "      <td>0.0</td>\n",
       "      <td>8.75</td>\n",
       "      <td>7</td>\n",
       "      <td>7.200000</td>\n",
       "      <td>Friday</td>\n",
       "      <td>December</td>\n",
       "    </tr>\n",
       "    <tr>\n",
       "      <th>3</th>\n",
       "      <td>38942136</td>\n",
       "      <td>2</td>\n",
       "      <td>2017-05-07 13:17:59</td>\n",
       "      <td>2017-05-07 13:48:14</td>\n",
       "      <td>1</td>\n",
       "      <td>3.70</td>\n",
       "      <td>188</td>\n",
       "      <td>97</td>\n",
       "      <td>1</td>\n",
       "      <td>20.5</td>\n",
       "      <td>6.39</td>\n",
       "      <td>0.0</td>\n",
       "      <td>27.69</td>\n",
       "      <td>13</td>\n",
       "      <td>30.250000</td>\n",
       "      <td>Sunday</td>\n",
       "      <td>May</td>\n",
       "    </tr>\n",
       "    <tr>\n",
       "      <th>4</th>\n",
       "      <td>30841670</td>\n",
       "      <td>2</td>\n",
       "      <td>2017-04-15 23:32:20</td>\n",
       "      <td>2017-04-15 23:49:03</td>\n",
       "      <td>1</td>\n",
       "      <td>4.37</td>\n",
       "      <td>4</td>\n",
       "      <td>112</td>\n",
       "      <td>2</td>\n",
       "      <td>16.5</td>\n",
       "      <td>0.00</td>\n",
       "      <td>0.0</td>\n",
       "      <td>17.80</td>\n",
       "      <td>23</td>\n",
       "      <td>16.716667</td>\n",
       "      <td>Saturday</td>\n",
       "      <td>April</td>\n",
       "    </tr>\n",
       "  </tbody>\n",
       "</table>\n",
       "</div>"
      ],
      "text/plain": [
       "   Unnamed: 0  VendorID tpep_pickup_datetime tpep_dropoff_datetime  \\\n",
       "0    24870114         2  2017-03-25 08:55:43   2017-03-25 09:09:47   \n",
       "1    35634249         1  2017-04-11 14:53:28   2017-04-11 15:19:58   \n",
       "2   106203690         1  2017-12-15 07:26:56   2017-12-15 07:34:08   \n",
       "3    38942136         2  2017-05-07 13:17:59   2017-05-07 13:48:14   \n",
       "4    30841670         2  2017-04-15 23:32:20   2017-04-15 23:49:03   \n",
       "\n",
       "   passenger_count  trip_distance  PULocationID  DOLocationID  payment_type  \\\n",
       "0                6           3.34           100           231             1   \n",
       "1                1           1.80           186            43             1   \n",
       "2                1           1.00           262           236             1   \n",
       "3                1           3.70           188            97             1   \n",
       "4                1           4.37             4           112             2   \n",
       "\n",
       "   fare_amount  tip_amount  tolls_amount  total_amount  pickup_hour  \\\n",
       "0         13.0        2.76           0.0         16.56            8   \n",
       "1         16.0        4.00           0.0         20.80           14   \n",
       "2          6.5        1.45           0.0          8.75            7   \n",
       "3         20.5        6.39           0.0         27.69           13   \n",
       "4         16.5        0.00           0.0         17.80           23   \n",
       "\n",
       "   duration_minutes       day     month  \n",
       "0         14.066667  Saturday     March  \n",
       "1         26.500000   Tuesday     April  \n",
       "2          7.200000    Friday  December  \n",
       "3         30.250000    Sunday       May  \n",
       "4         16.716667  Saturday     April  "
      ]
     },
     "execution_count": 24,
     "metadata": {},
     "output_type": "execute_result"
    }
   ],
   "source": [
    "df.head()"
   ]
  },
  {
   "cell_type": "code",
   "execution_count": 25,
   "id": "f3fd7561",
   "metadata": {},
   "outputs": [
    {
     "name": "stdout",
     "output_type": "stream",
     "text": [
      "2    12612\n",
      "1    10073\n",
      "Name: VendorID, dtype: int64\n",
      "1    15265\n",
      "2     7267\n",
      "3      114\n",
      "4       39\n",
      "Name: payment_type, dtype: int64\n"
     ]
    }
   ],
   "source": [
    "print(df['VendorID'].value_counts())\n",
    "print(df['payment_type'].value_counts())"
   ]
  },
  {
   "cell_type": "code",
   "execution_count": 26,
   "id": "fbadbc88",
   "metadata": {},
   "outputs": [],
   "source": [
    "df['duration_by_distance'] = df['duration_minutes'] / df['trip_distance']\n",
    "df.loc[df['trip_distance'] == 0 ,'duration_by_distance'] = 0"
   ]
  },
  {
   "cell_type": "code",
   "execution_count": 27,
   "id": "91b1aa49",
   "metadata": {},
   "outputs": [],
   "source": [
    "period_by_distance = pd.DataFrame(df.groupby('pickup_hour')['duration_by_distance'].mean())"
   ]
  },
  {
   "cell_type": "code",
   "execution_count": 28,
   "id": "cd66d1df",
   "metadata": {},
   "outputs": [],
   "source": [
    "time_use = pd.DataFrame(df.groupby('pickup_hour')['duration_minutes'].mean())"
   ]
  },
  {
   "cell_type": "code",
   "execution_count": 29,
   "id": "f59cee65",
   "metadata": {},
   "outputs": [
    {
     "data": {
      "text/html": [
       "<div>\n",
       "<style scoped>\n",
       "    .dataframe tbody tr th:only-of-type {\n",
       "        vertical-align: middle;\n",
       "    }\n",
       "\n",
       "    .dataframe tbody tr th {\n",
       "        vertical-align: top;\n",
       "    }\n",
       "\n",
       "    .dataframe thead th {\n",
       "        text-align: right;\n",
       "    }\n",
       "</style>\n",
       "<table border=\"1\" class=\"dataframe\">\n",
       "  <thead>\n",
       "    <tr style=\"text-align: right;\">\n",
       "      <th></th>\n",
       "      <th>duration_minutes</th>\n",
       "    </tr>\n",
       "    <tr>\n",
       "      <th>pickup_hour</th>\n",
       "      <th></th>\n",
       "    </tr>\n",
       "  </thead>\n",
       "  <tbody>\n",
       "    <tr>\n",
       "      <th>0</th>\n",
       "      <td>12.623039</td>\n",
       "    </tr>\n",
       "    <tr>\n",
       "      <th>1</th>\n",
       "      <td>11.661016</td>\n",
       "    </tr>\n",
       "    <tr>\n",
       "      <th>2</th>\n",
       "      <td>12.132771</td>\n",
       "    </tr>\n",
       "    <tr>\n",
       "      <th>3</th>\n",
       "      <td>12.163298</td>\n",
       "    </tr>\n",
       "    <tr>\n",
       "      <th>4</th>\n",
       "      <td>11.743830</td>\n",
       "    </tr>\n",
       "    <tr>\n",
       "      <th>5</th>\n",
       "      <td>11.639787</td>\n",
       "    </tr>\n",
       "    <tr>\n",
       "      <th>6</th>\n",
       "      <td>11.241750</td>\n",
       "    </tr>\n",
       "    <tr>\n",
       "      <th>7</th>\n",
       "      <td>12.199221</td>\n",
       "    </tr>\n",
       "    <tr>\n",
       "      <th>8</th>\n",
       "      <td>13.978431</td>\n",
       "    </tr>\n",
       "    <tr>\n",
       "      <th>9</th>\n",
       "      <td>14.600689</td>\n",
       "    </tr>\n",
       "    <tr>\n",
       "      <th>10</th>\n",
       "      <td>14.386795</td>\n",
       "    </tr>\n",
       "    <tr>\n",
       "      <th>11</th>\n",
       "      <td>15.744588</td>\n",
       "    </tr>\n",
       "    <tr>\n",
       "      <th>12</th>\n",
       "      <td>15.051662</td>\n",
       "    </tr>\n",
       "    <tr>\n",
       "      <th>13</th>\n",
       "      <td>15.285907</td>\n",
       "    </tr>\n",
       "    <tr>\n",
       "      <th>14</th>\n",
       "      <td>16.612187</td>\n",
       "    </tr>\n",
       "    <tr>\n",
       "      <th>15</th>\n",
       "      <td>17.188393</td>\n",
       "    </tr>\n",
       "    <tr>\n",
       "      <th>16</th>\n",
       "      <td>16.754093</td>\n",
       "    </tr>\n",
       "    <tr>\n",
       "      <th>17</th>\n",
       "      <td>16.814115</td>\n",
       "    </tr>\n",
       "    <tr>\n",
       "      <th>18</th>\n",
       "      <td>15.657212</td>\n",
       "    </tr>\n",
       "    <tr>\n",
       "      <th>19</th>\n",
       "      <td>13.793840</td>\n",
       "    </tr>\n",
       "    <tr>\n",
       "      <th>20</th>\n",
       "      <td>13.379231</td>\n",
       "    </tr>\n",
       "    <tr>\n",
       "      <th>21</th>\n",
       "      <td>13.894991</td>\n",
       "    </tr>\n",
       "    <tr>\n",
       "      <th>22</th>\n",
       "      <td>13.634407</td>\n",
       "    </tr>\n",
       "    <tr>\n",
       "      <th>23</th>\n",
       "      <td>13.631958</td>\n",
       "    </tr>\n",
       "  </tbody>\n",
       "</table>\n",
       "</div>"
      ],
      "text/plain": [
       "             duration_minutes\n",
       "pickup_hour                  \n",
       "0                   12.623039\n",
       "1                   11.661016\n",
       "2                   12.132771\n",
       "3                   12.163298\n",
       "4                   11.743830\n",
       "5                   11.639787\n",
       "6                   11.241750\n",
       "7                   12.199221\n",
       "8                   13.978431\n",
       "9                   14.600689\n",
       "10                  14.386795\n",
       "11                  15.744588\n",
       "12                  15.051662\n",
       "13                  15.285907\n",
       "14                  16.612187\n",
       "15                  17.188393\n",
       "16                  16.754093\n",
       "17                  16.814115\n",
       "18                  15.657212\n",
       "19                  13.793840\n",
       "20                  13.379231\n",
       "21                  13.894991\n",
       "22                  13.634407\n",
       "23                  13.631958"
      ]
     },
     "execution_count": 29,
     "metadata": {},
     "output_type": "execute_result"
    }
   ],
   "source": [
    "time_use"
   ]
  },
  {
   "cell_type": "code",
   "execution_count": null,
   "id": "50426464",
   "metadata": {},
   "outputs": [],
   "source": []
  },
  {
   "cell_type": "code",
   "execution_count": null,
   "id": "3393871f",
   "metadata": {},
   "outputs": [],
   "source": []
  },
  {
   "cell_type": "code",
   "execution_count": null,
   "id": "6d9fad8a",
   "metadata": {},
   "outputs": [],
   "source": []
  },
  {
   "cell_type": "code",
   "execution_count": null,
   "id": "82b7526a",
   "metadata": {},
   "outputs": [],
   "source": []
  },
  {
   "cell_type": "markdown",
   "id": "8d179aac",
   "metadata": {},
   "source": [
    "# Data visualization\n",
    "box plot\n",
    "histrogram\n",
    "scatter\n",
    "bar chart\n",
    "line chart\n"
   ]
  },
  {
   "cell_type": "code",
   "execution_count": 30,
   "id": "985f2580",
   "metadata": {},
   "outputs": [
    {
     "data": {
      "text/plain": [
       "<AxesSubplot:title={'center':'Number of user by time'}, xlabel='pickup_hour', ylabel='Count'>"
      ]
     },
     "execution_count": 30,
     "metadata": {},
     "output_type": "execute_result"
    },
    {
     "data": {
      "image/png": "[encoded data removed]",
      "text/plain": [
       "<Figure size 1080x504 with 1 Axes>"
      ]
     },
     "metadata": {
      "needs_background": "light"
     },
     "output_type": "display_data"
    }
   ],
   "source": [
    "plt.figure(figsize=(15,7))\n",
    "plt.title('Number of user by time',color='white',size = 20)\n",
    "sns.histplot(df['pickup_hour'],bins=range(0,25,1))"
   ]
  },
  {
   "cell_type": "code",
   "execution_count": null,
   "id": "42f4d575",
   "metadata": {},
   "outputs": [],
   "source": []
  },
  {
   "cell_type": "code",
   "execution_count": null,
   "id": "5b0ac2ea",
   "metadata": {},
   "outputs": [],
   "source": []
  },
  {
   "cell_type": "code",
   "execution_count": 31,
   "id": "59edcbc8",
   "metadata": {},
   "outputs": [
    {
     "data": {
      "text/plain": [
       "<AxesSubplot:title={'center':'trip distance'}, xlabel='trip_distance'>"
      ]
     },
     "execution_count": 31,
     "metadata": {},
     "output_type": "execute_result"
    },
    {
     "data": {
      "image/png": "[encoded data removed]",
      "text/plain": [
       "<Figure size 1080x288 with 1 Axes>"
      ]
     },
     "metadata": {
      "needs_background": "light"
     },
     "output_type": "display_data"
    }
   ],
   "source": [
    "plt.figure(figsize=(15,4))\n",
    "plt.title('trip distance',color='white',size = 20)\n",
    "sns.boxplot(data=df,x='trip_distance',fliersize=2)"
   ]
  },
  {
   "cell_type": "code",
   "execution_count": 32,
   "id": "e99ca367",
   "metadata": {},
   "outputs": [
    {
     "data": {
      "text/plain": [
       "<AxesSubplot:title={'center':'trip distance'}, xlabel='trip_distance', ylabel='Count'>"
      ]
     },
     "execution_count": 32,
     "metadata": {},
     "output_type": "execute_result"
    },
    {
     "data": {
      "image/png": "[encoded data removed]",
      "text/plain": [
       "<Figure size 1080x504 with 1 Axes>"
      ]
     },
     "metadata": {
      "needs_background": "light"
     },
     "output_type": "display_data"
    }
   ],
   "source": [
    "plt.figure(figsize=(15,7))\n",
    "plt.title('trip distance',color='white',size = 20)\n",
    "sns.histplot(df['trip_distance'],bins=range(0,25,1))\n"
   ]
  },
  {
   "cell_type": "code",
   "execution_count": 33,
   "id": "9e295cbb",
   "metadata": {},
   "outputs": [
    {
     "data": {
      "text/plain": [
       "<AxesSubplot:title={'center':'tip amount'}, xlabel='tip_amount'>"
      ]
     },
     "execution_count": 33,
     "metadata": {},
     "output_type": "execute_result"
    },
    {
     "data": {
      "image/png": "[encoded data removed]",
      "text/plain": [
       "<Figure size 1080x288 with 1 Axes>"
      ]
     },
     "metadata": {
      "needs_background": "light"
     },
     "output_type": "display_data"
    }
   ],
   "source": [
    "plt.figure(figsize=(15,4))\n",
    "plt.title('tip amount',size = 20,color='white')\n",
    "sns.boxplot(data=df,x='tip_amount',fliersize=2)"
   ]
  },
  {
   "cell_type": "code",
   "execution_count": 34,
   "id": "4f2b8f19",
   "metadata": {},
   "outputs": [
    {
     "data": {
      "text/plain": [
       "Text(0.5, 1.0, 'Tip amount by vendor')"
      ]
     },
     "execution_count": 34,
     "metadata": {},
     "output_type": "execute_result"
    },
    {
     "data": {
      "image/png": "[encoded data removed]",
      "text/plain": [
       "<Figure size 864x504 with 1 Axes>"
      ]
     },
     "metadata": {
      "needs_background": "light"
     },
     "output_type": "display_data"
    }
   ],
   "source": [
    "plt.figure(figsize=(12,7))\n",
    "ax = sns.histplot(data=df,x='tip_amount',bins=range(0,21,1),\n",
    "                 hue = 'VendorID',\n",
    "                 multiple='stack',\n",
    "                 palette='pastel')\n",
    "ax.set_xticks(range(0,21,1))\n",
    "ax.set_xticklabels(range(0,21,1))\n",
    "plt.title('Tip amount by vendor',size = 20 ,color= 'white')"
   ]
  },
  {
   "cell_type": "code",
   "execution_count": 35,
   "id": "a6c8048f",
   "metadata": {},
   "outputs": [
    {
     "data": {
      "text/plain": [
       "<AxesSubplot:title={'center':'total amount'}, xlabel='total_amount'>"
      ]
     },
     "execution_count": 35,
     "metadata": {},
     "output_type": "execute_result"
    },
    {
     "data": {
      "image/png": "[encoded data removed]",
      "text/plain": [
       "<Figure size 1080x288 with 1 Axes>"
      ]
     },
     "metadata": {
      "needs_background": "light"
     },
     "output_type": "display_data"
    }
   ],
   "source": [
    "plt.figure(figsize=(15,4))\n",
    "plt.title('total amount',color = 'white',size=20)\n",
    "sns.boxplot(data=df,x='total_amount',fliersize=2)"
   ]
  },
  {
   "cell_type": "code",
   "execution_count": 36,
   "id": "9ca2cb6b",
   "metadata": {},
   "outputs": [
    {
     "data": {
      "text/plain": [
       "Text(0.5, 1.0, 'Total amount by vendor')"
      ]
     },
     "execution_count": 36,
     "metadata": {},
     "output_type": "execute_result"
    },
    {
     "data": {
      "image/png": "[encoded data removed]",
      "text/plain": [
       "<Figure size 864x504 with 1 Axes>"
      ]
     },
     "metadata": {
      "needs_background": "light"
     },
     "output_type": "display_data"
    }
   ],
   "source": [
    "plt.figure(figsize=(12,7))\n",
    "ax = sns.histplot(data=df,x='total_amount',bins=range(0,100,5),\n",
    "                 hue = 'VendorID',\n",
    "                 multiple='stack',\n",
    "                 palette='pastel')\n",
    "ax.set_xticks(range(0,100,10))\n",
    "ax.set_xticklabels(range(0,100,10))\n",
    "plt.title('Total amount by vendor',size = 20 ,color= 'white')"
   ]
  },
  {
   "cell_type": "code",
   "execution_count": 37,
   "id": "99dcfe45",
   "metadata": {},
   "outputs": [
    {
     "data": {
      "text/plain": [
       "1    16107\n",
       "2     3303\n",
       "5     1142\n",
       "3      953\n",
       "6      692\n",
       "4      455\n",
       "0       33\n",
       "Name: passenger_count, dtype: int64"
      ]
     },
     "execution_count": 37,
     "metadata": {},
     "output_type": "execute_result"
    }
   ],
   "source": [
    "df['passenger_count'].value_counts()"
   ]
  },
  {
   "cell_type": "code",
   "execution_count": 38,
   "id": "fcd0b3e4",
   "metadata": {},
   "outputs": [
    {
     "data": {
      "text/plain": [
       "<AxesSubplot:title={'center':'passenger count'}, xlabel='passenger_count', ylabel='Count'>"
      ]
     },
     "execution_count": 38,
     "metadata": {},
     "output_type": "execute_result"
    },
    {
     "data": {
      "image/png": "[encoded data removed]",
      "text/plain": [
       "<Figure size 1080x504 with 1 Axes>"
      ]
     },
     "metadata": {
      "needs_background": "light"
     },
     "output_type": "display_data"
    }
   ],
   "source": [
    "plt.figure(figsize=(15,7))\n",
    "plt.title('passenger count',size = 20,color='white')\n",
    "sns.histplot(data=df,x='passenger_count',bins=range(1,8,1))"
   ]
  },
  {
   "cell_type": "code",
   "execution_count": 39,
   "id": "c3a6ea27",
   "metadata": {},
   "outputs": [
    {
     "data": {
      "text/plain": [
       "<AxesSubplot:title={'center':'average time spent(minutes)'}, xlabel='pickup_hour', ylabel='duration_minutes'>"
      ]
     },
     "execution_count": 39,
     "metadata": {},
     "output_type": "execute_result"
    },
    {
     "data": {
      "image/png": "[encoded data removed]",
      "text/plain": [
       "<Figure size 1080x504 with 1 Axes>"
      ]
     },
     "metadata": {
      "needs_background": "light"
     },
     "output_type": "display_data"
    }
   ],
   "source": [
    "plt.figure(figsize=(15,7))\n",
    "plt.title('average time spent(minutes)',color='white',size = 20)\n",
    "sns.barplot(x=time_use.index,y=time_use['duration_minutes'])"
   ]
  },
  {
   "cell_type": "code",
   "execution_count": 40,
   "id": "662a95bc",
   "metadata": {},
   "outputs": [
    {
     "data": {
      "text/plain": [
       "<AxesSubplot:title={'center':'duration by distance'}, xlabel='pickup_hour', ylabel='duration_by_distance'>"
      ]
     },
     "execution_count": 40,
     "metadata": {},
     "output_type": "execute_result"
    },
    {
     "data": {
      "image/png": "[encoded data removed]",
      "text/plain": [
       "<Figure size 1080x504 with 1 Axes>"
      ]
     },
     "metadata": {
      "needs_background": "light"
     },
     "output_type": "display_data"
    }
   ],
   "source": [
    "plt.figure(figsize=(15,7))\n",
    "plt.title('duration by distance',color='white',size = 20)\n",
    "sns.barplot(x=period_by_distance.index,y=period_by_distance['duration_by_distance'])"
   ]
  },
  {
   "cell_type": "code",
   "execution_count": 41,
   "id": "858671ab",
   "metadata": {},
   "outputs": [],
   "source": [
    "day_order = ['Monday', 'Tuesday', 'Wednesday', 'Thursday', 'Friday', 'Saturday', 'Sunday']\n",
    "users_by_day = pd.DataFrame(df.groupby('day')['day'].count()).reindex(index=day_order)"
   ]
  },
  {
   "cell_type": "code",
   "execution_count": 42,
   "id": "d5094b21",
   "metadata": {},
   "outputs": [
    {
     "data": {
      "text/plain": [
       "Text(0.5, 0, 'day')"
      ]
     },
     "execution_count": 42,
     "metadata": {},
     "output_type": "execute_result"
    },
    {
     "data": {
      "image/png": "[encoded data removed]",
      "text/plain": [
       "<Figure size 1080x504 with 1 Axes>"
      ]
     },
     "metadata": {
      "needs_background": "light"
     },
     "output_type": "display_data"
    }
   ],
   "source": [
    "plt.figure(figsize=(15,7))\n",
    "plt.title('Number of ride count',color='white',size = 20)\n",
    "ax = sns.barplot(x=users_by_day.index,y=users_by_day['day'])\n",
    "ax.set_ylabel('number of ride count',color='white',size=15)\n",
    "ax.set_xlabel('day',color='white',size=15)"
   ]
  },
  {
   "cell_type": "code",
   "execution_count": 43,
   "id": "77e7d8ad",
   "metadata": {},
   "outputs": [],
   "source": [
    "month_order = ['January', 'February', 'March', 'April', 'May', 'June', 'July',\n",
    "         'August', 'September', 'October', 'November', 'December']\n",
    "users_by_month = pd.DataFrame(df.groupby('month')['month'].count()).reindex(index=month_order)"
   ]
  },
  {
   "cell_type": "code",
   "execution_count": 44,
   "id": "ccacf7d2",
   "metadata": {},
   "outputs": [
    {
     "data": {
      "text/plain": [
       "Text(0.5, 0, 'month')"
      ]
     },
     "execution_count": 44,
     "metadata": {},
     "output_type": "execute_result"
    },
    {
     "data": {
      "image/png": "[encoded data removed]",
      "text/plain": [
       "<Figure size 1080x504 with 1 Axes>"
      ]
     },
     "metadata": {
      "needs_background": "light"
     },
     "output_type": "display_data"
    }
   ],
   "source": [
    "plt.figure(figsize=(15,7))\n",
    "plt.title('Number of ride count',color='white',size = 20)\n",
    "ax = sns.barplot(x=users_by_month.index,y=users_by_month\n",
    "                 ['month'])\n",
    "ax.set_ylabel('number of ride count',color='white',size=15)\n",
    "ax.set_xlabel('month',color='white',size=15)"
   ]
  },
  {
   "cell_type": "code",
   "execution_count": 45,
   "id": "8462a7d6",
   "metadata": {},
   "outputs": [],
   "source": [
    "average_distance_by_day = pd.DataFrame(df.groupby('day')['trip_distance'].mean()).reindex(index=day_order)"
   ]
  },
  {
   "cell_type": "code",
   "execution_count": 46,
   "id": "158e0ba9",
   "metadata": {},
   "outputs": [
    {
     "data": {
      "text/plain": [
       "Text(0.5, 0, 'day')"
      ]
     },
     "execution_count": 46,
     "metadata": {},
     "output_type": "execute_result"
    },
    {
     "data": {
      "image/png": "[encoded data removed]",
      "text/plain": [
       "<Figure size 1080x504 with 1 Axes>"
      ]
     },
     "metadata": {
      "needs_background": "light"
     },
     "output_type": "display_data"
    }
   ],
   "source": [
    "plt.figure(figsize=(15,7))\n",
    "plt.title('Average distance',color='white',size = 20)\n",
    "ax = sns.barplot(x=average_distance_by_day.index,y=average_distance_by_day\n",
    "                 ['trip_distance'])\n",
    "ax.set_ylabel('distance',color='white',size=15)\n",
    "ax.set_xlabel('day',color='white',size=15)"
   ]
  },
  {
   "cell_type": "code",
   "execution_count": 47,
   "id": "492d1815",
   "metadata": {},
   "outputs": [],
   "source": [
    "average_distance_by_month = pd.DataFrame(df.groupby('month')['trip_distance'].mean()).reindex(index=month_order)"
   ]
  },
  {
   "cell_type": "code",
   "execution_count": 48,
   "id": "21b9b400",
   "metadata": {},
   "outputs": [
    {
     "data": {
      "text/plain": [
       "Text(0.5, 0, 'month')"
      ]
     },
     "execution_count": 48,
     "metadata": {},
     "output_type": "execute_result"
    },
    {
     "data": {
      "image/png": "[encoded data removed]",
      "text/plain": [
       "<Figure size 1080x504 with 1 Axes>"
      ]
     },
     "metadata": {
      "needs_background": "light"
     },
     "output_type": "display_data"
    }
   ],
   "source": [
    "plt.figure(figsize=(15,7))\n",
    "plt.title('Average distance',color='white',size = 20)\n",
    "ax = sns.barplot(x=average_distance_by_month.index,y=average_distance_by_month\n",
    "                 ['trip_distance'])\n",
    "ax.set_ylabel('distance',color='white',size=15)\n",
    "ax.set_xlabel('month',color='white',size=15)"
   ]
  },
  {
   "cell_type": "code",
   "execution_count": 49,
   "id": "f0ac155c",
   "metadata": {},
   "outputs": [
    {
     "data": {
      "text/html": [
       "<div>\n",
       "<style scoped>\n",
       "    .dataframe tbody tr th:only-of-type {\n",
       "        vertical-align: middle;\n",
       "    }\n",
       "\n",
       "    .dataframe tbody tr th {\n",
       "        vertical-align: top;\n",
       "    }\n",
       "\n",
       "    .dataframe thead th {\n",
       "        text-align: right;\n",
       "    }\n",
       "</style>\n",
       "<table border=\"1\" class=\"dataframe\">\n",
       "  <thead>\n",
       "    <tr style=\"text-align: right;\">\n",
       "      <th></th>\n",
       "      <th>Unnamed: 0</th>\n",
       "      <th>VendorID</th>\n",
       "      <th>tpep_pickup_datetime</th>\n",
       "      <th>tpep_dropoff_datetime</th>\n",
       "      <th>passenger_count</th>\n",
       "      <th>trip_distance</th>\n",
       "      <th>PULocationID</th>\n",
       "      <th>DOLocationID</th>\n",
       "      <th>payment_type</th>\n",
       "      <th>fare_amount</th>\n",
       "      <th>tip_amount</th>\n",
       "      <th>tolls_amount</th>\n",
       "      <th>total_amount</th>\n",
       "      <th>pickup_hour</th>\n",
       "      <th>duration_minutes</th>\n",
       "      <th>day</th>\n",
       "      <th>month</th>\n",
       "      <th>duration_by_distance</th>\n",
       "    </tr>\n",
       "  </thead>\n",
       "  <tbody>\n",
       "    <tr>\n",
       "      <th>0</th>\n",
       "      <td>24870114</td>\n",
       "      <td>2</td>\n",
       "      <td>2017-03-25 08:55:43</td>\n",
       "      <td>2017-03-25 09:09:47</td>\n",
       "      <td>6</td>\n",
       "      <td>3.34</td>\n",
       "      <td>100</td>\n",
       "      <td>231</td>\n",
       "      <td>1</td>\n",
       "      <td>13.0</td>\n",
       "      <td>2.76</td>\n",
       "      <td>0.0</td>\n",
       "      <td>16.56</td>\n",
       "      <td>8</td>\n",
       "      <td>14.066667</td>\n",
       "      <td>Saturday</td>\n",
       "      <td>March</td>\n",
       "      <td>4.211577</td>\n",
       "    </tr>\n",
       "    <tr>\n",
       "      <th>1</th>\n",
       "      <td>35634249</td>\n",
       "      <td>1</td>\n",
       "      <td>2017-04-11 14:53:28</td>\n",
       "      <td>2017-04-11 15:19:58</td>\n",
       "      <td>1</td>\n",
       "      <td>1.80</td>\n",
       "      <td>186</td>\n",
       "      <td>43</td>\n",
       "      <td>1</td>\n",
       "      <td>16.0</td>\n",
       "      <td>4.00</td>\n",
       "      <td>0.0</td>\n",
       "      <td>20.80</td>\n",
       "      <td>14</td>\n",
       "      <td>26.500000</td>\n",
       "      <td>Tuesday</td>\n",
       "      <td>April</td>\n",
       "      <td>14.722222</td>\n",
       "    </tr>\n",
       "    <tr>\n",
       "      <th>2</th>\n",
       "      <td>106203690</td>\n",
       "      <td>1</td>\n",
       "      <td>2017-12-15 07:26:56</td>\n",
       "      <td>2017-12-15 07:34:08</td>\n",
       "      <td>1</td>\n",
       "      <td>1.00</td>\n",
       "      <td>262</td>\n",
       "      <td>236</td>\n",
       "      <td>1</td>\n",
       "      <td>6.5</td>\n",
       "      <td>1.45</td>\n",
       "      <td>0.0</td>\n",
       "      <td>8.75</td>\n",
       "      <td>7</td>\n",
       "      <td>7.200000</td>\n",
       "      <td>Friday</td>\n",
       "      <td>December</td>\n",
       "      <td>7.200000</td>\n",
       "    </tr>\n",
       "    <tr>\n",
       "      <th>3</th>\n",
       "      <td>38942136</td>\n",
       "      <td>2</td>\n",
       "      <td>2017-05-07 13:17:59</td>\n",
       "      <td>2017-05-07 13:48:14</td>\n",
       "      <td>1</td>\n",
       "      <td>3.70</td>\n",
       "      <td>188</td>\n",
       "      <td>97</td>\n",
       "      <td>1</td>\n",
       "      <td>20.5</td>\n",
       "      <td>6.39</td>\n",
       "      <td>0.0</td>\n",
       "      <td>27.69</td>\n",
       "      <td>13</td>\n",
       "      <td>30.250000</td>\n",
       "      <td>Sunday</td>\n",
       "      <td>May</td>\n",
       "      <td>8.175676</td>\n",
       "    </tr>\n",
       "    <tr>\n",
       "      <th>4</th>\n",
       "      <td>30841670</td>\n",
       "      <td>2</td>\n",
       "      <td>2017-04-15 23:32:20</td>\n",
       "      <td>2017-04-15 23:49:03</td>\n",
       "      <td>1</td>\n",
       "      <td>4.37</td>\n",
       "      <td>4</td>\n",
       "      <td>112</td>\n",
       "      <td>2</td>\n",
       "      <td>16.5</td>\n",
       "      <td>0.00</td>\n",
       "      <td>0.0</td>\n",
       "      <td>17.80</td>\n",
       "      <td>23</td>\n",
       "      <td>16.716667</td>\n",
       "      <td>Saturday</td>\n",
       "      <td>April</td>\n",
       "      <td>3.825324</td>\n",
       "    </tr>\n",
       "  </tbody>\n",
       "</table>\n",
       "</div>"
      ],
      "text/plain": [
       "   Unnamed: 0  VendorID tpep_pickup_datetime tpep_dropoff_datetime  \\\n",
       "0    24870114         2  2017-03-25 08:55:43   2017-03-25 09:09:47   \n",
       "1    35634249         1  2017-04-11 14:53:28   2017-04-11 15:19:58   \n",
       "2   106203690         1  2017-12-15 07:26:56   2017-12-15 07:34:08   \n",
       "3    38942136         2  2017-05-07 13:17:59   2017-05-07 13:48:14   \n",
       "4    30841670         2  2017-04-15 23:32:20   2017-04-15 23:49:03   \n",
       "\n",
       "   passenger_count  trip_distance  PULocationID  DOLocationID  payment_type  \\\n",
       "0                6           3.34           100           231             1   \n",
       "1                1           1.80           186            43             1   \n",
       "2                1           1.00           262           236             1   \n",
       "3                1           3.70           188            97             1   \n",
       "4                1           4.37             4           112             2   \n",
       "\n",
       "   fare_amount  tip_amount  tolls_amount  total_amount  pickup_hour  \\\n",
       "0         13.0        2.76           0.0         16.56            8   \n",
       "1         16.0        4.00           0.0         20.80           14   \n",
       "2          6.5        1.45           0.0          8.75            7   \n",
       "3         20.5        6.39           0.0         27.69           13   \n",
       "4         16.5        0.00           0.0         17.80           23   \n",
       "\n",
       "   duration_minutes       day     month  duration_by_distance  \n",
       "0         14.066667  Saturday     March              4.211577  \n",
       "1         26.500000   Tuesday     April             14.722222  \n",
       "2          7.200000    Friday  December              7.200000  \n",
       "3         30.250000    Sunday       May              8.175676  \n",
       "4         16.716667  Saturday     April              3.825324  "
      ]
     },
     "execution_count": 49,
     "metadata": {},
     "output_type": "execute_result"
    }
   ],
   "source": [
    "df.head()"
   ]
  },
  {
   "cell_type": "code",
   "execution_count": 50,
   "id": "8f271d04",
   "metadata": {},
   "outputs": [],
   "source": [
    "revenue_day = pd.DataFrame(df.groupby('day')['total_amount'].sum()).reindex(index=day_order)"
   ]
  },
  {
   "cell_type": "code",
   "execution_count": 51,
   "id": "c2e3e1a5",
   "metadata": {},
   "outputs": [
    {
     "data": {
      "text/plain": [
       "Text(0.5, 0, 'day')"
      ]
     },
     "execution_count": 51,
     "metadata": {},
     "output_type": "execute_result"
    },
    {
     "data": {
      "image/png": "[encoded data removed]",
      "text/plain": [
       "<Figure size 1080x504 with 1 Axes>"
      ]
     },
     "metadata": {
      "needs_background": "light"
     },
     "output_type": "display_data"
    }
   ],
   "source": [
    "plt.figure(figsize=(15,7))\n",
    "plt.title('Total revenue',color='white',size = 20)\n",
    "ax = sns.barplot(x=revenue_day.index,y=revenue_day\n",
    "                 ['total_amount'])\n",
    "ax.set_ylabel('revenue',color='white',size=15)\n",
    "ax.set_xlabel('day',color='white',size=15)"
   ]
  },
  {
   "cell_type": "code",
   "execution_count": 52,
   "id": "aa2eba50",
   "metadata": {},
   "outputs": [],
   "source": [
    "revenue_month = pd.DataFrame(df.groupby('month')['total_amount'].sum()).reindex(index=month_order)"
   ]
  },
  {
   "cell_type": "code",
   "execution_count": 53,
   "id": "f9cb2eda",
   "metadata": {},
   "outputs": [
    {
     "data": {
      "text/plain": [
       "Text(0.5, 0, 'month')"
      ]
     },
     "execution_count": 53,
     "metadata": {},
     "output_type": "execute_result"
    },
    {
     "data": {
      "image/png": "[encoded data removed]",
      "text/plain": [
       "<Figure size 1080x504 with 1 Axes>"
      ]
     },
     "metadata": {
      "needs_background": "light"
     },
     "output_type": "display_data"
    }
   ],
   "source": [
    "plt.figure(figsize=(15,7))\n",
    "plt.title('Total revenue',color='white',size = 20)\n",
    "ax = sns.barplot(x=revenue_month.index,y=revenue_month\n",
    "                 ['total_amount'])\n",
    "ax.set_ylabel('revenue',color='white',size=15)\n",
    "ax.set_xlabel('month',color='white',size=15)"
   ]
  },
  {
   "cell_type": "code",
   "execution_count": 54,
   "id": "85a0eb5c",
   "metadata": {},
   "outputs": [],
   "source": [
    "PU_count = pd.DataFrame(df['PULocationID'].value_counts()).sort_values('PULocationID',ascending=False)\n",
    "PU_count = PU_count.reset_index().rename(columns={'PULocationID':'user_count','index':'PULocationID'})"
   ]
  },
  {
   "cell_type": "code",
   "execution_count": 55,
   "id": "dc28844b",
   "metadata": {},
   "outputs": [
    {
     "data": {
      "text/html": [
       "<div>\n",
       "<style scoped>\n",
       "    .dataframe tbody tr th:only-of-type {\n",
       "        vertical-align: middle;\n",
       "    }\n",
       "\n",
       "    .dataframe tbody tr th {\n",
       "        vertical-align: top;\n",
       "    }\n",
       "\n",
       "    .dataframe thead th {\n",
       "        text-align: right;\n",
       "    }\n",
       "</style>\n",
       "<table border=\"1\" class=\"dataframe\">\n",
       "  <thead>\n",
       "    <tr style=\"text-align: right;\">\n",
       "      <th></th>\n",
       "      <th>PULocationID</th>\n",
       "      <th>user_count</th>\n",
       "    </tr>\n",
       "  </thead>\n",
       "  <tbody>\n",
       "    <tr>\n",
       "      <th>0</th>\n",
       "      <td>237</td>\n",
       "      <td>889</td>\n",
       "    </tr>\n",
       "    <tr>\n",
       "      <th>1</th>\n",
       "      <td>161</td>\n",
       "      <td>860</td>\n",
       "    </tr>\n",
       "    <tr>\n",
       "      <th>2</th>\n",
       "      <td>186</td>\n",
       "      <td>792</td>\n",
       "    </tr>\n",
       "    <tr>\n",
       "      <th>3</th>\n",
       "      <td>236</td>\n",
       "      <td>784</td>\n",
       "    </tr>\n",
       "    <tr>\n",
       "      <th>4</th>\n",
       "      <td>162</td>\n",
       "      <td>779</td>\n",
       "    </tr>\n",
       "  </tbody>\n",
       "</table>\n",
       "</div>"
      ],
      "text/plain": [
       "   PULocationID  user_count\n",
       "0           237         889\n",
       "1           161         860\n",
       "2           186         792\n",
       "3           236         784\n",
       "4           162         779"
      ]
     },
     "execution_count": 55,
     "metadata": {},
     "output_type": "execute_result"
    }
   ],
   "source": [
    "PU_count.head()"
   ]
  },
  {
   "cell_type": "code",
   "execution_count": 56,
   "id": "6f68f15a",
   "metadata": {},
   "outputs": [],
   "source": [
    "DO_count = pd.DataFrame(df['DOLocationID'].value_counts()).sort_values('DOLocationID',ascending=False)\n",
    "DO_count = DO_count.reset_index().rename(columns={'DOLocationID':'user_count','index':'DOLocationID'})"
   ]
  },
  {
   "cell_type": "code",
   "execution_count": 57,
   "id": "488cd7ec",
   "metadata": {},
   "outputs": [
    {
     "data": {
      "text/html": [
       "<div>\n",
       "<style scoped>\n",
       "    .dataframe tbody tr th:only-of-type {\n",
       "        vertical-align: middle;\n",
       "    }\n",
       "\n",
       "    .dataframe tbody tr th {\n",
       "        vertical-align: top;\n",
       "    }\n",
       "\n",
       "    .dataframe thead th {\n",
       "        text-align: right;\n",
       "    }\n",
       "</style>\n",
       "<table border=\"1\" class=\"dataframe\">\n",
       "  <thead>\n",
       "    <tr style=\"text-align: right;\">\n",
       "      <th></th>\n",
       "      <th>DOLocationID</th>\n",
       "      <th>user_count</th>\n",
       "    </tr>\n",
       "  </thead>\n",
       "  <tbody>\n",
       "    <tr>\n",
       "      <th>0</th>\n",
       "      <td>161</td>\n",
       "      <td>856</td>\n",
       "    </tr>\n",
       "    <tr>\n",
       "      <th>1</th>\n",
       "      <td>236</td>\n",
       "      <td>802</td>\n",
       "    </tr>\n",
       "    <tr>\n",
       "      <th>2</th>\n",
       "      <td>230</td>\n",
       "      <td>761</td>\n",
       "    </tr>\n",
       "    <tr>\n",
       "      <th>3</th>\n",
       "      <td>237</td>\n",
       "      <td>757</td>\n",
       "    </tr>\n",
       "    <tr>\n",
       "      <th>4</th>\n",
       "      <td>170</td>\n",
       "      <td>698</td>\n",
       "    </tr>\n",
       "  </tbody>\n",
       "</table>\n",
       "</div>"
      ],
      "text/plain": [
       "   DOLocationID  user_count\n",
       "0           161         856\n",
       "1           236         802\n",
       "2           230         761\n",
       "3           237         757\n",
       "4           170         698"
      ]
     },
     "execution_count": 57,
     "metadata": {},
     "output_type": "execute_result"
    }
   ],
   "source": [
    "DO_count.head()"
   ]
  },
  {
   "cell_type": "code",
   "execution_count": 58,
   "id": "aed40d6a",
   "metadata": {},
   "outputs": [],
   "source": [
    "use_tolls = pd.DataFrame(df[df['tolls_amount'] > 0].groupby('DOLocationID')['tolls_amount'].count()).sort_values('tolls_amount',ascending=False)   \n",
    "use_tolls = use_tolls.rename(columns={'tolls_amount':'tolls_count'})"
   ]
  },
  {
   "cell_type": "code",
   "execution_count": 59,
   "id": "427bd20f",
   "metadata": {},
   "outputs": [
    {
     "data": {
      "text/html": [
       "<div>\n",
       "<style scoped>\n",
       "    .dataframe tbody tr th:only-of-type {\n",
       "        vertical-align: middle;\n",
       "    }\n",
       "\n",
       "    .dataframe tbody tr th {\n",
       "        vertical-align: top;\n",
       "    }\n",
       "\n",
       "    .dataframe thead th {\n",
       "        text-align: right;\n",
       "    }\n",
       "</style>\n",
       "<table border=\"1\" class=\"dataframe\">\n",
       "  <thead>\n",
       "    <tr style=\"text-align: right;\">\n",
       "      <th></th>\n",
       "      <th>tolls_count</th>\n",
       "    </tr>\n",
       "    <tr>\n",
       "      <th>DOLocationID</th>\n",
       "      <th></th>\n",
       "    </tr>\n",
       "  </thead>\n",
       "  <tbody>\n",
       "    <tr>\n",
       "      <th>138</th>\n",
       "      <td>172</td>\n",
       "    </tr>\n",
       "    <tr>\n",
       "      <th>132</th>\n",
       "      <td>134</td>\n",
       "    </tr>\n",
       "    <tr>\n",
       "      <th>230</th>\n",
       "      <td>69</td>\n",
       "    </tr>\n",
       "    <tr>\n",
       "      <th>161</th>\n",
       "      <td>46</td>\n",
       "    </tr>\n",
       "    <tr>\n",
       "      <th>162</th>\n",
       "      <td>42</td>\n",
       "    </tr>\n",
       "  </tbody>\n",
       "</table>\n",
       "</div>"
      ],
      "text/plain": [
       "              tolls_count\n",
       "DOLocationID             \n",
       "138                   172\n",
       "132                   134\n",
       "230                    69\n",
       "161                    46\n",
       "162                    42"
      ]
     },
     "execution_count": 59,
     "metadata": {},
     "output_type": "execute_result"
    }
   ],
   "source": [
    "use_tolls.head()"
   ]
  },
  {
   "cell_type": "code",
   "execution_count": 60,
   "id": "2c55e1fe",
   "metadata": {},
   "outputs": [],
   "source": [
    "DO_airport = pd.DataFrame(df[df['tolls_amount'] > 0].groupby('DOLocationID')['tolls_amount'].count()).sort_values('tolls_amount',ascending=False)"
   ]
  },
  {
   "cell_type": "code",
   "execution_count": null,
   "id": "e68bb3c5",
   "metadata": {},
   "outputs": [],
   "source": []
  },
  {
   "cell_type": "markdown",
   "id": "9798d0d5",
   "metadata": {},
   "source": [
    "# Hypothesis test\n",
    "paymant type effects to total amount or not\n",
    "Ho:average total amount between customers who credit cards and   \n",
    "    customer who ues cash are equal\n",
    "Ha:average total amount between customers who credit cards and   \n",
    "    customer who ues cash are not equal(credit card > cash)\n",
    "significant level = 5%"
   ]
  },
  {
   "cell_type": "code",
   "execution_count": 61,
   "id": "c95639ce",
   "metadata": {},
   "outputs": [
    {
     "name": "stdout",
     "output_type": "stream",
     "text": [
      "average tip by vendor VendorID\n",
      "1    2.732815\n",
      "2    2.727397\n",
      "Name: tip_amount, dtype: float64\n",
      "average total amount by vendor VendorID\n",
      "1    16.150643\n",
      "2    16.244202\n",
      "Name: total_amount, dtype: float64\n",
      "average tip amount by payment type payment_type\n",
      "1    2.7298\n",
      "2    0.0000\n",
      "3    0.0000\n",
      "4    0.0000\n",
      "Name: tip_amount, dtype: float64\n",
      "average total amount by payment type payment_type\n",
      "1    17.511847\n",
      "2    13.471743\n",
      "3    14.668772\n",
      "4    17.116923\n",
      "Name: total_amount, dtype: float64\n",
      "average tip amount by passenger count passenger_count\n",
      "0    2.610370\n",
      "1    2.714681\n",
      "2    2.829949\n",
      "3    2.726800\n",
      "4    2.607753\n",
      "5    2.762645\n",
      "6    2.643326\n",
      "Name: tip_amount, dtype: float64\n",
      "average total amount by passenger count passenger_count\n",
      "0    17.624242\n",
      "1    15.960550\n",
      "2    17.197442\n",
      "3    16.592340\n",
      "4    16.610110\n",
      "5    16.281515\n",
      "6    16.087254\n",
      "Name: total_amount, dtype: float64\n"
     ]
    }
   ],
   "source": [
    "print('average tip by vendor',df[df['payment_type']==1]['tip_amount'].groupby(df['VendorID']).mean())\n",
    "print('average total amount by vendor',df.groupby('VendorID')['total_amount'].mean())\n",
    "print('average tip amount by payment type',df.groupby('payment_type')['tip_amount'].mean())\n",
    "print('average total amount by payment type',df.groupby('payment_type')['total_amount'].mean())\n",
    "print('average tip amount by passenger count',df[df['payment_type']==1]['tip_amount'].groupby(df['passenger_count']).mean())\n",
    "print('average total amount by passenger count',df.groupby('passenger_count')['total_amount'].mean())"
   ]
  },
  {
   "cell_type": "code",
   "execution_count": 62,
   "id": "8ab9da2d",
   "metadata": {},
   "outputs": [],
   "source": [
    "credit_card = df[df['payment_type']==1]['total_amount']\n",
    "cash = df[df['payment_type']==2]['total_amount']"
   ]
  },
  {
   "cell_type": "code",
   "execution_count": 63,
   "id": "112ec776",
   "metadata": {},
   "outputs": [
    {
     "data": {
      "text/plain": [
       "Ttest_indResult(statistic=23.472471488944887, pvalue=5.445140260779156e-120)"
      ]
     },
     "execution_count": 63,
     "metadata": {},
     "output_type": "execute_result"
    }
   ],
   "source": [
    "stats.ttest_ind(a=credit_card,b=cash, equal_var=False)"
   ]
  },
  {
   "cell_type": "markdown",
   "id": "935de4bd",
   "metadata": {},
   "source": [
    "pvalue < 0.05 ; reject Ho\n",
    "we should encouraging customers to pay with credit cards can generate more revenue for taxi cab drivers."
   ]
  },
  {
   "cell_type": "markdown",
   "id": "fad54315",
   "metadata": {},
   "source": [
    "passenger count effects to total amount or not Ho:average total amount between 1 passenger and more then 1 passenger are equal Ha:average total amount between 1 passenger and more then 1 passenger are not equal   significant level = 5%"
   ]
  },
  {
   "cell_type": "code",
   "execution_count": 64,
   "id": "bcbc3036",
   "metadata": {},
   "outputs": [],
   "source": [
    "passenger1 = df[df['passenger_count']==1]['total_amount']\n",
    "passenger2 = df[df['passenger_count']>1]['total_amount']"
   ]
  },
  {
   "cell_type": "code",
   "execution_count": 65,
   "id": "fe236c3d",
   "metadata": {},
   "outputs": [
    {
     "data": {
      "text/plain": [
       "Ttest_indResult(statistic=-4.141614843744731, pvalue=3.4737726948814854e-05)"
      ]
     },
     "execution_count": 65,
     "metadata": {},
     "output_type": "execute_result"
    }
   ],
   "source": [
    "stats.ttest_ind(a=passenger1,b=passenger2, equal_var=False)"
   ]
  },
  {
   "cell_type": "code",
   "execution_count": null,
   "id": "e286c4b4",
   "metadata": {},
   "outputs": [],
   "source": []
  },
  {
   "cell_type": "markdown",
   "id": "55146fcd",
   "metadata": {},
   "source": [
    "# Regression"
   ]
  },
  {
   "cell_type": "code",
   "execution_count": 66,
   "id": "44f85d73",
   "metadata": {},
   "outputs": [
    {
     "data": {
      "text/html": [
       "<div>\n",
       "<style scoped>\n",
       "    .dataframe tbody tr th:only-of-type {\n",
       "        vertical-align: middle;\n",
       "    }\n",
       "\n",
       "    .dataframe tbody tr th {\n",
       "        vertical-align: top;\n",
       "    }\n",
       "\n",
       "    .dataframe thead th {\n",
       "        text-align: right;\n",
       "    }\n",
       "</style>\n",
       "<table border=\"1\" class=\"dataframe\">\n",
       "  <thead>\n",
       "    <tr style=\"text-align: right;\">\n",
       "      <th></th>\n",
       "      <th>Unnamed: 0</th>\n",
       "      <th>VendorID</th>\n",
       "      <th>tpep_pickup_datetime</th>\n",
       "      <th>tpep_dropoff_datetime</th>\n",
       "      <th>passenger_count</th>\n",
       "      <th>trip_distance</th>\n",
       "      <th>PULocationID</th>\n",
       "      <th>DOLocationID</th>\n",
       "      <th>payment_type</th>\n",
       "      <th>fare_amount</th>\n",
       "      <th>tip_amount</th>\n",
       "      <th>tolls_amount</th>\n",
       "      <th>total_amount</th>\n",
       "      <th>pickup_hour</th>\n",
       "      <th>duration_minutes</th>\n",
       "      <th>day</th>\n",
       "      <th>month</th>\n",
       "      <th>duration_by_distance</th>\n",
       "    </tr>\n",
       "  </thead>\n",
       "  <tbody>\n",
       "    <tr>\n",
       "      <th>0</th>\n",
       "      <td>24870114</td>\n",
       "      <td>2</td>\n",
       "      <td>2017-03-25 08:55:43</td>\n",
       "      <td>2017-03-25 09:09:47</td>\n",
       "      <td>6</td>\n",
       "      <td>3.34</td>\n",
       "      <td>100</td>\n",
       "      <td>231</td>\n",
       "      <td>1</td>\n",
       "      <td>13.0</td>\n",
       "      <td>2.76</td>\n",
       "      <td>0.0</td>\n",
       "      <td>16.56</td>\n",
       "      <td>8</td>\n",
       "      <td>14.066667</td>\n",
       "      <td>Saturday</td>\n",
       "      <td>March</td>\n",
       "      <td>4.211577</td>\n",
       "    </tr>\n",
       "    <tr>\n",
       "      <th>1</th>\n",
       "      <td>35634249</td>\n",
       "      <td>1</td>\n",
       "      <td>2017-04-11 14:53:28</td>\n",
       "      <td>2017-04-11 15:19:58</td>\n",
       "      <td>1</td>\n",
       "      <td>1.80</td>\n",
       "      <td>186</td>\n",
       "      <td>43</td>\n",
       "      <td>1</td>\n",
       "      <td>16.0</td>\n",
       "      <td>4.00</td>\n",
       "      <td>0.0</td>\n",
       "      <td>20.80</td>\n",
       "      <td>14</td>\n",
       "      <td>26.500000</td>\n",
       "      <td>Tuesday</td>\n",
       "      <td>April</td>\n",
       "      <td>14.722222</td>\n",
       "    </tr>\n",
       "    <tr>\n",
       "      <th>2</th>\n",
       "      <td>106203690</td>\n",
       "      <td>1</td>\n",
       "      <td>2017-12-15 07:26:56</td>\n",
       "      <td>2017-12-15 07:34:08</td>\n",
       "      <td>1</td>\n",
       "      <td>1.00</td>\n",
       "      <td>262</td>\n",
       "      <td>236</td>\n",
       "      <td>1</td>\n",
       "      <td>6.5</td>\n",
       "      <td>1.45</td>\n",
       "      <td>0.0</td>\n",
       "      <td>8.75</td>\n",
       "      <td>7</td>\n",
       "      <td>7.200000</td>\n",
       "      <td>Friday</td>\n",
       "      <td>December</td>\n",
       "      <td>7.200000</td>\n",
       "    </tr>\n",
       "    <tr>\n",
       "      <th>3</th>\n",
       "      <td>38942136</td>\n",
       "      <td>2</td>\n",
       "      <td>2017-05-07 13:17:59</td>\n",
       "      <td>2017-05-07 13:48:14</td>\n",
       "      <td>1</td>\n",
       "      <td>3.70</td>\n",
       "      <td>188</td>\n",
       "      <td>97</td>\n",
       "      <td>1</td>\n",
       "      <td>20.5</td>\n",
       "      <td>6.39</td>\n",
       "      <td>0.0</td>\n",
       "      <td>27.69</td>\n",
       "      <td>13</td>\n",
       "      <td>30.250000</td>\n",
       "      <td>Sunday</td>\n",
       "      <td>May</td>\n",
       "      <td>8.175676</td>\n",
       "    </tr>\n",
       "    <tr>\n",
       "      <th>4</th>\n",
       "      <td>30841670</td>\n",
       "      <td>2</td>\n",
       "      <td>2017-04-15 23:32:20</td>\n",
       "      <td>2017-04-15 23:49:03</td>\n",
       "      <td>1</td>\n",
       "      <td>4.37</td>\n",
       "      <td>4</td>\n",
       "      <td>112</td>\n",
       "      <td>2</td>\n",
       "      <td>16.5</td>\n",
       "      <td>0.00</td>\n",
       "      <td>0.0</td>\n",
       "      <td>17.80</td>\n",
       "      <td>23</td>\n",
       "      <td>16.716667</td>\n",
       "      <td>Saturday</td>\n",
       "      <td>April</td>\n",
       "      <td>3.825324</td>\n",
       "    </tr>\n",
       "  </tbody>\n",
       "</table>\n",
       "</div>"
      ],
      "text/plain": [
       "   Unnamed: 0  VendorID tpep_pickup_datetime tpep_dropoff_datetime  \\\n",
       "0    24870114         2  2017-03-25 08:55:43   2017-03-25 09:09:47   \n",
       "1    35634249         1  2017-04-11 14:53:28   2017-04-11 15:19:58   \n",
       "2   106203690         1  2017-12-15 07:26:56   2017-12-15 07:34:08   \n",
       "3    38942136         2  2017-05-07 13:17:59   2017-05-07 13:48:14   \n",
       "4    30841670         2  2017-04-15 23:32:20   2017-04-15 23:49:03   \n",
       "\n",
       "   passenger_count  trip_distance  PULocationID  DOLocationID  payment_type  \\\n",
       "0                6           3.34           100           231             1   \n",
       "1                1           1.80           186            43             1   \n",
       "2                1           1.00           262           236             1   \n",
       "3                1           3.70           188            97             1   \n",
       "4                1           4.37             4           112             2   \n",
       "\n",
       "   fare_amount  tip_amount  tolls_amount  total_amount  pickup_hour  \\\n",
       "0         13.0        2.76           0.0         16.56            8   \n",
       "1         16.0        4.00           0.0         20.80           14   \n",
       "2          6.5        1.45           0.0          8.75            7   \n",
       "3         20.5        6.39           0.0         27.69           13   \n",
       "4         16.5        0.00           0.0         17.80           23   \n",
       "\n",
       "   duration_minutes       day     month  duration_by_distance  \n",
       "0         14.066667  Saturday     March              4.211577  \n",
       "1         26.500000   Tuesday     April             14.722222  \n",
       "2          7.200000    Friday  December              7.200000  \n",
       "3         30.250000    Sunday       May              8.175676  \n",
       "4         16.716667  Saturday     April              3.825324  "
      ]
     },
     "execution_count": 66,
     "metadata": {},
     "output_type": "execute_result"
    }
   ],
   "source": [
    "df.head()"
   ]
  },
  {
   "cell_type": "code",
   "execution_count": 67,
   "id": "873d60c2",
   "metadata": {},
   "outputs": [],
   "source": [
    "df['pickup_dropof'] = df['PULocationID'].astype(str) + ' ' + df['DOLocationID'].astype(str)"
   ]
  },
  {
   "cell_type": "code",
   "execution_count": 68,
   "id": "cb95034a",
   "metadata": {},
   "outputs": [],
   "source": [
    "mean_duration = df.groupby('pickup_dropof')['duration_minutes'].mean().to_dict()"
   ]
  },
  {
   "cell_type": "code",
   "execution_count": 69,
   "id": "b2fed627",
   "metadata": {},
   "outputs": [],
   "source": [
    "df['mean_duration'] = df['pickup_dropof'].map(mean_duration)"
   ]
  },
  {
   "cell_type": "code",
   "execution_count": 70,
   "id": "1297cdbe",
   "metadata": {},
   "outputs": [],
   "source": [
    "mean_distance = df.groupby('pickup_dropof')['trip_distance'].mean().to_dict()"
   ]
  },
  {
   "cell_type": "code",
   "execution_count": 71,
   "id": "a75368fb",
   "metadata": {},
   "outputs": [],
   "source": [
    "df['mean_distance'] = df['pickup_dropof'].map(mean_distance)"
   ]
  },
  {
   "cell_type": "code",
   "execution_count": 72,
   "id": "abb010cf",
   "metadata": {},
   "outputs": [
    {
     "data": {
      "text/html": [
       "<div>\n",
       "<style scoped>\n",
       "    .dataframe tbody tr th:only-of-type {\n",
       "        vertical-align: middle;\n",
       "    }\n",
       "\n",
       "    .dataframe tbody tr th {\n",
       "        vertical-align: top;\n",
       "    }\n",
       "\n",
       "    .dataframe thead th {\n",
       "        text-align: right;\n",
       "    }\n",
       "</style>\n",
       "<table border=\"1\" class=\"dataframe\">\n",
       "  <thead>\n",
       "    <tr style=\"text-align: right;\">\n",
       "      <th></th>\n",
       "      <th>Unnamed: 0</th>\n",
       "      <th>VendorID</th>\n",
       "      <th>tpep_pickup_datetime</th>\n",
       "      <th>tpep_dropoff_datetime</th>\n",
       "      <th>passenger_count</th>\n",
       "      <th>trip_distance</th>\n",
       "      <th>PULocationID</th>\n",
       "      <th>DOLocationID</th>\n",
       "      <th>payment_type</th>\n",
       "      <th>fare_amount</th>\n",
       "      <th>...</th>\n",
       "      <th>tolls_amount</th>\n",
       "      <th>total_amount</th>\n",
       "      <th>pickup_hour</th>\n",
       "      <th>duration_minutes</th>\n",
       "      <th>day</th>\n",
       "      <th>month</th>\n",
       "      <th>duration_by_distance</th>\n",
       "      <th>pickup_dropof</th>\n",
       "      <th>mean_duration</th>\n",
       "      <th>mean_distance</th>\n",
       "    </tr>\n",
       "  </thead>\n",
       "  <tbody>\n",
       "    <tr>\n",
       "      <th>0</th>\n",
       "      <td>24870114</td>\n",
       "      <td>2</td>\n",
       "      <td>2017-03-25 08:55:43</td>\n",
       "      <td>2017-03-25 09:09:47</td>\n",
       "      <td>6</td>\n",
       "      <td>3.34</td>\n",
       "      <td>100</td>\n",
       "      <td>231</td>\n",
       "      <td>1</td>\n",
       "      <td>13.0</td>\n",
       "      <td>...</td>\n",
       "      <td>0.0</td>\n",
       "      <td>16.56</td>\n",
       "      <td>8</td>\n",
       "      <td>14.066667</td>\n",
       "      <td>Saturday</td>\n",
       "      <td>March</td>\n",
       "      <td>4.211577</td>\n",
       "      <td>100 231</td>\n",
       "      <td>22.847222</td>\n",
       "      <td>3.521667</td>\n",
       "    </tr>\n",
       "    <tr>\n",
       "      <th>1</th>\n",
       "      <td>35634249</td>\n",
       "      <td>1</td>\n",
       "      <td>2017-04-11 14:53:28</td>\n",
       "      <td>2017-04-11 15:19:58</td>\n",
       "      <td>1</td>\n",
       "      <td>1.80</td>\n",
       "      <td>186</td>\n",
       "      <td>43</td>\n",
       "      <td>1</td>\n",
       "      <td>16.0</td>\n",
       "      <td>...</td>\n",
       "      <td>0.0</td>\n",
       "      <td>20.80</td>\n",
       "      <td>14</td>\n",
       "      <td>26.500000</td>\n",
       "      <td>Tuesday</td>\n",
       "      <td>April</td>\n",
       "      <td>14.722222</td>\n",
       "      <td>186 43</td>\n",
       "      <td>24.470370</td>\n",
       "      <td>3.108889</td>\n",
       "    </tr>\n",
       "    <tr>\n",
       "      <th>2</th>\n",
       "      <td>106203690</td>\n",
       "      <td>1</td>\n",
       "      <td>2017-12-15 07:26:56</td>\n",
       "      <td>2017-12-15 07:34:08</td>\n",
       "      <td>1</td>\n",
       "      <td>1.00</td>\n",
       "      <td>262</td>\n",
       "      <td>236</td>\n",
       "      <td>1</td>\n",
       "      <td>6.5</td>\n",
       "      <td>...</td>\n",
       "      <td>0.0</td>\n",
       "      <td>8.75</td>\n",
       "      <td>7</td>\n",
       "      <td>7.200000</td>\n",
       "      <td>Friday</td>\n",
       "      <td>December</td>\n",
       "      <td>7.200000</td>\n",
       "      <td>262 236</td>\n",
       "      <td>7.250000</td>\n",
       "      <td>0.881429</td>\n",
       "    </tr>\n",
       "    <tr>\n",
       "      <th>3</th>\n",
       "      <td>38942136</td>\n",
       "      <td>2</td>\n",
       "      <td>2017-05-07 13:17:59</td>\n",
       "      <td>2017-05-07 13:48:14</td>\n",
       "      <td>1</td>\n",
       "      <td>3.70</td>\n",
       "      <td>188</td>\n",
       "      <td>97</td>\n",
       "      <td>1</td>\n",
       "      <td>20.5</td>\n",
       "      <td>...</td>\n",
       "      <td>0.0</td>\n",
       "      <td>27.69</td>\n",
       "      <td>13</td>\n",
       "      <td>30.250000</td>\n",
       "      <td>Sunday</td>\n",
       "      <td>May</td>\n",
       "      <td>8.175676</td>\n",
       "      <td>188 97</td>\n",
       "      <td>30.250000</td>\n",
       "      <td>3.700000</td>\n",
       "    </tr>\n",
       "    <tr>\n",
       "      <th>4</th>\n",
       "      <td>30841670</td>\n",
       "      <td>2</td>\n",
       "      <td>2017-04-15 23:32:20</td>\n",
       "      <td>2017-04-15 23:49:03</td>\n",
       "      <td>1</td>\n",
       "      <td>4.37</td>\n",
       "      <td>4</td>\n",
       "      <td>112</td>\n",
       "      <td>2</td>\n",
       "      <td>16.5</td>\n",
       "      <td>...</td>\n",
       "      <td>0.0</td>\n",
       "      <td>17.80</td>\n",
       "      <td>23</td>\n",
       "      <td>16.716667</td>\n",
       "      <td>Saturday</td>\n",
       "      <td>April</td>\n",
       "      <td>3.825324</td>\n",
       "      <td>4 112</td>\n",
       "      <td>14.616667</td>\n",
       "      <td>4.435000</td>\n",
       "    </tr>\n",
       "  </tbody>\n",
       "</table>\n",
       "<p>5 rows × 21 columns</p>\n",
       "</div>"
      ],
      "text/plain": [
       "   Unnamed: 0  VendorID tpep_pickup_datetime tpep_dropoff_datetime  \\\n",
       "0    24870114         2  2017-03-25 08:55:43   2017-03-25 09:09:47   \n",
       "1    35634249         1  2017-04-11 14:53:28   2017-04-11 15:19:58   \n",
       "2   106203690         1  2017-12-15 07:26:56   2017-12-15 07:34:08   \n",
       "3    38942136         2  2017-05-07 13:17:59   2017-05-07 13:48:14   \n",
       "4    30841670         2  2017-04-15 23:32:20   2017-04-15 23:49:03   \n",
       "\n",
       "   passenger_count  trip_distance  PULocationID  DOLocationID  payment_type  \\\n",
       "0                6           3.34           100           231             1   \n",
       "1                1           1.80           186            43             1   \n",
       "2                1           1.00           262           236             1   \n",
       "3                1           3.70           188            97             1   \n",
       "4                1           4.37             4           112             2   \n",
       "\n",
       "   fare_amount  ...  tolls_amount  total_amount  pickup_hour  \\\n",
       "0         13.0  ...           0.0         16.56            8   \n",
       "1         16.0  ...           0.0         20.80           14   \n",
       "2          6.5  ...           0.0          8.75            7   \n",
       "3         20.5  ...           0.0         27.69           13   \n",
       "4         16.5  ...           0.0         17.80           23   \n",
       "\n",
       "   duration_minutes       day     month duration_by_distance  pickup_dropof  \\\n",
       "0         14.066667  Saturday     March             4.211577        100 231   \n",
       "1         26.500000   Tuesday     April            14.722222         186 43   \n",
       "2          7.200000    Friday  December             7.200000        262 236   \n",
       "3         30.250000    Sunday       May             8.175676         188 97   \n",
       "4         16.716667  Saturday     April             3.825324          4 112   \n",
       "\n",
       "  mean_duration  mean_distance  \n",
       "0     22.847222       3.521667  \n",
       "1     24.470370       3.108889  \n",
       "2      7.250000       0.881429  \n",
       "3     30.250000       3.700000  \n",
       "4     14.616667       4.435000  \n",
       "\n",
       "[5 rows x 21 columns]"
      ]
     },
     "execution_count": 72,
     "metadata": {},
     "output_type": "execute_result"
    }
   ],
   "source": [
    "df.head()"
   ]
  },
  {
   "cell_type": "code",
   "execution_count": 73,
   "id": "d7470e7e",
   "metadata": {},
   "outputs": [
    {
     "data": {
      "text/plain": [
       "Text(0.5, 1.0, 'fare amount x mean duration')"
      ]
     },
     "execution_count": 73,
     "metadata": {},
     "output_type": "execute_result"
    },
    {
     "data": {
      "image/png": "[encoded data removed]",
      "text/plain": [
       "<Figure size 360x360 with 1 Axes>"
      ]
     },
     "metadata": {
      "needs_background": "light"
     },
     "output_type": "display_data"
    }
   ],
   "source": [
    "plt.figure(figsize=(5,5))\n",
    "sns.set(style='whitegrid')\n",
    "sns.regplot(x=df['mean_duration'],y=df['fare_amount'],\n",
    "           scatter_kws={'alpha':0.5,'s':5},\n",
    "           line_kws={'color' : 'red'})\n",
    "plt.xlim(0,80)\n",
    "plt.ylim(0,80)\n",
    "plt.title('fare amount x mean duration')\n"
   ]
  },
  {
   "cell_type": "code",
   "execution_count": 79,
   "id": "926a605a",
   "metadata": {},
   "outputs": [
    {
     "data": {
      "text/plain": [
       "Text(0.5, 1.0, 'fare amount x mean distance')"
      ]
     },
     "execution_count": 79,
     "metadata": {},
     "output_type": "execute_result"
    },
    {
     "data": {
      "image/png": "[encoded data removed]",
      "text/plain": [
       "<Figure size 360x360 with 1 Axes>"
      ]
     },
     "metadata": {},
     "output_type": "display_data"
    }
   ],
   "source": [
    "plt.figure(figsize=(5,5))\n",
    "sns.set(style='whitegrid')\n",
    "sns.regplot(x=df['mean_distance'],y=df['fare_amount'],\n",
    "           scatter_kws= {'alpha':0.5,'s':5},\n",
    "           line_kws={'color':'red'})\n",
    "plt.xlim(0,30)\n",
    "plt.ylim(0,80)\n",
    "plt.title('fare amount x mean distance')"
   ]
  },
  {
   "cell_type": "code",
   "execution_count": 85,
   "id": "07e7f028",
   "metadata": {},
   "outputs": [],
   "source": [
    "rush_hour = []\n",
    "for i in df['pickup_hour']:\n",
    "    if 6 <= i <10:\n",
    "        rush_hour.append(1)\n",
    "    elif 16 <= i < 20:\n",
    "        rush_hour.append(1)\n",
    "    else:\n",
    "        rush_hour.append(0)"
   ]
  },
  {
   "cell_type": "code",
   "execution_count": 90,
   "id": "be2cbd9c",
   "metadata": {},
   "outputs": [],
   "source": [
    "df['rush_hour'] = rush_hour\n",
    "df.loc[df['day'].isin(['Saturday','Sunday']),'rush_hour'] = 0"
   ]
  },
  {
   "cell_type": "code",
   "execution_count": 98,
   "id": "7298f15a",
   "metadata": {},
   "outputs": [
    {
     "data": {
      "text/html": [
       "<div>\n",
       "<style scoped>\n",
       "    .dataframe tbody tr th:only-of-type {\n",
       "        vertical-align: middle;\n",
       "    }\n",
       "\n",
       "    .dataframe tbody tr th {\n",
       "        vertical-align: top;\n",
       "    }\n",
       "\n",
       "    .dataframe thead th {\n",
       "        text-align: right;\n",
       "    }\n",
       "</style>\n",
       "<table border=\"1\" class=\"dataframe\">\n",
       "  <thead>\n",
       "    <tr style=\"text-align: right;\">\n",
       "      <th></th>\n",
       "      <th>Unnamed: 0</th>\n",
       "      <th>VendorID</th>\n",
       "      <th>tpep_pickup_datetime</th>\n",
       "      <th>tpep_dropoff_datetime</th>\n",
       "      <th>passenger_count</th>\n",
       "      <th>trip_distance</th>\n",
       "      <th>PULocationID</th>\n",
       "      <th>DOLocationID</th>\n",
       "      <th>payment_type</th>\n",
       "      <th>fare_amount</th>\n",
       "      <th>...</th>\n",
       "      <th>total_amount</th>\n",
       "      <th>pickup_hour</th>\n",
       "      <th>duration_minutes</th>\n",
       "      <th>day</th>\n",
       "      <th>month</th>\n",
       "      <th>duration_by_distance</th>\n",
       "      <th>pickup_dropof</th>\n",
       "      <th>mean_duration</th>\n",
       "      <th>mean_distance</th>\n",
       "      <th>rush_hour</th>\n",
       "    </tr>\n",
       "  </thead>\n",
       "  <tbody>\n",
       "    <tr>\n",
       "      <th>0</th>\n",
       "      <td>24870114</td>\n",
       "      <td>2</td>\n",
       "      <td>2017-03-25 08:55:43</td>\n",
       "      <td>2017-03-25 09:09:47</td>\n",
       "      <td>6</td>\n",
       "      <td>3.34</td>\n",
       "      <td>100</td>\n",
       "      <td>231</td>\n",
       "      <td>1</td>\n",
       "      <td>13.0</td>\n",
       "      <td>...</td>\n",
       "      <td>16.56</td>\n",
       "      <td>8</td>\n",
       "      <td>14.066667</td>\n",
       "      <td>Saturday</td>\n",
       "      <td>March</td>\n",
       "      <td>4.211577</td>\n",
       "      <td>100 231</td>\n",
       "      <td>22.847222</td>\n",
       "      <td>3.521667</td>\n",
       "      <td>0</td>\n",
       "    </tr>\n",
       "    <tr>\n",
       "      <th>1</th>\n",
       "      <td>35634249</td>\n",
       "      <td>1</td>\n",
       "      <td>2017-04-11 14:53:28</td>\n",
       "      <td>2017-04-11 15:19:58</td>\n",
       "      <td>1</td>\n",
       "      <td>1.80</td>\n",
       "      <td>186</td>\n",
       "      <td>43</td>\n",
       "      <td>1</td>\n",
       "      <td>16.0</td>\n",
       "      <td>...</td>\n",
       "      <td>20.80</td>\n",
       "      <td>14</td>\n",
       "      <td>26.500000</td>\n",
       "      <td>Tuesday</td>\n",
       "      <td>April</td>\n",
       "      <td>14.722222</td>\n",
       "      <td>186 43</td>\n",
       "      <td>24.470370</td>\n",
       "      <td>3.108889</td>\n",
       "      <td>0</td>\n",
       "    </tr>\n",
       "    <tr>\n",
       "      <th>2</th>\n",
       "      <td>106203690</td>\n",
       "      <td>1</td>\n",
       "      <td>2017-12-15 07:26:56</td>\n",
       "      <td>2017-12-15 07:34:08</td>\n",
       "      <td>1</td>\n",
       "      <td>1.00</td>\n",
       "      <td>262</td>\n",
       "      <td>236</td>\n",
       "      <td>1</td>\n",
       "      <td>6.5</td>\n",
       "      <td>...</td>\n",
       "      <td>8.75</td>\n",
       "      <td>7</td>\n",
       "      <td>7.200000</td>\n",
       "      <td>Friday</td>\n",
       "      <td>December</td>\n",
       "      <td>7.200000</td>\n",
       "      <td>262 236</td>\n",
       "      <td>7.250000</td>\n",
       "      <td>0.881429</td>\n",
       "      <td>1</td>\n",
       "    </tr>\n",
       "    <tr>\n",
       "      <th>3</th>\n",
       "      <td>38942136</td>\n",
       "      <td>2</td>\n",
       "      <td>2017-05-07 13:17:59</td>\n",
       "      <td>2017-05-07 13:48:14</td>\n",
       "      <td>1</td>\n",
       "      <td>3.70</td>\n",
       "      <td>188</td>\n",
       "      <td>97</td>\n",
       "      <td>1</td>\n",
       "      <td>20.5</td>\n",
       "      <td>...</td>\n",
       "      <td>27.69</td>\n",
       "      <td>13</td>\n",
       "      <td>30.250000</td>\n",
       "      <td>Sunday</td>\n",
       "      <td>May</td>\n",
       "      <td>8.175676</td>\n",
       "      <td>188 97</td>\n",
       "      <td>30.250000</td>\n",
       "      <td>3.700000</td>\n",
       "      <td>0</td>\n",
       "    </tr>\n",
       "    <tr>\n",
       "      <th>4</th>\n",
       "      <td>30841670</td>\n",
       "      <td>2</td>\n",
       "      <td>2017-04-15 23:32:20</td>\n",
       "      <td>2017-04-15 23:49:03</td>\n",
       "      <td>1</td>\n",
       "      <td>4.37</td>\n",
       "      <td>4</td>\n",
       "      <td>112</td>\n",
       "      <td>2</td>\n",
       "      <td>16.5</td>\n",
       "      <td>...</td>\n",
       "      <td>17.80</td>\n",
       "      <td>23</td>\n",
       "      <td>16.716667</td>\n",
       "      <td>Saturday</td>\n",
       "      <td>April</td>\n",
       "      <td>3.825324</td>\n",
       "      <td>4 112</td>\n",
       "      <td>14.616667</td>\n",
       "      <td>4.435000</td>\n",
       "      <td>0</td>\n",
       "    </tr>\n",
       "  </tbody>\n",
       "</table>\n",
       "<p>5 rows × 22 columns</p>\n",
       "</div>"
      ],
      "text/plain": [
       "   Unnamed: 0  VendorID tpep_pickup_datetime tpep_dropoff_datetime  \\\n",
       "0    24870114         2  2017-03-25 08:55:43   2017-03-25 09:09:47   \n",
       "1    35634249         1  2017-04-11 14:53:28   2017-04-11 15:19:58   \n",
       "2   106203690         1  2017-12-15 07:26:56   2017-12-15 07:34:08   \n",
       "3    38942136         2  2017-05-07 13:17:59   2017-05-07 13:48:14   \n",
       "4    30841670         2  2017-04-15 23:32:20   2017-04-15 23:49:03   \n",
       "\n",
       "   passenger_count  trip_distance  PULocationID  DOLocationID  payment_type  \\\n",
       "0                6           3.34           100           231             1   \n",
       "1                1           1.80           186            43             1   \n",
       "2                1           1.00           262           236             1   \n",
       "3                1           3.70           188            97             1   \n",
       "4                1           4.37             4           112             2   \n",
       "\n",
       "   fare_amount  ...  total_amount  pickup_hour  duration_minutes       day  \\\n",
       "0         13.0  ...         16.56            8         14.066667  Saturday   \n",
       "1         16.0  ...         20.80           14         26.500000   Tuesday   \n",
       "2          6.5  ...          8.75            7          7.200000    Friday   \n",
       "3         20.5  ...         27.69           13         30.250000    Sunday   \n",
       "4         16.5  ...         17.80           23         16.716667  Saturday   \n",
       "\n",
       "      month duration_by_distance pickup_dropof  mean_duration mean_distance  \\\n",
       "0     March             4.211577       100 231      22.847222      3.521667   \n",
       "1     April            14.722222        186 43      24.470370      3.108889   \n",
       "2  December             7.200000       262 236       7.250000      0.881429   \n",
       "3       May             8.175676        188 97      30.250000      3.700000   \n",
       "4     April             3.825324         4 112      14.616667      4.435000   \n",
       "\n",
       "   rush_hour  \n",
       "0          0  \n",
       "1          0  \n",
       "2          1  \n",
       "3          0  \n",
       "4          0  \n",
       "\n",
       "[5 rows x 22 columns]"
      ]
     },
     "execution_count": 98,
     "metadata": {},
     "output_type": "execute_result"
    }
   ],
   "source": [
    "df.head()"
   ]
  },
  {
   "cell_type": "code",
   "execution_count": 104,
   "id": "14043aba",
   "metadata": {},
   "outputs": [],
   "source": [
    "df2 = df[['fare_amount','VendorID','passenger_count','mean_duration','mean_distance','rush_hour']]"
   ]
  },
  {
   "cell_type": "code",
   "execution_count": 105,
   "id": "0d4946b4",
   "metadata": {},
   "outputs": [
    {
     "data": {
      "text/plain": [
       "<seaborn.axisgrid.PairGrid at 0x15c1d9f0cd0>"
      ]
     },
     "execution_count": 105,
     "metadata": {},
     "output_type": "execute_result"
    },
    {
     "data": {
      "image/png": "[encoded data removed]",
      "text/plain": [
       "<Figure size 540x540 with 12 Axes>"
      ]
     },
     "metadata": {},
     "output_type": "display_data"
    }
   ],
   "source": [
    "sns.pairplot(df2[['fare_amount','mean_distance','mean_duration']],\n",
    "            plot_kws={'alpha':0.5,'s':5})"
   ]
  },
  {
   "cell_type": "code",
   "execution_count": null,
   "id": "80e1f62d",
   "metadata": {},
   "outputs": [],
   "source": []
  },
  {
   "cell_type": "code",
   "execution_count": null,
   "id": "3ad1261c",
   "metadata": {},
   "outputs": [],
   "source": []
  },
  {
   "cell_type": "code",
   "execution_count": null,
   "id": "b35a17e6",
   "metadata": {},
   "outputs": [],
   "source": []
  },
  {
   "cell_type": "code",
   "execution_count": 106,
   "id": "d2f632ac",
   "metadata": {},
   "outputs": [
    {
     "data": {
      "text/plain": [
       "<AxesSubplot:>"
      ]
     },
     "execution_count": 106,
     "metadata": {},
     "output_type": "execute_result"
    },
    {
     "data": {
      "image/png": "[encoded data removed]",
      "text/plain": [
       "<Figure size 432x288 with 2 Axes>"
      ]
     },
     "metadata": {},
     "output_type": "display_data"
    }
   ],
   "source": [
    "sns.heatmap(df2.corr(method='pearson'), annot=True ,cmap='Reds')"
   ]
  },
  {
   "cell_type": "code",
   "execution_count": 109,
   "id": "580ae22d",
   "metadata": {},
   "outputs": [],
   "source": [
    "x = df2.drop(['fare_amount'],axis=1)"
   ]
  },
  {
   "cell_type": "code",
   "execution_count": 111,
   "id": "c3abcb94",
   "metadata": {},
   "outputs": [],
   "source": [
    "y = df2['fare_amount']"
   ]
  },
  {
   "cell_type": "code",
   "execution_count": 114,
   "id": "4bbd3a21",
   "metadata": {},
   "outputs": [],
   "source": [
    "x['VendorID'] = x['VendorID'].astype('str')"
   ]
  },
  {
   "cell_type": "code",
   "execution_count": 115,
   "id": "cf0b6b7c",
   "metadata": {},
   "outputs": [],
   "source": [
    "x = pd.get_dummies(x,drop_first=True)"
   ]
  },
  {
   "cell_type": "code",
   "execution_count": null,
   "id": "6c3138f7",
   "metadata": {},
   "outputs": [],
   "source": []
  },
  {
   "cell_type": "code",
   "execution_count": null,
   "id": "f12c422e",
   "metadata": {},
   "outputs": [],
   "source": []
  }
 ],
 "metadata": {
  "kernelspec": {
   "display_name": "Python 3 (ipykernel)",
   "language": "python",
   "name": "python3"
  },
  "language_info": {
   "codemirror_mode": {
    "name": "ipython",
    "version": 3
   },
   "file_extension": ".py",
   "mimetype": "text/x-python",
   "name": "python",
   "nbconvert_exporter": "python",
   "pygments_lexer": "ipython3",
   "version": "3.9.7"
  },
  "varInspector": {
   "cols": {
    "lenName": 16,
    "lenType": 16,
    "lenVar": 40
   },
   "kernels_config": {
    "python": {
     "delete_cmd_postfix": "",
     "delete_cmd_prefix": "del ",
     "library": "var_list.py",
     "varRefreshCmd": "print(var_dic_list())"
    },
    "r": {
     "delete_cmd_postfix": ") ",
     "delete_cmd_prefix": "rm(",
     "library": "var_list.r",
     "varRefreshCmd": "cat(var_dic_list()) "
    }
   },
   "types_to_exclude": [
    "module",
    "function",
    "builtin_function_or_method",
    "instance",
    "_Feature"
   ],
   "window_display": false
  }
 },
 "nbformat": 4,
 "nbformat_minor": 5
}
