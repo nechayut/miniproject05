{
 "cells": [
  {
   "cell_type": "code",
   "execution_count": 43,
   "id": "3a2a1099",
   "metadata": {},
   "outputs": [],
   "source": [
    "import pandas as pd\n",
    "import numpy as np\n",
    "from scipy import stats\n",
    "import seaborn as sns\n",
    "import matplotlib.pyplot as plt\n",
    "import datetime as dt"
   ]
  },
  {
   "cell_type": "code",
   "execution_count": 44,
   "id": "3beff098",
   "metadata": {},
   "outputs": [],
   "source": [
    "df = pd.read_csv('Data/Taxi.csv')\n",
    "data_dictionary = pd.read_excel('Data/taxi_dic.xlsx')"
   ]
  },
  {
   "cell_type": "markdown",
   "id": "ac8f8c1b",
   "metadata": {},
   "source": [
    "# EDA"
   ]
  },
  {
   "cell_type": "code",
   "execution_count": 45,
   "id": "85a43680",
   "metadata": {},
   "outputs": [
    {
     "data": {
      "text/html": [
       "<div>\n",
       "<style scoped>\n",
       "    .dataframe tbody tr th:only-of-type {\n",
       "        vertical-align: middle;\n",
       "    }\n",
       "\n",
       "    .dataframe tbody tr th {\n",
       "        vertical-align: top;\n",
       "    }\n",
       "\n",
       "    .dataframe thead th {\n",
       "        text-align: right;\n",
       "    }\n",
       "</style>\n",
       "<table border=\"1\" class=\"dataframe\">\n",
       "  <thead>\n",
       "    <tr style=\"text-align: right;\">\n",
       "      <th></th>\n",
       "      <th>Column name</th>\n",
       "      <th>Description</th>\n",
       "    </tr>\n",
       "  </thead>\n",
       "  <tbody>\n",
       "    <tr>\n",
       "      <th>0</th>\n",
       "      <td>ID</td>\n",
       "      <td>Trip identification number</td>\n",
       "    </tr>\n",
       "    <tr>\n",
       "      <th>1</th>\n",
       "      <td>VendorID</td>\n",
       "      <td>A code indicating the TPEP provider that provi...</td>\n",
       "    </tr>\n",
       "    <tr>\n",
       "      <th>2</th>\n",
       "      <td>NaN</td>\n",
       "      <td>NaN</td>\n",
       "    </tr>\n",
       "    <tr>\n",
       "      <th>3</th>\n",
       "      <td>NaN</td>\n",
       "      <td>1= Creative Mobile Technologies, LLC;</td>\n",
       "    </tr>\n",
       "    <tr>\n",
       "      <th>4</th>\n",
       "      <td>NaN</td>\n",
       "      <td>NaN</td>\n",
       "    </tr>\n",
       "    <tr>\n",
       "      <th>5</th>\n",
       "      <td>NaN</td>\n",
       "      <td>2= VeriFone Inc.</td>\n",
       "    </tr>\n",
       "    <tr>\n",
       "      <th>6</th>\n",
       "      <td>tpep_pickup_datetime</td>\n",
       "      <td>The date and time when the meter was engaged.</td>\n",
       "    </tr>\n",
       "    <tr>\n",
       "      <th>7</th>\n",
       "      <td>tpep_dropoff_datetime</td>\n",
       "      <td>The date and time when the meter was disengaged.</td>\n",
       "    </tr>\n",
       "    <tr>\n",
       "      <th>8</th>\n",
       "      <td>Passenger_count</td>\n",
       "      <td>The number of passengers in the vehicle.</td>\n",
       "    </tr>\n",
       "    <tr>\n",
       "      <th>9</th>\n",
       "      <td>NaN</td>\n",
       "      <td>NaN</td>\n",
       "    </tr>\n",
       "    <tr>\n",
       "      <th>10</th>\n",
       "      <td>NaN</td>\n",
       "      <td>This is a driver-entered value.</td>\n",
       "    </tr>\n",
       "    <tr>\n",
       "      <th>11</th>\n",
       "      <td>Trip_distance</td>\n",
       "      <td>The elapsed trip distance in miles reported by...</td>\n",
       "    </tr>\n",
       "    <tr>\n",
       "      <th>12</th>\n",
       "      <td>PULocationID</td>\n",
       "      <td>TLC Taxi Zone in which the taximeter was engaged</td>\n",
       "    </tr>\n",
       "    <tr>\n",
       "      <th>13</th>\n",
       "      <td>DOLocationID</td>\n",
       "      <td>TLC Taxi Zone in which the taximeter was disen...</td>\n",
       "    </tr>\n",
       "    <tr>\n",
       "      <th>14</th>\n",
       "      <td>RateCodeID</td>\n",
       "      <td>The final rate code in effect at the end of th...</td>\n",
       "    </tr>\n",
       "    <tr>\n",
       "      <th>15</th>\n",
       "      <td>NaN</td>\n",
       "      <td>NaN</td>\n",
       "    </tr>\n",
       "    <tr>\n",
       "      <th>16</th>\n",
       "      <td>NaN</td>\n",
       "      <td>1= Standard rate</td>\n",
       "    </tr>\n",
       "    <tr>\n",
       "      <th>17</th>\n",
       "      <td>NaN</td>\n",
       "      <td>NaN</td>\n",
       "    </tr>\n",
       "    <tr>\n",
       "      <th>18</th>\n",
       "      <td>NaN</td>\n",
       "      <td>2=JFK</td>\n",
       "    </tr>\n",
       "    <tr>\n",
       "      <th>19</th>\n",
       "      <td>NaN</td>\n",
       "      <td>NaN</td>\n",
       "    </tr>\n",
       "    <tr>\n",
       "      <th>20</th>\n",
       "      <td>NaN</td>\n",
       "      <td>3=Newark</td>\n",
       "    </tr>\n",
       "    <tr>\n",
       "      <th>21</th>\n",
       "      <td>NaN</td>\n",
       "      <td>NaN</td>\n",
       "    </tr>\n",
       "    <tr>\n",
       "      <th>22</th>\n",
       "      <td>NaN</td>\n",
       "      <td>4=Nassau or Westchester</td>\n",
       "    </tr>\n",
       "    <tr>\n",
       "      <th>23</th>\n",
       "      <td>NaN</td>\n",
       "      <td>NaN</td>\n",
       "    </tr>\n",
       "    <tr>\n",
       "      <th>24</th>\n",
       "      <td>NaN</td>\n",
       "      <td>5=Negotiated fare</td>\n",
       "    </tr>\n",
       "    <tr>\n",
       "      <th>25</th>\n",
       "      <td>NaN</td>\n",
       "      <td>NaN</td>\n",
       "    </tr>\n",
       "    <tr>\n",
       "      <th>26</th>\n",
       "      <td>NaN</td>\n",
       "      <td>6=Group ride</td>\n",
       "    </tr>\n",
       "    <tr>\n",
       "      <th>27</th>\n",
       "      <td>Store_and_fwd_flag</td>\n",
       "      <td>This flag indicates whether the trip record wa...</td>\n",
       "    </tr>\n",
       "    <tr>\n",
       "      <th>28</th>\n",
       "      <td>NaN</td>\n",
       "      <td>NaN</td>\n",
       "    </tr>\n",
       "    <tr>\n",
       "      <th>29</th>\n",
       "      <td>NaN</td>\n",
       "      <td>Y= store and forward trip</td>\n",
       "    </tr>\n",
       "    <tr>\n",
       "      <th>30</th>\n",
       "      <td>NaN</td>\n",
       "      <td>NaN</td>\n",
       "    </tr>\n",
       "    <tr>\n",
       "      <th>31</th>\n",
       "      <td>NaN</td>\n",
       "      <td>N= not a store and forward trip</td>\n",
       "    </tr>\n",
       "    <tr>\n",
       "      <th>32</th>\n",
       "      <td>Payment_type</td>\n",
       "      <td>A numeric code signifying how the passenger pa...</td>\n",
       "    </tr>\n",
       "    <tr>\n",
       "      <th>33</th>\n",
       "      <td>NaN</td>\n",
       "      <td>NaN</td>\n",
       "    </tr>\n",
       "    <tr>\n",
       "      <th>34</th>\n",
       "      <td>NaN</td>\n",
       "      <td>1= Credit card</td>\n",
       "    </tr>\n",
       "    <tr>\n",
       "      <th>35</th>\n",
       "      <td>NaN</td>\n",
       "      <td>NaN</td>\n",
       "    </tr>\n",
       "    <tr>\n",
       "      <th>36</th>\n",
       "      <td>NaN</td>\n",
       "      <td>2= Cash</td>\n",
       "    </tr>\n",
       "    <tr>\n",
       "      <th>37</th>\n",
       "      <td>NaN</td>\n",
       "      <td>NaN</td>\n",
       "    </tr>\n",
       "    <tr>\n",
       "      <th>38</th>\n",
       "      <td>NaN</td>\n",
       "      <td>3= No charge</td>\n",
       "    </tr>\n",
       "    <tr>\n",
       "      <th>39</th>\n",
       "      <td>NaN</td>\n",
       "      <td>NaN</td>\n",
       "    </tr>\n",
       "    <tr>\n",
       "      <th>40</th>\n",
       "      <td>NaN</td>\n",
       "      <td>4= Dispute</td>\n",
       "    </tr>\n",
       "    <tr>\n",
       "      <th>41</th>\n",
       "      <td>NaN</td>\n",
       "      <td>NaN</td>\n",
       "    </tr>\n",
       "    <tr>\n",
       "      <th>42</th>\n",
       "      <td>NaN</td>\n",
       "      <td>5= Unknown</td>\n",
       "    </tr>\n",
       "    <tr>\n",
       "      <th>43</th>\n",
       "      <td>NaN</td>\n",
       "      <td>NaN</td>\n",
       "    </tr>\n",
       "    <tr>\n",
       "      <th>44</th>\n",
       "      <td>NaN</td>\n",
       "      <td>6= Voided trip</td>\n",
       "    </tr>\n",
       "    <tr>\n",
       "      <th>45</th>\n",
       "      <td>Fare_amount</td>\n",
       "      <td>The time-and-distance fare calculated by the m...</td>\n",
       "    </tr>\n",
       "    <tr>\n",
       "      <th>46</th>\n",
       "      <td>Extra</td>\n",
       "      <td>Miscellaneous extras and surcharges. Currently...</td>\n",
       "    </tr>\n",
       "    <tr>\n",
       "      <th>47</th>\n",
       "      <td>MTA_tax</td>\n",
       "      <td>$0.50 MTA tax that is automatically triggered ...</td>\n",
       "    </tr>\n",
       "    <tr>\n",
       "      <th>48</th>\n",
       "      <td>Improvement_surcharge</td>\n",
       "      <td>$0.30 improvement surcharge assessed trips at ...</td>\n",
       "    </tr>\n",
       "    <tr>\n",
       "      <th>49</th>\n",
       "      <td>Tip_amount</td>\n",
       "      <td>Tip amount – This field is automatically popul...</td>\n",
       "    </tr>\n",
       "    <tr>\n",
       "      <th>50</th>\n",
       "      <td>Tolls_amount</td>\n",
       "      <td>Total amount of all tolls paid in trip.</td>\n",
       "    </tr>\n",
       "    <tr>\n",
       "      <th>51</th>\n",
       "      <td>Total_amount</td>\n",
       "      <td>The total amount charged to passengers. Does n...</td>\n",
       "    </tr>\n",
       "  </tbody>\n",
       "</table>\n",
       "</div>"
      ],
      "text/plain": [
       "               Column name                                        Description\n",
       "0                       ID                         Trip identification number\n",
       "1                 VendorID  A code indicating the TPEP provider that provi...\n",
       "2                      NaN                                                NaN\n",
       "3                      NaN             1= Creative Mobile Technologies, LLC; \n",
       "4                      NaN                                                NaN\n",
       "5                      NaN                                   2= VeriFone Inc.\n",
       "6    tpep_pickup_datetime      The date and time when the meter was engaged. \n",
       "7   tpep_dropoff_datetime   The date and time when the meter was disengaged. \n",
       "8         Passenger_count          The number of passengers in the vehicle.  \n",
       "9                      NaN                                                NaN\n",
       "10                     NaN                    This is a driver-entered value.\n",
       "11          Trip_distance   The elapsed trip distance in miles reported by...\n",
       "12           PULocationID    TLC Taxi Zone in which the taximeter was engaged\n",
       "13           DOLocationID   TLC Taxi Zone in which the taximeter was disen...\n",
       "14             RateCodeID   The final rate code in effect at the end of th...\n",
       "15                     NaN                                                NaN\n",
       "16                     NaN                                  1= Standard rate \n",
       "17                     NaN                                                NaN\n",
       "18                     NaN                                             2=JFK \n",
       "19                     NaN                                                NaN\n",
       "20                     NaN                                          3=Newark \n",
       "21                     NaN                                                NaN\n",
       "22                     NaN                           4=Nassau or Westchester \n",
       "23                     NaN                                                NaN\n",
       "24                     NaN                                 5=Negotiated fare \n",
       "25                     NaN                                                NaN\n",
       "26                     NaN                                       6=Group ride\n",
       "27     Store_and_fwd_flag   This flag indicates whether the trip record wa...\n",
       "28                     NaN                                                NaN\n",
       "29                     NaN                         Y= store and forward trip \n",
       "30                     NaN                                                NaN\n",
       "31                     NaN                    N= not a store and forward trip\n",
       "32           Payment_type   A numeric code signifying how the passenger pa...\n",
       "33                     NaN                                                NaN\n",
       "34                     NaN                                    1= Credit card \n",
       "35                     NaN                                                NaN\n",
       "36                     NaN                                           2= Cash \n",
       "37                     NaN                                                NaN\n",
       "38                     NaN                                      3= No charge \n",
       "39                     NaN                                                NaN\n",
       "40                     NaN                                        4= Dispute \n",
       "41                     NaN                                                NaN\n",
       "42                     NaN                                        5= Unknown \n",
       "43                     NaN                                                NaN\n",
       "44                     NaN                                     6= Voided trip\n",
       "45            Fare_amount   The time-and-distance fare calculated by the m...\n",
       "46                  Extra   Miscellaneous extras and surcharges. Currently...\n",
       "47                MTA_tax   $0.50 MTA tax that is automatically triggered ...\n",
       "48  Improvement_surcharge   $0.30 improvement surcharge assessed trips at ...\n",
       "49             Tip_amount   Tip amount – This field is automatically popul...\n",
       "50           Tolls_amount            Total amount of all tolls paid in trip. \n",
       "51           Total_amount   The total amount charged to passengers. Does n..."
      ]
     },
     "execution_count": 45,
     "metadata": {},
     "output_type": "execute_result"
    }
   ],
   "source": [
    "data_dictionary"
   ]
  },
  {
   "cell_type": "code",
   "execution_count": 46,
   "id": "67ac3e72",
   "metadata": {},
   "outputs": [
    {
     "data": {
      "text/html": [
       "<div>\n",
       "<style scoped>\n",
       "    .dataframe tbody tr th:only-of-type {\n",
       "        vertical-align: middle;\n",
       "    }\n",
       "\n",
       "    .dataframe tbody tr th {\n",
       "        vertical-align: top;\n",
       "    }\n",
       "\n",
       "    .dataframe thead th {\n",
       "        text-align: right;\n",
       "    }\n",
       "</style>\n",
       "<table border=\"1\" class=\"dataframe\">\n",
       "  <thead>\n",
       "    <tr style=\"text-align: right;\">\n",
       "      <th></th>\n",
       "      <th>Unnamed: 0</th>\n",
       "      <th>VendorID</th>\n",
       "      <th>tpep_pickup_datetime</th>\n",
       "      <th>tpep_dropoff_datetime</th>\n",
       "      <th>passenger_count</th>\n",
       "      <th>trip_distance</th>\n",
       "      <th>RatecodeID</th>\n",
       "      <th>store_and_fwd_flag</th>\n",
       "      <th>PULocationID</th>\n",
       "      <th>DOLocationID</th>\n",
       "      <th>payment_type</th>\n",
       "      <th>fare_amount</th>\n",
       "      <th>extra</th>\n",
       "      <th>mta_tax</th>\n",
       "      <th>tip_amount</th>\n",
       "      <th>tolls_amount</th>\n",
       "      <th>improvement_surcharge</th>\n",
       "      <th>total_amount</th>\n",
       "    </tr>\n",
       "  </thead>\n",
       "  <tbody>\n",
       "    <tr>\n",
       "      <th>0</th>\n",
       "      <td>24870114</td>\n",
       "      <td>2</td>\n",
       "      <td>03/25/2017 8:55:43 AM</td>\n",
       "      <td>03/25/2017 9:09:47 AM</td>\n",
       "      <td>6</td>\n",
       "      <td>3.34</td>\n",
       "      <td>1</td>\n",
       "      <td>N</td>\n",
       "      <td>100</td>\n",
       "      <td>231</td>\n",
       "      <td>1</td>\n",
       "      <td>13.0</td>\n",
       "      <td>0.0</td>\n",
       "      <td>0.5</td>\n",
       "      <td>2.76</td>\n",
       "      <td>0.0</td>\n",
       "      <td>0.3</td>\n",
       "      <td>16.56</td>\n",
       "    </tr>\n",
       "    <tr>\n",
       "      <th>1</th>\n",
       "      <td>35634249</td>\n",
       "      <td>1</td>\n",
       "      <td>04/11/2017 2:53:28 PM</td>\n",
       "      <td>04/11/2017 3:19:58 PM</td>\n",
       "      <td>1</td>\n",
       "      <td>1.80</td>\n",
       "      <td>1</td>\n",
       "      <td>N</td>\n",
       "      <td>186</td>\n",
       "      <td>43</td>\n",
       "      <td>1</td>\n",
       "      <td>16.0</td>\n",
       "      <td>0.0</td>\n",
       "      <td>0.5</td>\n",
       "      <td>4.00</td>\n",
       "      <td>0.0</td>\n",
       "      <td>0.3</td>\n",
       "      <td>20.80</td>\n",
       "    </tr>\n",
       "    <tr>\n",
       "      <th>2</th>\n",
       "      <td>106203690</td>\n",
       "      <td>1</td>\n",
       "      <td>12/15/2017 7:26:56 AM</td>\n",
       "      <td>12/15/2017 7:34:08 AM</td>\n",
       "      <td>1</td>\n",
       "      <td>1.00</td>\n",
       "      <td>1</td>\n",
       "      <td>N</td>\n",
       "      <td>262</td>\n",
       "      <td>236</td>\n",
       "      <td>1</td>\n",
       "      <td>6.5</td>\n",
       "      <td>0.0</td>\n",
       "      <td>0.5</td>\n",
       "      <td>1.45</td>\n",
       "      <td>0.0</td>\n",
       "      <td>0.3</td>\n",
       "      <td>8.75</td>\n",
       "    </tr>\n",
       "    <tr>\n",
       "      <th>3</th>\n",
       "      <td>38942136</td>\n",
       "      <td>2</td>\n",
       "      <td>05/07/2017 1:17:59 PM</td>\n",
       "      <td>05/07/2017 1:48:14 PM</td>\n",
       "      <td>1</td>\n",
       "      <td>3.70</td>\n",
       "      <td>1</td>\n",
       "      <td>N</td>\n",
       "      <td>188</td>\n",
       "      <td>97</td>\n",
       "      <td>1</td>\n",
       "      <td>20.5</td>\n",
       "      <td>0.0</td>\n",
       "      <td>0.5</td>\n",
       "      <td>6.39</td>\n",
       "      <td>0.0</td>\n",
       "      <td>0.3</td>\n",
       "      <td>27.69</td>\n",
       "    </tr>\n",
       "    <tr>\n",
       "      <th>4</th>\n",
       "      <td>30841670</td>\n",
       "      <td>2</td>\n",
       "      <td>04/15/2017 11:32:20 PM</td>\n",
       "      <td>04/15/2017 11:49:03 PM</td>\n",
       "      <td>1</td>\n",
       "      <td>4.37</td>\n",
       "      <td>1</td>\n",
       "      <td>N</td>\n",
       "      <td>4</td>\n",
       "      <td>112</td>\n",
       "      <td>2</td>\n",
       "      <td>16.5</td>\n",
       "      <td>0.5</td>\n",
       "      <td>0.5</td>\n",
       "      <td>0.00</td>\n",
       "      <td>0.0</td>\n",
       "      <td>0.3</td>\n",
       "      <td>17.80</td>\n",
       "    </tr>\n",
       "  </tbody>\n",
       "</table>\n",
       "</div>"
      ],
      "text/plain": [
       "   Unnamed: 0  VendorID    tpep_pickup_datetime   tpep_dropoff_datetime  \\\n",
       "0    24870114         2   03/25/2017 8:55:43 AM   03/25/2017 9:09:47 AM   \n",
       "1    35634249         1   04/11/2017 2:53:28 PM   04/11/2017 3:19:58 PM   \n",
       "2   106203690         1   12/15/2017 7:26:56 AM   12/15/2017 7:34:08 AM   \n",
       "3    38942136         2   05/07/2017 1:17:59 PM   05/07/2017 1:48:14 PM   \n",
       "4    30841670         2  04/15/2017 11:32:20 PM  04/15/2017 11:49:03 PM   \n",
       "\n",
       "   passenger_count  trip_distance  RatecodeID store_and_fwd_flag  \\\n",
       "0                6           3.34           1                  N   \n",
       "1                1           1.80           1                  N   \n",
       "2                1           1.00           1                  N   \n",
       "3                1           3.70           1                  N   \n",
       "4                1           4.37           1                  N   \n",
       "\n",
       "   PULocationID  DOLocationID  payment_type  fare_amount  extra  mta_tax  \\\n",
       "0           100           231             1         13.0    0.0      0.5   \n",
       "1           186            43             1         16.0    0.0      0.5   \n",
       "2           262           236             1          6.5    0.0      0.5   \n",
       "3           188            97             1         20.5    0.0      0.5   \n",
       "4             4           112             2         16.5    0.5      0.5   \n",
       "\n",
       "   tip_amount  tolls_amount  improvement_surcharge  total_amount  \n",
       "0        2.76           0.0                    0.3         16.56  \n",
       "1        4.00           0.0                    0.3         20.80  \n",
       "2        1.45           0.0                    0.3          8.75  \n",
       "3        6.39           0.0                    0.3         27.69  \n",
       "4        0.00           0.0                    0.3         17.80  "
      ]
     },
     "execution_count": 46,
     "metadata": {},
     "output_type": "execute_result"
    }
   ],
   "source": [
    "df.head()"
   ]
  },
  {
   "cell_type": "code",
   "execution_count": 47,
   "id": "7d4f40ba",
   "metadata": {},
   "outputs": [],
   "source": [
    "df = df.drop(['RatecodeID','store_and_fwd_flag','extra','mta_tax','improvement_surcharge'],axis=1)"
   ]
  },
  {
   "cell_type": "code",
   "execution_count": 48,
   "id": "16ddb1fd",
   "metadata": {},
   "outputs": [],
   "source": [
    "date_cols = df[['tpep_pickup_datetime','tpep_dropoff_datetime']]\n",
    "for i in date_cols:\n",
    "    df[i] = pd.to_datetime(df[i])"
   ]
  },
  {
   "cell_type": "code",
   "execution_count": 49,
   "id": "d2a1c053",
   "metadata": {},
   "outputs": [],
   "source": [
    "df['pickup_hour'] = df['tpep_pickup_datetime'].dt.hour"
   ]
  },
  {
   "cell_type": "code",
   "execution_count": 50,
   "id": "dc8a1bfb",
   "metadata": {},
   "outputs": [
    {
     "data": {
      "text/plain": [
       "19    1454\n",
       "18    1449\n",
       "20    1295\n",
       "21    1281\n",
       "14    1224\n",
       "17    1216\n",
       "22    1213\n",
       "15    1167\n",
       "16    1132\n",
       "13    1127\n",
       "12    1114\n",
       "9     1112\n",
       "11    1088\n",
       "10    1040\n",
       "8     1020\n",
       "23    1006\n",
       "7      857\n",
       "0      737\n",
       "1      525\n",
       "6      499\n",
       "2      386\n",
       "3      287\n",
       "4      235\n",
       "5      235\n",
       "Name: pickup_hour, dtype: int64"
      ]
     },
     "execution_count": 50,
     "metadata": {},
     "output_type": "execute_result"
    }
   ],
   "source": [
    "df['pickup_hour'].value_counts()"
   ]
  },
  {
   "cell_type": "code",
   "execution_count": 51,
   "id": "c3b8e2ca",
   "metadata": {},
   "outputs": [],
   "source": [
    "df['duration_minutes'] = df['tpep_dropoff_datetime'] - df['tpep_pickup_datetime']\n",
    "df['duration_minutes'] = df['duration_minutes'].astype('timedelta64[m]')\n",
    "df_period0 = df[df['duration_minutes']== 0 ]"
   ]
  },
  {
   "cell_type": "code",
   "execution_count": 52,
   "id": "3d3143ec",
   "metadata": {},
   "outputs": [],
   "source": [
    "df = df.drop(df[df['duration_minutes']<= 0].index)"
   ]
  },
  {
   "cell_type": "code",
   "execution_count": 53,
   "id": "c5d0a024",
   "metadata": {},
   "outputs": [],
   "source": [
    "df = df.drop(df[df['total_amount'] < 0].index)"
   ]
  },
  {
   "cell_type": "code",
   "execution_count": 54,
   "id": "49732f61",
   "metadata": {},
   "outputs": [],
   "source": [
    "df['day'] = df['tpep_pickup_datetime'].dt.day_name()\n",
    "df['month'] = df['tpep_pickup_datetime'].dt.month_name()"
   ]
  },
  {
   "cell_type": "code",
   "execution_count": 55,
   "id": "9a1cb3b4",
   "metadata": {},
   "outputs": [],
   "source": [
    "df_distance0 = df[df['trip_distance'] == 0]\n",
    "df = df.drop(df[df['trip_distance'] == 0].index)"
   ]
  },
  {
   "cell_type": "code",
   "execution_count": 56,
   "id": "d43ef82a",
   "metadata": {},
   "outputs": [
    {
     "data": {
      "text/plain": [
       "Unnamed: 0               0\n",
       "VendorID                 0\n",
       "tpep_pickup_datetime     0\n",
       "tpep_dropoff_datetime    0\n",
       "passenger_count          0\n",
       "trip_distance            0\n",
       "PULocationID             0\n",
       "DOLocationID             0\n",
       "payment_type             0\n",
       "fare_amount              0\n",
       "tip_amount               0\n",
       "tolls_amount             0\n",
       "total_amount             0\n",
       "pickup_hour              0\n",
       "duration_minutes         0\n",
       "day                      0\n",
       "month                    0\n",
       "dtype: int64"
      ]
     },
     "execution_count": 56,
     "metadata": {},
     "output_type": "execute_result"
    }
   ],
   "source": [
    "df.isna().sum()"
   ]
  },
  {
   "cell_type": "code",
   "execution_count": 57,
   "id": "3988faf1",
   "metadata": {},
   "outputs": [
    {
     "name": "stdout",
     "output_type": "stream",
     "text": [
      "<class 'pandas.core.frame.DataFrame'>\n",
      "Int64Index: 22452 entries, 0 to 22698\n",
      "Data columns (total 17 columns):\n",
      " #   Column                 Non-Null Count  Dtype         \n",
      "---  ------                 --------------  -----         \n",
      " 0   Unnamed: 0             22452 non-null  int64         \n",
      " 1   VendorID               22452 non-null  int64         \n",
      " 2   tpep_pickup_datetime   22452 non-null  datetime64[ns]\n",
      " 3   tpep_dropoff_datetime  22452 non-null  datetime64[ns]\n",
      " 4   passenger_count        22452 non-null  int64         \n",
      " 5   trip_distance          22452 non-null  float64       \n",
      " 6   PULocationID           22452 non-null  int64         \n",
      " 7   DOLocationID           22452 non-null  int64         \n",
      " 8   payment_type           22452 non-null  int64         \n",
      " 9   fare_amount            22452 non-null  float64       \n",
      " 10  tip_amount             22452 non-null  float64       \n",
      " 11  tolls_amount           22452 non-null  float64       \n",
      " 12  total_amount           22452 non-null  float64       \n",
      " 13  pickup_hour            22452 non-null  int64         \n",
      " 14  duration_minutes       22452 non-null  float64       \n",
      " 15  day                    22452 non-null  object        \n",
      " 16  month                  22452 non-null  object        \n",
      "dtypes: datetime64[ns](2), float64(6), int64(7), object(2)\n",
      "memory usage: 3.1+ MB\n"
     ]
    }
   ],
   "source": [
    "df.info()"
   ]
  },
  {
   "cell_type": "code",
   "execution_count": 58,
   "id": "39cd59b7",
   "metadata": {},
   "outputs": [
    {
     "name": "stderr",
     "output_type": "stream",
     "text": [
      "C:\\Users\\Ne\\AppData\\Local\\Temp/ipykernel_24340/2884002236.py:1: FutureWarning: Treating datetime data as categorical rather than numeric in `.describe` is deprecated and will be removed in a future version of pandas. Specify `datetime_is_numeric=True` to silence this warning and adopt the future behavior now.\n",
      "  df.describe(include='all')\n"
     ]
    },
    {
     "data": {
      "text/html": [
       "<div>\n",
       "<style scoped>\n",
       "    .dataframe tbody tr th:only-of-type {\n",
       "        vertical-align: middle;\n",
       "    }\n",
       "\n",
       "    .dataframe tbody tr th {\n",
       "        vertical-align: top;\n",
       "    }\n",
       "\n",
       "    .dataframe thead th {\n",
       "        text-align: right;\n",
       "    }\n",
       "</style>\n",
       "<table border=\"1\" class=\"dataframe\">\n",
       "  <thead>\n",
       "    <tr style=\"text-align: right;\">\n",
       "      <th></th>\n",
       "      <th>Unnamed: 0</th>\n",
       "      <th>VendorID</th>\n",
       "      <th>tpep_pickup_datetime</th>\n",
       "      <th>tpep_dropoff_datetime</th>\n",
       "      <th>passenger_count</th>\n",
       "      <th>trip_distance</th>\n",
       "      <th>PULocationID</th>\n",
       "      <th>DOLocationID</th>\n",
       "      <th>payment_type</th>\n",
       "      <th>fare_amount</th>\n",
       "      <th>tip_amount</th>\n",
       "      <th>tolls_amount</th>\n",
       "      <th>total_amount</th>\n",
       "      <th>pickup_hour</th>\n",
       "      <th>duration_minutes</th>\n",
       "      <th>day</th>\n",
       "      <th>month</th>\n",
       "    </tr>\n",
       "  </thead>\n",
       "  <tbody>\n",
       "    <tr>\n",
       "      <th>count</th>\n",
       "      <td>2.245200e+04</td>\n",
       "      <td>22452.000000</td>\n",
       "      <td>22452</td>\n",
       "      <td>22452</td>\n",
       "      <td>22452.000000</td>\n",
       "      <td>22452.000000</td>\n",
       "      <td>22452.000000</td>\n",
       "      <td>22452.000000</td>\n",
       "      <td>22452.000000</td>\n",
       "      <td>22452.000000</td>\n",
       "      <td>22452.000000</td>\n",
       "      <td>22452.000000</td>\n",
       "      <td>22452.000000</td>\n",
       "      <td>22452.000000</td>\n",
       "      <td>22452.000000</td>\n",
       "      <td>22452</td>\n",
       "      <td>22452</td>\n",
       "    </tr>\n",
       "    <tr>\n",
       "      <th>unique</th>\n",
       "      <td>NaN</td>\n",
       "      <td>NaN</td>\n",
       "      <td>22442</td>\n",
       "      <td>22441</td>\n",
       "      <td>NaN</td>\n",
       "      <td>NaN</td>\n",
       "      <td>NaN</td>\n",
       "      <td>NaN</td>\n",
       "      <td>NaN</td>\n",
       "      <td>NaN</td>\n",
       "      <td>NaN</td>\n",
       "      <td>NaN</td>\n",
       "      <td>NaN</td>\n",
       "      <td>NaN</td>\n",
       "      <td>NaN</td>\n",
       "      <td>7</td>\n",
       "      <td>12</td>\n",
       "    </tr>\n",
       "    <tr>\n",
       "      <th>top</th>\n",
       "      <td>NaN</td>\n",
       "      <td>NaN</td>\n",
       "      <td>2017-03-21 15:29:49</td>\n",
       "      <td>2017-11-19 21:21:06</td>\n",
       "      <td>NaN</td>\n",
       "      <td>NaN</td>\n",
       "      <td>NaN</td>\n",
       "      <td>NaN</td>\n",
       "      <td>NaN</td>\n",
       "      <td>NaN</td>\n",
       "      <td>NaN</td>\n",
       "      <td>NaN</td>\n",
       "      <td>NaN</td>\n",
       "      <td>NaN</td>\n",
       "      <td>NaN</td>\n",
       "      <td>Friday</td>\n",
       "      <td>March</td>\n",
       "    </tr>\n",
       "    <tr>\n",
       "      <th>freq</th>\n",
       "      <td>NaN</td>\n",
       "      <td>NaN</td>\n",
       "      <td>2</td>\n",
       "      <td>2</td>\n",
       "      <td>NaN</td>\n",
       "      <td>NaN</td>\n",
       "      <td>NaN</td>\n",
       "      <td>NaN</td>\n",
       "      <td>NaN</td>\n",
       "      <td>NaN</td>\n",
       "      <td>NaN</td>\n",
       "      <td>NaN</td>\n",
       "      <td>NaN</td>\n",
       "      <td>NaN</td>\n",
       "      <td>NaN</td>\n",
       "      <td>3378</td>\n",
       "      <td>2018</td>\n",
       "    </tr>\n",
       "    <tr>\n",
       "      <th>first</th>\n",
       "      <td>NaN</td>\n",
       "      <td>NaN</td>\n",
       "      <td>2017-01-01 00:08:25</td>\n",
       "      <td>2017-01-01 00:17:20</td>\n",
       "      <td>NaN</td>\n",
       "      <td>NaN</td>\n",
       "      <td>NaN</td>\n",
       "      <td>NaN</td>\n",
       "      <td>NaN</td>\n",
       "      <td>NaN</td>\n",
       "      <td>NaN</td>\n",
       "      <td>NaN</td>\n",
       "      <td>NaN</td>\n",
       "      <td>NaN</td>\n",
       "      <td>NaN</td>\n",
       "      <td>NaN</td>\n",
       "      <td>NaN</td>\n",
       "    </tr>\n",
       "    <tr>\n",
       "      <th>last</th>\n",
       "      <td>NaN</td>\n",
       "      <td>NaN</td>\n",
       "      <td>2017-12-31 23:45:30</td>\n",
       "      <td>2017-12-31 23:49:24</td>\n",
       "      <td>NaN</td>\n",
       "      <td>NaN</td>\n",
       "      <td>NaN</td>\n",
       "      <td>NaN</td>\n",
       "      <td>NaN</td>\n",
       "      <td>NaN</td>\n",
       "      <td>NaN</td>\n",
       "      <td>NaN</td>\n",
       "      <td>NaN</td>\n",
       "      <td>NaN</td>\n",
       "      <td>NaN</td>\n",
       "      <td>NaN</td>\n",
       "      <td>NaN</td>\n",
       "    </tr>\n",
       "    <tr>\n",
       "      <th>mean</th>\n",
       "      <td>5.674776e+07</td>\n",
       "      <td>1.556743</td>\n",
       "      <td>NaN</td>\n",
       "      <td>NaN</td>\n",
       "      <td>1.644976</td>\n",
       "      <td>2.941011</td>\n",
       "      <td>162.300998</td>\n",
       "      <td>161.476260</td>\n",
       "      <td>1.330616</td>\n",
       "      <td>12.928511</td>\n",
       "      <td>1.823044</td>\n",
       "      <td>0.310237</td>\n",
       "      <td>16.199158</td>\n",
       "      <td>13.728354</td>\n",
       "      <td>16.640834</td>\n",
       "      <td>NaN</td>\n",
       "      <td>NaN</td>\n",
       "    </tr>\n",
       "    <tr>\n",
       "      <th>std</th>\n",
       "      <td>3.272907e+07</td>\n",
       "      <td>0.496781</td>\n",
       "      <td>NaN</td>\n",
       "      <td>NaN</td>\n",
       "      <td>1.287484</td>\n",
       "      <td>3.660531</td>\n",
       "      <td>66.573337</td>\n",
       "      <td>70.091653</td>\n",
       "      <td>0.487373</td>\n",
       "      <td>10.737910</td>\n",
       "      <td>2.420828</td>\n",
       "      <td>1.388674</td>\n",
       "      <td>13.324600</td>\n",
       "      <td>6.217869</td>\n",
       "      <td>61.628630</td>\n",
       "      <td>NaN</td>\n",
       "      <td>NaN</td>\n",
       "    </tr>\n",
       "    <tr>\n",
       "      <th>min</th>\n",
       "      <td>1.212700e+04</td>\n",
       "      <td>1.000000</td>\n",
       "      <td>NaN</td>\n",
       "      <td>NaN</td>\n",
       "      <td>0.000000</td>\n",
       "      <td>0.010000</td>\n",
       "      <td>4.000000</td>\n",
       "      <td>1.000000</td>\n",
       "      <td>1.000000</td>\n",
       "      <td>0.000000</td>\n",
       "      <td>0.000000</td>\n",
       "      <td>0.000000</td>\n",
       "      <td>0.000000</td>\n",
       "      <td>0.000000</td>\n",
       "      <td>1.000000</td>\n",
       "      <td>NaN</td>\n",
       "      <td>NaN</td>\n",
       "    </tr>\n",
       "    <tr>\n",
       "      <th>25%</th>\n",
       "      <td>2.858039e+07</td>\n",
       "      <td>1.000000</td>\n",
       "      <td>NaN</td>\n",
       "      <td>NaN</td>\n",
       "      <td>1.000000</td>\n",
       "      <td>1.000000</td>\n",
       "      <td>114.000000</td>\n",
       "      <td>112.000000</td>\n",
       "      <td>1.000000</td>\n",
       "      <td>6.500000</td>\n",
       "      <td>0.000000</td>\n",
       "      <td>0.000000</td>\n",
       "      <td>8.750000</td>\n",
       "      <td>9.000000</td>\n",
       "      <td>6.000000</td>\n",
       "      <td>NaN</td>\n",
       "      <td>NaN</td>\n",
       "    </tr>\n",
       "    <tr>\n",
       "      <th>50%</th>\n",
       "      <td>5.673320e+07</td>\n",
       "      <td>2.000000</td>\n",
       "      <td>NaN</td>\n",
       "      <td>NaN</td>\n",
       "      <td>1.000000</td>\n",
       "      <td>1.640000</td>\n",
       "      <td>162.000000</td>\n",
       "      <td>162.000000</td>\n",
       "      <td>1.000000</td>\n",
       "      <td>9.500000</td>\n",
       "      <td>1.360000</td>\n",
       "      <td>0.000000</td>\n",
       "      <td>11.800000</td>\n",
       "      <td>14.000000</td>\n",
       "      <td>11.000000</td>\n",
       "      <td>NaN</td>\n",
       "      <td>NaN</td>\n",
       "    </tr>\n",
       "    <tr>\n",
       "      <th>75%</th>\n",
       "      <td>8.532860e+07</td>\n",
       "      <td>2.000000</td>\n",
       "      <td>NaN</td>\n",
       "      <td>NaN</td>\n",
       "      <td>2.000000</td>\n",
       "      <td>3.100000</td>\n",
       "      <td>233.000000</td>\n",
       "      <td>233.000000</td>\n",
       "      <td>2.000000</td>\n",
       "      <td>14.500000</td>\n",
       "      <td>2.450000</td>\n",
       "      <td>0.000000</td>\n",
       "      <td>17.800000</td>\n",
       "      <td>19.000000</td>\n",
       "      <td>18.000000</td>\n",
       "      <td>NaN</td>\n",
       "      <td>NaN</td>\n",
       "    </tr>\n",
       "    <tr>\n",
       "      <th>max</th>\n",
       "      <td>1.134863e+08</td>\n",
       "      <td>2.000000</td>\n",
       "      <td>NaN</td>\n",
       "      <td>NaN</td>\n",
       "      <td>6.000000</td>\n",
       "      <td>33.960000</td>\n",
       "      <td>265.000000</td>\n",
       "      <td>265.000000</td>\n",
       "      <td>4.000000</td>\n",
       "      <td>200.010000</td>\n",
       "      <td>55.500000</td>\n",
       "      <td>19.100000</td>\n",
       "      <td>258.210000</td>\n",
       "      <td>23.000000</td>\n",
       "      <td>1439.000000</td>\n",
       "      <td>NaN</td>\n",
       "      <td>NaN</td>\n",
       "    </tr>\n",
       "  </tbody>\n",
       "</table>\n",
       "</div>"
      ],
      "text/plain": [
       "          Unnamed: 0      VendorID tpep_pickup_datetime tpep_dropoff_datetime  \\\n",
       "count   2.245200e+04  22452.000000                22452                 22452   \n",
       "unique           NaN           NaN                22442                 22441   \n",
       "top              NaN           NaN  2017-03-21 15:29:49   2017-11-19 21:21:06   \n",
       "freq             NaN           NaN                    2                     2   \n",
       "first            NaN           NaN  2017-01-01 00:08:25   2017-01-01 00:17:20   \n",
       "last             NaN           NaN  2017-12-31 23:45:30   2017-12-31 23:49:24   \n",
       "mean    5.674776e+07      1.556743                  NaN                   NaN   \n",
       "std     3.272907e+07      0.496781                  NaN                   NaN   \n",
       "min     1.212700e+04      1.000000                  NaN                   NaN   \n",
       "25%     2.858039e+07      1.000000                  NaN                   NaN   \n",
       "50%     5.673320e+07      2.000000                  NaN                   NaN   \n",
       "75%     8.532860e+07      2.000000                  NaN                   NaN   \n",
       "max     1.134863e+08      2.000000                  NaN                   NaN   \n",
       "\n",
       "        passenger_count  trip_distance  PULocationID  DOLocationID  \\\n",
       "count      22452.000000   22452.000000  22452.000000  22452.000000   \n",
       "unique              NaN            NaN           NaN           NaN   \n",
       "top                 NaN            NaN           NaN           NaN   \n",
       "freq                NaN            NaN           NaN           NaN   \n",
       "first               NaN            NaN           NaN           NaN   \n",
       "last                NaN            NaN           NaN           NaN   \n",
       "mean           1.644976       2.941011    162.300998    161.476260   \n",
       "std            1.287484       3.660531     66.573337     70.091653   \n",
       "min            0.000000       0.010000      4.000000      1.000000   \n",
       "25%            1.000000       1.000000    114.000000    112.000000   \n",
       "50%            1.000000       1.640000    162.000000    162.000000   \n",
       "75%            2.000000       3.100000    233.000000    233.000000   \n",
       "max            6.000000      33.960000    265.000000    265.000000   \n",
       "\n",
       "        payment_type   fare_amount    tip_amount  tolls_amount  total_amount  \\\n",
       "count   22452.000000  22452.000000  22452.000000  22452.000000  22452.000000   \n",
       "unique           NaN           NaN           NaN           NaN           NaN   \n",
       "top              NaN           NaN           NaN           NaN           NaN   \n",
       "freq             NaN           NaN           NaN           NaN           NaN   \n",
       "first            NaN           NaN           NaN           NaN           NaN   \n",
       "last             NaN           NaN           NaN           NaN           NaN   \n",
       "mean        1.330616     12.928511      1.823044      0.310237     16.199158   \n",
       "std         0.487373     10.737910      2.420828      1.388674     13.324600   \n",
       "min         1.000000      0.000000      0.000000      0.000000      0.000000   \n",
       "25%         1.000000      6.500000      0.000000      0.000000      8.750000   \n",
       "50%         1.000000      9.500000      1.360000      0.000000     11.800000   \n",
       "75%         2.000000     14.500000      2.450000      0.000000     17.800000   \n",
       "max         4.000000    200.010000     55.500000     19.100000    258.210000   \n",
       "\n",
       "         pickup_hour  duration_minutes     day  month  \n",
       "count   22452.000000      22452.000000   22452  22452  \n",
       "unique           NaN               NaN       7     12  \n",
       "top              NaN               NaN  Friday  March  \n",
       "freq             NaN               NaN    3378   2018  \n",
       "first            NaN               NaN     NaN    NaN  \n",
       "last             NaN               NaN     NaN    NaN  \n",
       "mean       13.728354         16.640834     NaN    NaN  \n",
       "std         6.217869         61.628630     NaN    NaN  \n",
       "min         0.000000          1.000000     NaN    NaN  \n",
       "25%         9.000000          6.000000     NaN    NaN  \n",
       "50%        14.000000         11.000000     NaN    NaN  \n",
       "75%        19.000000         18.000000     NaN    NaN  \n",
       "max        23.000000       1439.000000     NaN    NaN  "
      ]
     },
     "execution_count": 58,
     "metadata": {},
     "output_type": "execute_result"
    }
   ],
   "source": [
    "df.describe(include='all')"
   ]
  },
  {
   "cell_type": "code",
   "execution_count": 59,
   "id": "4b23cc00",
   "metadata": {},
   "outputs": [
    {
     "data": {
      "text/html": [
       "<div>\n",
       "<style scoped>\n",
       "    .dataframe tbody tr th:only-of-type {\n",
       "        vertical-align: middle;\n",
       "    }\n",
       "\n",
       "    .dataframe tbody tr th {\n",
       "        vertical-align: top;\n",
       "    }\n",
       "\n",
       "    .dataframe thead th {\n",
       "        text-align: right;\n",
       "    }\n",
       "</style>\n",
       "<table border=\"1\" class=\"dataframe\">\n",
       "  <thead>\n",
       "    <tr style=\"text-align: right;\">\n",
       "      <th></th>\n",
       "      <th>Unnamed: 0</th>\n",
       "      <th>VendorID</th>\n",
       "      <th>tpep_pickup_datetime</th>\n",
       "      <th>tpep_dropoff_datetime</th>\n",
       "      <th>passenger_count</th>\n",
       "      <th>trip_distance</th>\n",
       "      <th>PULocationID</th>\n",
       "      <th>DOLocationID</th>\n",
       "      <th>payment_type</th>\n",
       "      <th>fare_amount</th>\n",
       "      <th>tip_amount</th>\n",
       "      <th>tolls_amount</th>\n",
       "      <th>total_amount</th>\n",
       "      <th>pickup_hour</th>\n",
       "      <th>duration_minutes</th>\n",
       "      <th>day</th>\n",
       "      <th>month</th>\n",
       "    </tr>\n",
       "  </thead>\n",
       "  <tbody>\n",
       "    <tr>\n",
       "      <th>0</th>\n",
       "      <td>24870114</td>\n",
       "      <td>2</td>\n",
       "      <td>2017-03-25 08:55:43</td>\n",
       "      <td>2017-03-25 09:09:47</td>\n",
       "      <td>6</td>\n",
       "      <td>3.34</td>\n",
       "      <td>100</td>\n",
       "      <td>231</td>\n",
       "      <td>1</td>\n",
       "      <td>13.0</td>\n",
       "      <td>2.76</td>\n",
       "      <td>0.0</td>\n",
       "      <td>16.56</td>\n",
       "      <td>8</td>\n",
       "      <td>14.0</td>\n",
       "      <td>Saturday</td>\n",
       "      <td>March</td>\n",
       "    </tr>\n",
       "    <tr>\n",
       "      <th>1</th>\n",
       "      <td>35634249</td>\n",
       "      <td>1</td>\n",
       "      <td>2017-04-11 14:53:28</td>\n",
       "      <td>2017-04-11 15:19:58</td>\n",
       "      <td>1</td>\n",
       "      <td>1.80</td>\n",
       "      <td>186</td>\n",
       "      <td>43</td>\n",
       "      <td>1</td>\n",
       "      <td>16.0</td>\n",
       "      <td>4.00</td>\n",
       "      <td>0.0</td>\n",
       "      <td>20.80</td>\n",
       "      <td>14</td>\n",
       "      <td>26.0</td>\n",
       "      <td>Tuesday</td>\n",
       "      <td>April</td>\n",
       "    </tr>\n",
       "    <tr>\n",
       "      <th>2</th>\n",
       "      <td>106203690</td>\n",
       "      <td>1</td>\n",
       "      <td>2017-12-15 07:26:56</td>\n",
       "      <td>2017-12-15 07:34:08</td>\n",
       "      <td>1</td>\n",
       "      <td>1.00</td>\n",
       "      <td>262</td>\n",
       "      <td>236</td>\n",
       "      <td>1</td>\n",
       "      <td>6.5</td>\n",
       "      <td>1.45</td>\n",
       "      <td>0.0</td>\n",
       "      <td>8.75</td>\n",
       "      <td>7</td>\n",
       "      <td>7.0</td>\n",
       "      <td>Friday</td>\n",
       "      <td>December</td>\n",
       "    </tr>\n",
       "    <tr>\n",
       "      <th>3</th>\n",
       "      <td>38942136</td>\n",
       "      <td>2</td>\n",
       "      <td>2017-05-07 13:17:59</td>\n",
       "      <td>2017-05-07 13:48:14</td>\n",
       "      <td>1</td>\n",
       "      <td>3.70</td>\n",
       "      <td>188</td>\n",
       "      <td>97</td>\n",
       "      <td>1</td>\n",
       "      <td>20.5</td>\n",
       "      <td>6.39</td>\n",
       "      <td>0.0</td>\n",
       "      <td>27.69</td>\n",
       "      <td>13</td>\n",
       "      <td>30.0</td>\n",
       "      <td>Sunday</td>\n",
       "      <td>May</td>\n",
       "    </tr>\n",
       "    <tr>\n",
       "      <th>4</th>\n",
       "      <td>30841670</td>\n",
       "      <td>2</td>\n",
       "      <td>2017-04-15 23:32:20</td>\n",
       "      <td>2017-04-15 23:49:03</td>\n",
       "      <td>1</td>\n",
       "      <td>4.37</td>\n",
       "      <td>4</td>\n",
       "      <td>112</td>\n",
       "      <td>2</td>\n",
       "      <td>16.5</td>\n",
       "      <td>0.00</td>\n",
       "      <td>0.0</td>\n",
       "      <td>17.80</td>\n",
       "      <td>23</td>\n",
       "      <td>16.0</td>\n",
       "      <td>Saturday</td>\n",
       "      <td>April</td>\n",
       "    </tr>\n",
       "  </tbody>\n",
       "</table>\n",
       "</div>"
      ],
      "text/plain": [
       "   Unnamed: 0  VendorID tpep_pickup_datetime tpep_dropoff_datetime  \\\n",
       "0    24870114         2  2017-03-25 08:55:43   2017-03-25 09:09:47   \n",
       "1    35634249         1  2017-04-11 14:53:28   2017-04-11 15:19:58   \n",
       "2   106203690         1  2017-12-15 07:26:56   2017-12-15 07:34:08   \n",
       "3    38942136         2  2017-05-07 13:17:59   2017-05-07 13:48:14   \n",
       "4    30841670         2  2017-04-15 23:32:20   2017-04-15 23:49:03   \n",
       "\n",
       "   passenger_count  trip_distance  PULocationID  DOLocationID  payment_type  \\\n",
       "0                6           3.34           100           231             1   \n",
       "1                1           1.80           186            43             1   \n",
       "2                1           1.00           262           236             1   \n",
       "3                1           3.70           188            97             1   \n",
       "4                1           4.37             4           112             2   \n",
       "\n",
       "   fare_amount  tip_amount  tolls_amount  total_amount  pickup_hour  \\\n",
       "0         13.0        2.76           0.0         16.56            8   \n",
       "1         16.0        4.00           0.0         20.80           14   \n",
       "2          6.5        1.45           0.0          8.75            7   \n",
       "3         20.5        6.39           0.0         27.69           13   \n",
       "4         16.5        0.00           0.0         17.80           23   \n",
       "\n",
       "   duration_minutes       day     month  \n",
       "0              14.0  Saturday     March  \n",
       "1              26.0   Tuesday     April  \n",
       "2               7.0    Friday  December  \n",
       "3              30.0    Sunday       May  \n",
       "4              16.0  Saturday     April  "
      ]
     },
     "execution_count": 59,
     "metadata": {},
     "output_type": "execute_result"
    }
   ],
   "source": [
    "df.head()"
   ]
  },
  {
   "cell_type": "code",
   "execution_count": 60,
   "id": "f3fd7561",
   "metadata": {},
   "outputs": [
    {
     "name": "stdout",
     "output_type": "stream",
     "text": [
      "2    12500\n",
      "1     9952\n",
      "Name: VendorID, dtype: int64\n",
      "1    15176\n",
      "2     7164\n",
      "3       77\n",
      "4       35\n",
      "Name: payment_type, dtype: int64\n"
     ]
    }
   ],
   "source": [
    "print(df['VendorID'].value_counts())\n",
    "print(df['payment_type'].value_counts())"
   ]
  },
  {
   "cell_type": "code",
   "execution_count": 61,
   "id": "fbadbc88",
   "metadata": {},
   "outputs": [],
   "source": [
    "df['duration_by_distance'] = df['duration_minutes'] / df['trip_distance']"
   ]
  },
  {
   "cell_type": "code",
   "execution_count": 62,
   "id": "91b1aa49",
   "metadata": {},
   "outputs": [],
   "source": [
    "period_by_distance = pd.DataFrame(df.groupby('pickup_hour')['duration_by_distance'].mean())"
   ]
  },
  {
   "cell_type": "code",
   "execution_count": 63,
   "id": "cd66d1df",
   "metadata": {},
   "outputs": [],
   "source": [
    "time_use = pd.DataFrame(df.groupby('pickup_hour')['duration_minutes'].mean())"
   ]
  },
  {
   "cell_type": "code",
   "execution_count": 64,
   "id": "f59cee65",
   "metadata": {},
   "outputs": [
    {
     "data": {
      "text/html": [
       "<div>\n",
       "<style scoped>\n",
       "    .dataframe tbody tr th:only-of-type {\n",
       "        vertical-align: middle;\n",
       "    }\n",
       "\n",
       "    .dataframe tbody tr th {\n",
       "        vertical-align: top;\n",
       "    }\n",
       "\n",
       "    .dataframe thead th {\n",
       "        text-align: right;\n",
       "    }\n",
       "</style>\n",
       "<table border=\"1\" class=\"dataframe\">\n",
       "  <thead>\n",
       "    <tr style=\"text-align: right;\">\n",
       "      <th></th>\n",
       "      <th>duration_minutes</th>\n",
       "    </tr>\n",
       "    <tr>\n",
       "      <th>pickup_hour</th>\n",
       "      <th></th>\n",
       "    </tr>\n",
       "  </thead>\n",
       "  <tbody>\n",
       "    <tr>\n",
       "      <th>0</th>\n",
       "      <td>12.245542</td>\n",
       "    </tr>\n",
       "    <tr>\n",
       "      <th>1</th>\n",
       "      <td>16.330754</td>\n",
       "    </tr>\n",
       "    <tr>\n",
       "      <th>2</th>\n",
       "      <td>18.328084</td>\n",
       "    </tr>\n",
       "    <tr>\n",
       "      <th>3</th>\n",
       "      <td>11.862191</td>\n",
       "    </tr>\n",
       "    <tr>\n",
       "      <th>4</th>\n",
       "      <td>11.647577</td>\n",
       "    </tr>\n",
       "    <tr>\n",
       "      <th>5</th>\n",
       "      <td>11.467249</td>\n",
       "    </tr>\n",
       "    <tr>\n",
       "      <th>6</th>\n",
       "      <td>10.910751</td>\n",
       "    </tr>\n",
       "    <tr>\n",
       "      <th>7</th>\n",
       "      <td>14.909091</td>\n",
       "    </tr>\n",
       "    <tr>\n",
       "      <th>8</th>\n",
       "      <td>16.268317</td>\n",
       "    </tr>\n",
       "    <tr>\n",
       "      <th>9</th>\n",
       "      <td>16.656051</td>\n",
       "    </tr>\n",
       "    <tr>\n",
       "      <th>10</th>\n",
       "      <td>16.529070</td>\n",
       "    </tr>\n",
       "    <tr>\n",
       "      <th>11</th>\n",
       "      <td>19.520776</td>\n",
       "    </tr>\n",
       "    <tr>\n",
       "      <th>12</th>\n",
       "      <td>15.219402</td>\n",
       "    </tr>\n",
       "    <tr>\n",
       "      <th>13</th>\n",
       "      <td>17.274194</td>\n",
       "    </tr>\n",
       "    <tr>\n",
       "      <th>14</th>\n",
       "      <td>18.400329</td>\n",
       "    </tr>\n",
       "    <tr>\n",
       "      <th>15</th>\n",
       "      <td>17.895780</td>\n",
       "    </tr>\n",
       "    <tr>\n",
       "      <th>16</th>\n",
       "      <td>17.659213</td>\n",
       "    </tr>\n",
       "    <tr>\n",
       "      <th>17</th>\n",
       "      <td>18.654772</td>\n",
       "    </tr>\n",
       "    <tr>\n",
       "      <th>18</th>\n",
       "      <td>16.412134</td>\n",
       "    </tr>\n",
       "    <tr>\n",
       "      <th>19</th>\n",
       "      <td>16.170833</td>\n",
       "    </tr>\n",
       "    <tr>\n",
       "      <th>20</th>\n",
       "      <td>18.332286</td>\n",
       "    </tr>\n",
       "    <tr>\n",
       "      <th>21</th>\n",
       "      <td>17.615868</td>\n",
       "    </tr>\n",
       "    <tr>\n",
       "      <th>22</th>\n",
       "      <td>15.552477</td>\n",
       "    </tr>\n",
       "    <tr>\n",
       "      <th>23</th>\n",
       "      <td>17.293763</td>\n",
       "    </tr>\n",
       "  </tbody>\n",
       "</table>\n",
       "</div>"
      ],
      "text/plain": [
       "             duration_minutes\n",
       "pickup_hour                  \n",
       "0                   12.245542\n",
       "1                   16.330754\n",
       "2                   18.328084\n",
       "3                   11.862191\n",
       "4                   11.647577\n",
       "5                   11.467249\n",
       "6                   10.910751\n",
       "7                   14.909091\n",
       "8                   16.268317\n",
       "9                   16.656051\n",
       "10                  16.529070\n",
       "11                  19.520776\n",
       "12                  15.219402\n",
       "13                  17.274194\n",
       "14                  18.400329\n",
       "15                  17.895780\n",
       "16                  17.659213\n",
       "17                  18.654772\n",
       "18                  16.412134\n",
       "19                  16.170833\n",
       "20                  18.332286\n",
       "21                  17.615868\n",
       "22                  15.552477\n",
       "23                  17.293763"
      ]
     },
     "execution_count": 64,
     "metadata": {},
     "output_type": "execute_result"
    }
   ],
   "source": [
    "time_use"
   ]
  },
  {
   "cell_type": "code",
   "execution_count": null,
   "id": "50426464",
   "metadata": {},
   "outputs": [],
   "source": []
  },
  {
   "cell_type": "code",
   "execution_count": null,
   "id": "3393871f",
   "metadata": {},
   "outputs": [],
   "source": []
  },
  {
   "cell_type": "code",
   "execution_count": null,
   "id": "6d9fad8a",
   "metadata": {},
   "outputs": [],
   "source": []
  },
  {
   "cell_type": "code",
   "execution_count": null,
   "id": "82b7526a",
   "metadata": {},
   "outputs": [],
   "source": []
  },
  {
   "cell_type": "markdown",
   "id": "8d179aac",
   "metadata": {},
   "source": [
    "# Data visualization\n",
    "box plot\n",
    "histrogram\n",
    "scatter\n",
    "bar chart\n",
    "line chart\n"
   ]
  },
  {
   "cell_type": "code",
   "execution_count": 207,
   "id": "985f2580",
   "metadata": {},
   "outputs": [
    {
     "data": {
      "text/plain": [
       "<AxesSubplot:title={'center':'Number of user by time'}, xlabel='pickup_hour', ylabel='Count'>"
      ]
     },
     "execution_count": 207,
     "metadata": {},
     "output_type": "execute_result"
    },
    {
     "data": {
      "image/png": "[encoded data removed]",
      "text/plain": [
       "<Figure size 1080x504 with 1 Axes>"
      ]
     },
     "metadata": {
      "needs_background": "light"
     },
     "output_type": "display_data"
    }
   ],
   "source": [
    "plt.figure(figsize=(15,7))\n",
    "plt.title('Number of user by time',color='white',size = 20)\n",
    "sns.histplot(df['pickup_hour'],bins=range(0,25,1))"
   ]
  },
  {
   "cell_type": "code",
   "execution_count": null,
   "id": "42f4d575",
   "metadata": {},
   "outputs": [],
   "source": []
  },
  {
   "cell_type": "code",
   "execution_count": null,
   "id": "5b0ac2ea",
   "metadata": {},
   "outputs": [],
   "source": []
  },
  {
   "cell_type": "code",
   "execution_count": 119,
   "id": "59edcbc8",
   "metadata": {},
   "outputs": [
    {
     "data": {
      "text/plain": [
       "<AxesSubplot:title={'center':'trip distance'}, xlabel='trip_distance'>"
      ]
     },
     "execution_count": 119,
     "metadata": {},
     "output_type": "execute_result"
    },
    {
     "data": {
      "image/png": "[encoded data removed]",
      "text/plain": [
       "<Figure size 1080x288 with 1 Axes>"
      ]
     },
     "metadata": {
      "needs_background": "light"
     },
     "output_type": "display_data"
    }
   ],
   "source": [
    "plt.figure(figsize=(15,4))\n",
    "plt.title('trip distance',color='white',size = 20)\n",
    "sns.boxplot(data=df,x='trip_distance',fliersize=2)"
   ]
  },
  {
   "cell_type": "code",
   "execution_count": 120,
   "id": "e99ca367",
   "metadata": {},
   "outputs": [
    {
     "data": {
      "text/plain": [
       "<AxesSubplot:title={'center':'trip distance'}, xlabel='trip_distance', ylabel='Count'>"
      ]
     },
     "execution_count": 120,
     "metadata": {},
     "output_type": "execute_result"
    },
    {
     "data": {
      "image/png": "[encoded data removed]",
      "text/plain": [
       "<Figure size 1080x504 with 1 Axes>"
      ]
     },
     "metadata": {
      "needs_background": "light"
     },
     "output_type": "display_data"
    }
   ],
   "source": [
    "plt.figure(figsize=(15,7))\n",
    "plt.title('trip distance',color='white',size = 20)\n",
    "sns.histplot(df['trip_distance'],bins=range(0,25,1))\n"
   ]
  },
  {
   "cell_type": "code",
   "execution_count": 121,
   "id": "9e295cbb",
   "metadata": {},
   "outputs": [
    {
     "data": {
      "text/plain": [
       "<AxesSubplot:title={'center':'tip amount'}, xlabel='tip_amount'>"
      ]
     },
     "execution_count": 121,
     "metadata": {},
     "output_type": "execute_result"
    },
    {
     "data": {
      "image/png": "[encoded data removed]",
      "text/plain": [
       "<Figure size 1080x288 with 1 Axes>"
      ]
     },
     "metadata": {
      "needs_background": "light"
     },
     "output_type": "display_data"
    }
   ],
   "source": [
    "plt.figure(figsize=(15,4))\n",
    "plt.title('tip amount',size = 20,color='white')\n",
    "sns.boxplot(data=df,x='tip_amount',fliersize=2)"
   ]
  },
  {
   "cell_type": "code",
   "execution_count": 122,
   "id": "4f2b8f19",
   "metadata": {},
   "outputs": [
    {
     "data": {
      "text/plain": [
       "Text(0.5, 1.0, 'Tip amount by vendor')"
      ]
     },
     "execution_count": 122,
     "metadata": {},
     "output_type": "execute_result"
    },
    {
     "data": {
      "image/png": "[encoded data removed]",
      "text/plain": [
       "<Figure size 864x504 with 1 Axes>"
      ]
     },
     "metadata": {
      "needs_background": "light"
     },
     "output_type": "display_data"
    }
   ],
   "source": [
    "plt.figure(figsize=(12,7))\n",
    "ax = sns.histplot(data=df,x='tip_amount',bins=range(0,21,1),\n",
    "                 hue = 'VendorID',\n",
    "                 multiple='stack',\n",
    "                 palette='pastel')\n",
    "ax.set_xticks(range(0,21,1))\n",
    "ax.set_xticklabels(range(0,21,1))\n",
    "plt.title('Tip amount by vendor',size = 20 ,color= 'white')"
   ]
  },
  {
   "cell_type": "code",
   "execution_count": 123,
   "id": "a6c8048f",
   "metadata": {},
   "outputs": [
    {
     "data": {
      "text/plain": [
       "<AxesSubplot:title={'center':'total amount'}, xlabel='total_amount'>"
      ]
     },
     "execution_count": 123,
     "metadata": {},
     "output_type": "execute_result"
    },
    {
     "data": {
      "image/png": "[encoded data removed]",
      "text/plain": [
       "<Figure size 1080x288 with 1 Axes>"
      ]
     },
     "metadata": {
      "needs_background": "light"
     },
     "output_type": "display_data"
    }
   ],
   "source": [
    "plt.figure(figsize=(15,4))\n",
    "plt.title('total amount',color = 'white',size=20)\n",
    "sns.boxplot(data=df,x='total_amount',fliersize=2)"
   ]
  },
  {
   "cell_type": "code",
   "execution_count": 124,
   "id": "9ca2cb6b",
   "metadata": {},
   "outputs": [
    {
     "data": {
      "text/plain": [
       "Text(0.5, 1.0, 'Total amount by vendor')"
      ]
     },
     "execution_count": 124,
     "metadata": {},
     "output_type": "execute_result"
    },
    {
     "data": {
      "image/png": "[encoded data removed]",
      "text/plain": [
       "<Figure size 864x504 with 1 Axes>"
      ]
     },
     "metadata": {
      "needs_background": "light"
     },
     "output_type": "display_data"
    }
   ],
   "source": [
    "plt.figure(figsize=(12,7))\n",
    "ax = sns.histplot(data=df,x='total_amount',bins=range(0,100,5),\n",
    "                 hue = 'VendorID',\n",
    "                 multiple='stack',\n",
    "                 palette='pastel')\n",
    "ax.set_xticks(range(0,100,10))\n",
    "ax.set_xticklabels(range(0,100,10))\n",
    "plt.title('Total amount by vendor',size = 20 ,color= 'white')"
   ]
  },
  {
   "cell_type": "code",
   "execution_count": 125,
   "id": "99dcfe45",
   "metadata": {},
   "outputs": [
    {
     "data": {
      "text/plain": [
       "1    15939\n",
       "2     3276\n",
       "5     1140\n",
       "3      948\n",
       "6      688\n",
       "4      450\n",
       "0       32\n",
       "Name: passenger_count, dtype: int64"
      ]
     },
     "execution_count": 125,
     "metadata": {},
     "output_type": "execute_result"
    }
   ],
   "source": [
    "df['passenger_count'].value_counts()"
   ]
  },
  {
   "cell_type": "code",
   "execution_count": 126,
   "id": "fcd0b3e4",
   "metadata": {},
   "outputs": [
    {
     "data": {
      "text/plain": [
       "<AxesSubplot:title={'center':'passenger count'}, xlabel='passenger_count', ylabel='Count'>"
      ]
     },
     "execution_count": 126,
     "metadata": {},
     "output_type": "execute_result"
    },
    {
     "data": {
      "image/png": "[encoded data removed]",
      "text/plain": [
       "<Figure size 1080x504 with 1 Axes>"
      ]
     },
     "metadata": {
      "needs_background": "light"
     },
     "output_type": "display_data"
    }
   ],
   "source": [
    "plt.figure(figsize=(15,7))\n",
    "plt.title('passenger count',size = 20,color='white')\n",
    "sns.histplot(data=df,x='passenger_count',bins=range(1,8,1))"
   ]
  },
  {
   "cell_type": "code",
   "execution_count": 81,
   "id": "c3a6ea27",
   "metadata": {},
   "outputs": [
    {
     "data": {
      "text/plain": [
       "<AxesSubplot:title={'center':'average time spent(minutes)'}, xlabel='pickup_hour', ylabel='duration_minutes'>"
      ]
     },
     "execution_count": 81,
     "metadata": {},
     "output_type": "execute_result"
    },
    {
     "data": {
      "image/png": "[encoded data removed]",
      "text/plain": [
       "<Figure size 1080x504 with 1 Axes>"
      ]
     },
     "metadata": {
      "needs_background": "light"
     },
     "output_type": "display_data"
    }
   ],
   "source": [
    "plt.figure(figsize=(15,7))\n",
    "plt.title('average time spent(minutes)',color='white',size = 20)\n",
    "sns.barplot(x=time_use.index,y=time_use['duration_minutes'])"
   ]
  },
  {
   "cell_type": "code",
   "execution_count": 66,
   "id": "662a95bc",
   "metadata": {},
   "outputs": [
    {
     "data": {
      "text/plain": [
       "<AxesSubplot:title={'center':'duration by distance'}, xlabel='pickup_hour', ylabel='duration_by_distance'>"
      ]
     },
     "execution_count": 66,
     "metadata": {},
     "output_type": "execute_result"
    },
    {
     "data": {
      "image/png": "[encoded data removed]",
      "text/plain": [
       "<Figure size 1080x504 with 1 Axes>"
      ]
     },
     "metadata": {
      "needs_background": "light"
     },
     "output_type": "display_data"
    }
   ],
   "source": [
    "plt.figure(figsize=(15,7))\n",
    "plt.title('duration by distance',color='white',size = 20)\n",
    "sns.barplot(x=period_by_distance.index,y=period_by_distance['duration_by_distance'])"
   ]
  },
  {
   "cell_type": "code",
   "execution_count": 76,
   "id": "858671ab",
   "metadata": {},
   "outputs": [],
   "source": [
    "day_order = ['Monday', 'Tuesday', 'Wednesday', 'Thursday', 'Friday', 'Saturday', 'Sunday']\n",
    "users_by_day = pd.DataFrame(df.groupby('day')['day'].count()).reindex(index=day_order)"
   ]
  },
  {
   "cell_type": "code",
   "execution_count": 93,
   "id": "d5094b21",
   "metadata": {},
   "outputs": [
    {
     "data": {
      "text/plain": [
       "Text(0.5, 0, 'day')"
      ]
     },
     "execution_count": 93,
     "metadata": {},
     "output_type": "execute_result"
    },
    {
     "data": {
      "image/png": "[encoded data removed]",
      "text/plain": [
       "<Figure size 1080x504 with 1 Axes>"
      ]
     },
     "metadata": {
      "needs_background": "light"
     },
     "output_type": "display_data"
    }
   ],
   "source": [
    "plt.figure(figsize=(15,7))\n",
    "plt.title('Number of ride count',color='white',size = 20)\n",
    "ax = sns.barplot(x=users_by_day.index,y=users_by_day['day'])\n",
    "ax.set_ylabel('number of ride count',color='white',size=15)\n",
    "ax.set_xlabel('day',color='white',size=15)"
   ]
  },
  {
   "cell_type": "code",
   "execution_count": 84,
   "id": "77e7d8ad",
   "metadata": {},
   "outputs": [],
   "source": [
    "month_order = ['January', 'February', 'March', 'April', 'May', 'June', 'July',\n",
    "         'August', 'September', 'October', 'November', 'December']\n",
    "users_by_month = pd.DataFrame(df.groupby('month')['month'].count()).reindex(index=month_order)"
   ]
  },
  {
   "cell_type": "code",
   "execution_count": 92,
   "id": "ccacf7d2",
   "metadata": {},
   "outputs": [
    {
     "data": {
      "text/plain": [
       "Text(0.5, 0, 'month')"
      ]
     },
     "execution_count": 92,
     "metadata": {},
     "output_type": "execute_result"
    },
    {
     "data": {
      "image/png": "[encoded data removed]",
      "text/plain": [
       "<Figure size 1080x504 with 1 Axes>"
      ]
     },
     "metadata": {
      "needs_background": "light"
     },
     "output_type": "display_data"
    }
   ],
   "source": [
    "plt.figure(figsize=(15,7))\n",
    "plt.title('Number of ride count',color='white',size = 20)\n",
    "ax = sns.barplot(x=users_by_month.index,y=users_by_month\n",
    "                 ['month'])\n",
    "ax.set_ylabel('number of ride count',color='white',size=15)\n",
    "ax.set_xlabel('month',color='white',size=15)"
   ]
  },
  {
   "cell_type": "code",
   "execution_count": 101,
   "id": "8462a7d6",
   "metadata": {},
   "outputs": [],
   "source": [
    "average_distance_by_day = pd.DataFrame(df.groupby('day')['trip_distance'].mean()).reindex(index=day_order)"
   ]
  },
  {
   "cell_type": "code",
   "execution_count": 104,
   "id": "158e0ba9",
   "metadata": {},
   "outputs": [
    {
     "data": {
      "text/plain": [
       "Text(0.5, 0, 'day')"
      ]
     },
     "execution_count": 104,
     "metadata": {},
     "output_type": "execute_result"
    },
    {
     "data": {
      "image/png": "[encoded data removed]",
      "text/plain": [
       "<Figure size 1080x504 with 1 Axes>"
      ]
     },
     "metadata": {
      "needs_background": "light"
     },
     "output_type": "display_data"
    }
   ],
   "source": [
    "plt.figure(figsize=(15,7))\n",
    "plt.title('Average distance',color='white',size = 20)\n",
    "ax = sns.barplot(x=average_distance_by_day.index,y=average_distance_by_day\n",
    "                 ['trip_distance'])\n",
    "ax.set_ylabel('distance',color='white',size=15)\n",
    "ax.set_xlabel('day',color='white',size=15)"
   ]
  },
  {
   "cell_type": "code",
   "execution_count": 107,
   "id": "492d1815",
   "metadata": {},
   "outputs": [],
   "source": [
    "average_distance_by_month = pd.DataFrame(df.groupby('month')['trip_distance'].mean()).reindex(index=month_order)"
   ]
  },
  {
   "cell_type": "code",
   "execution_count": 108,
   "id": "21b9b400",
   "metadata": {},
   "outputs": [
    {
     "data": {
      "text/plain": [
       "Text(0.5, 0, 'month')"
      ]
     },
     "execution_count": 108,
     "metadata": {},
     "output_type": "execute_result"
    },
    {
     "data": {
      "image/png": "[encoded data removed]",
      "text/plain": [
       "<Figure size 1080x504 with 1 Axes>"
      ]
     },
     "metadata": {
      "needs_background": "light"
     },
     "output_type": "display_data"
    }
   ],
   "source": [
    "plt.figure(figsize=(15,7))\n",
    "plt.title('Average distance',color='white',size = 20)\n",
    "ax = sns.barplot(x=average_distance_by_month.index,y=average_distance_by_month\n",
    "                 ['trip_distance'])\n",
    "ax.set_ylabel('distance',color='white',size=15)\n",
    "ax.set_xlabel('month',color='white',size=15)"
   ]
  },
  {
   "cell_type": "code",
   "execution_count": 109,
   "id": "f0ac155c",
   "metadata": {},
   "outputs": [
    {
     "data": {
      "text/html": [
       "<div>\n",
       "<style scoped>\n",
       "    .dataframe tbody tr th:only-of-type {\n",
       "        vertical-align: middle;\n",
       "    }\n",
       "\n",
       "    .dataframe tbody tr th {\n",
       "        vertical-align: top;\n",
       "    }\n",
       "\n",
       "    .dataframe thead th {\n",
       "        text-align: right;\n",
       "    }\n",
       "</style>\n",
       "<table border=\"1\" class=\"dataframe\">\n",
       "  <thead>\n",
       "    <tr style=\"text-align: right;\">\n",
       "      <th></th>\n",
       "      <th>Unnamed: 0</th>\n",
       "      <th>VendorID</th>\n",
       "      <th>tpep_pickup_datetime</th>\n",
       "      <th>tpep_dropoff_datetime</th>\n",
       "      <th>passenger_count</th>\n",
       "      <th>trip_distance</th>\n",
       "      <th>PULocationID</th>\n",
       "      <th>DOLocationID</th>\n",
       "      <th>payment_type</th>\n",
       "      <th>fare_amount</th>\n",
       "      <th>tip_amount</th>\n",
       "      <th>tolls_amount</th>\n",
       "      <th>total_amount</th>\n",
       "      <th>pickup_hour</th>\n",
       "      <th>duration_minutes</th>\n",
       "      <th>day</th>\n",
       "      <th>month</th>\n",
       "      <th>duration_by_distance</th>\n",
       "    </tr>\n",
       "  </thead>\n",
       "  <tbody>\n",
       "    <tr>\n",
       "      <th>0</th>\n",
       "      <td>24870114</td>\n",
       "      <td>2</td>\n",
       "      <td>2017-03-25 08:55:43</td>\n",
       "      <td>2017-03-25 09:09:47</td>\n",
       "      <td>6</td>\n",
       "      <td>3.34</td>\n",
       "      <td>100</td>\n",
       "      <td>231</td>\n",
       "      <td>1</td>\n",
       "      <td>13.0</td>\n",
       "      <td>2.76</td>\n",
       "      <td>0.0</td>\n",
       "      <td>16.56</td>\n",
       "      <td>8</td>\n",
       "      <td>14.0</td>\n",
       "      <td>Saturday</td>\n",
       "      <td>March</td>\n",
       "      <td>4.191617</td>\n",
       "    </tr>\n",
       "    <tr>\n",
       "      <th>1</th>\n",
       "      <td>35634249</td>\n",
       "      <td>1</td>\n",
       "      <td>2017-04-11 14:53:28</td>\n",
       "      <td>2017-04-11 15:19:58</td>\n",
       "      <td>1</td>\n",
       "      <td>1.80</td>\n",
       "      <td>186</td>\n",
       "      <td>43</td>\n",
       "      <td>1</td>\n",
       "      <td>16.0</td>\n",
       "      <td>4.00</td>\n",
       "      <td>0.0</td>\n",
       "      <td>20.80</td>\n",
       "      <td>14</td>\n",
       "      <td>26.0</td>\n",
       "      <td>Tuesday</td>\n",
       "      <td>April</td>\n",
       "      <td>14.444444</td>\n",
       "    </tr>\n",
       "    <tr>\n",
       "      <th>2</th>\n",
       "      <td>106203690</td>\n",
       "      <td>1</td>\n",
       "      <td>2017-12-15 07:26:56</td>\n",
       "      <td>2017-12-15 07:34:08</td>\n",
       "      <td>1</td>\n",
       "      <td>1.00</td>\n",
       "      <td>262</td>\n",
       "      <td>236</td>\n",
       "      <td>1</td>\n",
       "      <td>6.5</td>\n",
       "      <td>1.45</td>\n",
       "      <td>0.0</td>\n",
       "      <td>8.75</td>\n",
       "      <td>7</td>\n",
       "      <td>7.0</td>\n",
       "      <td>Friday</td>\n",
       "      <td>December</td>\n",
       "      <td>7.000000</td>\n",
       "    </tr>\n",
       "    <tr>\n",
       "      <th>3</th>\n",
       "      <td>38942136</td>\n",
       "      <td>2</td>\n",
       "      <td>2017-05-07 13:17:59</td>\n",
       "      <td>2017-05-07 13:48:14</td>\n",
       "      <td>1</td>\n",
       "      <td>3.70</td>\n",
       "      <td>188</td>\n",
       "      <td>97</td>\n",
       "      <td>1</td>\n",
       "      <td>20.5</td>\n",
       "      <td>6.39</td>\n",
       "      <td>0.0</td>\n",
       "      <td>27.69</td>\n",
       "      <td>13</td>\n",
       "      <td>30.0</td>\n",
       "      <td>Sunday</td>\n",
       "      <td>May</td>\n",
       "      <td>8.108108</td>\n",
       "    </tr>\n",
       "    <tr>\n",
       "      <th>4</th>\n",
       "      <td>30841670</td>\n",
       "      <td>2</td>\n",
       "      <td>2017-04-15 23:32:20</td>\n",
       "      <td>2017-04-15 23:49:03</td>\n",
       "      <td>1</td>\n",
       "      <td>4.37</td>\n",
       "      <td>4</td>\n",
       "      <td>112</td>\n",
       "      <td>2</td>\n",
       "      <td>16.5</td>\n",
       "      <td>0.00</td>\n",
       "      <td>0.0</td>\n",
       "      <td>17.80</td>\n",
       "      <td>23</td>\n",
       "      <td>16.0</td>\n",
       "      <td>Saturday</td>\n",
       "      <td>April</td>\n",
       "      <td>3.661327</td>\n",
       "    </tr>\n",
       "  </tbody>\n",
       "</table>\n",
       "</div>"
      ],
      "text/plain": [
       "   Unnamed: 0  VendorID tpep_pickup_datetime tpep_dropoff_datetime  \\\n",
       "0    24870114         2  2017-03-25 08:55:43   2017-03-25 09:09:47   \n",
       "1    35634249         1  2017-04-11 14:53:28   2017-04-11 15:19:58   \n",
       "2   106203690         1  2017-12-15 07:26:56   2017-12-15 07:34:08   \n",
       "3    38942136         2  2017-05-07 13:17:59   2017-05-07 13:48:14   \n",
       "4    30841670         2  2017-04-15 23:32:20   2017-04-15 23:49:03   \n",
       "\n",
       "   passenger_count  trip_distance  PULocationID  DOLocationID  payment_type  \\\n",
       "0                6           3.34           100           231             1   \n",
       "1                1           1.80           186            43             1   \n",
       "2                1           1.00           262           236             1   \n",
       "3                1           3.70           188            97             1   \n",
       "4                1           4.37             4           112             2   \n",
       "\n",
       "   fare_amount  tip_amount  tolls_amount  total_amount  pickup_hour  \\\n",
       "0         13.0        2.76           0.0         16.56            8   \n",
       "1         16.0        4.00           0.0         20.80           14   \n",
       "2          6.5        1.45           0.0          8.75            7   \n",
       "3         20.5        6.39           0.0         27.69           13   \n",
       "4         16.5        0.00           0.0         17.80           23   \n",
       "\n",
       "   duration_minutes       day     month  duration_by_distance  \n",
       "0              14.0  Saturday     March              4.191617  \n",
       "1              26.0   Tuesday     April             14.444444  \n",
       "2               7.0    Friday  December              7.000000  \n",
       "3              30.0    Sunday       May              8.108108  \n",
       "4              16.0  Saturday     April              3.661327  "
      ]
     },
     "execution_count": 109,
     "metadata": {},
     "output_type": "execute_result"
    }
   ],
   "source": [
    "df.head()"
   ]
  },
  {
   "cell_type": "code",
   "execution_count": 113,
   "id": "8f271d04",
   "metadata": {},
   "outputs": [],
   "source": [
    "revenue_day = pd.DataFrame(df.groupby('day')['total_amount'].sum()).reindex(index=day_order)"
   ]
  },
  {
   "cell_type": "code",
   "execution_count": 116,
   "id": "c2e3e1a5",
   "metadata": {},
   "outputs": [
    {
     "data": {
      "text/plain": [
       "Text(0.5, 0, 'day')"
      ]
     },
     "execution_count": 116,
     "metadata": {},
     "output_type": "execute_result"
    },
    {
     "data": {
      "image/png": "[encoded data removed]",
      "text/plain": [
       "<Figure size 1080x504 with 1 Axes>"
      ]
     },
     "metadata": {
      "needs_background": "light"
     },
     "output_type": "display_data"
    }
   ],
   "source": [
    "plt.figure(figsize=(15,7))\n",
    "plt.title('Total revenue',color='white',size = 20)\n",
    "ax = sns.barplot(x=revenue_day.index,y=revenue_day\n",
    "                 ['total_amount'])\n",
    "ax.set_ylabel('revenue',color='white',size=15)\n",
    "ax.set_xlabel('day',color='white',size=15)"
   ]
  },
  {
   "cell_type": "code",
   "execution_count": 118,
   "id": "aa2eba50",
   "metadata": {},
   "outputs": [],
   "source": [
    "revenue_month = pd.DataFrame(df.groupby('month')['total_amount'].sum()).reindex(index=month_order)"
   ]
  },
  {
   "cell_type": "code",
   "execution_count": 119,
   "id": "f9cb2eda",
   "metadata": {},
   "outputs": [
    {
     "data": {
      "text/plain": [
       "Text(0.5, 0, 'month')"
      ]
     },
     "execution_count": 119,
     "metadata": {},
     "output_type": "execute_result"
    },
    {
     "data": {
      "image/png": "[encoded data removed]",
      "text/plain": [
       "<Figure size 1080x504 with 1 Axes>"
      ]
     },
     "metadata": {
      "needs_background": "light"
     },
     "output_type": "display_data"
    }
   ],
   "source": [
    "plt.figure(figsize=(15,7))\n",
    "plt.title('Total revenue',color='white',size = 20)\n",
    "ax = sns.barplot(x=revenue_month.index,y=revenue_month\n",
    "                 ['total_amount'])\n",
    "ax.set_ylabel('revenue',color='white',size=15)\n",
    "ax.set_xlabel('month',color='white',size=15)"
   ]
  },
  {
   "cell_type": "code",
   "execution_count": 155,
   "id": "85a0eb5c",
   "metadata": {},
   "outputs": [],
   "source": [
    "PU_count = pd.DataFrame(df['PULocationID'].value_counts()).sort_values('PULocationID',ascending=False)\n",
    "PU_count = PU_count.reset_index().rename(columns={'PULocationID':'user_count','index':'PULocationID'})"
   ]
  },
  {
   "cell_type": "code",
   "execution_count": 164,
   "id": "dc28844b",
   "metadata": {},
   "outputs": [
    {
     "data": {
      "text/html": [
       "<div>\n",
       "<style scoped>\n",
       "    .dataframe tbody tr th:only-of-type {\n",
       "        vertical-align: middle;\n",
       "    }\n",
       "\n",
       "    .dataframe tbody tr th {\n",
       "        vertical-align: top;\n",
       "    }\n",
       "\n",
       "    .dataframe thead th {\n",
       "        text-align: right;\n",
       "    }\n",
       "</style>\n",
       "<table border=\"1\" class=\"dataframe\">\n",
       "  <thead>\n",
       "    <tr style=\"text-align: right;\">\n",
       "      <th></th>\n",
       "      <th>PULocationID</th>\n",
       "      <th>user_count</th>\n",
       "    </tr>\n",
       "  </thead>\n",
       "  <tbody>\n",
       "    <tr>\n",
       "      <th>0</th>\n",
       "      <td>237</td>\n",
       "      <td>885</td>\n",
       "    </tr>\n",
       "    <tr>\n",
       "      <th>1</th>\n",
       "      <td>161</td>\n",
       "      <td>856</td>\n",
       "    </tr>\n",
       "    <tr>\n",
       "      <th>2</th>\n",
       "      <td>186</td>\n",
       "      <td>785</td>\n",
       "    </tr>\n",
       "    <tr>\n",
       "      <th>3</th>\n",
       "      <td>236</td>\n",
       "      <td>784</td>\n",
       "    </tr>\n",
       "    <tr>\n",
       "      <th>4</th>\n",
       "      <td>162</td>\n",
       "      <td>767</td>\n",
       "    </tr>\n",
       "  </tbody>\n",
       "</table>\n",
       "</div>"
      ],
      "text/plain": [
       "   PULocationID  user_count\n",
       "0           237         885\n",
       "1           161         856\n",
       "2           186         785\n",
       "3           236         784\n",
       "4           162         767"
      ]
     },
     "execution_count": 164,
     "metadata": {},
     "output_type": "execute_result"
    }
   ],
   "source": [
    "PU_count.head()"
   ]
  },
  {
   "cell_type": "code",
   "execution_count": 157,
   "id": "6f68f15a",
   "metadata": {},
   "outputs": [],
   "source": [
    "DO_count = pd.DataFrame(df['DOLocationID'].value_counts()).sort_values('DOLocationID',ascending=False)\n",
    "DO_count = DO_count.reset_index().rename(columns={'DOLocationID':'user_count','index':'DOLocationID'})"
   ]
  },
  {
   "cell_type": "code",
   "execution_count": 165,
   "id": "488cd7ec",
   "metadata": {},
   "outputs": [
    {
     "data": {
      "text/html": [
       "<div>\n",
       "<style scoped>\n",
       "    .dataframe tbody tr th:only-of-type {\n",
       "        vertical-align: middle;\n",
       "    }\n",
       "\n",
       "    .dataframe tbody tr th {\n",
       "        vertical-align: top;\n",
       "    }\n",
       "\n",
       "    .dataframe thead th {\n",
       "        text-align: right;\n",
       "    }\n",
       "</style>\n",
       "<table border=\"1\" class=\"dataframe\">\n",
       "  <thead>\n",
       "    <tr style=\"text-align: right;\">\n",
       "      <th></th>\n",
       "      <th>DOLocationID</th>\n",
       "      <th>user_count</th>\n",
       "    </tr>\n",
       "  </thead>\n",
       "  <tbody>\n",
       "    <tr>\n",
       "      <th>0</th>\n",
       "      <td>161</td>\n",
       "      <td>852</td>\n",
       "    </tr>\n",
       "    <tr>\n",
       "      <th>1</th>\n",
       "      <td>236</td>\n",
       "      <td>800</td>\n",
       "    </tr>\n",
       "    <tr>\n",
       "      <th>2</th>\n",
       "      <td>237</td>\n",
       "      <td>754</td>\n",
       "    </tr>\n",
       "    <tr>\n",
       "      <th>3</th>\n",
       "      <td>230</td>\n",
       "      <td>754</td>\n",
       "    </tr>\n",
       "    <tr>\n",
       "      <th>4</th>\n",
       "      <td>170</td>\n",
       "      <td>693</td>\n",
       "    </tr>\n",
       "  </tbody>\n",
       "</table>\n",
       "</div>"
      ],
      "text/plain": [
       "   DOLocationID  user_count\n",
       "0           161         852\n",
       "1           236         800\n",
       "2           237         754\n",
       "3           230         754\n",
       "4           170         693"
      ]
     },
     "execution_count": 165,
     "metadata": {},
     "output_type": "execute_result"
    }
   ],
   "source": [
    "DO_count.head()"
   ]
  },
  {
   "cell_type": "code",
   "execution_count": 160,
   "id": "aed40d6a",
   "metadata": {},
   "outputs": [],
   "source": [
    "use_tolls = pd.DataFrame(df[df['tolls_amount'] > 0].groupby('DOLocationID')['tolls_amount'].count()).sort_values('tolls_amount',ascending=False)   \n",
    "use_tolls = use_tolls.rename(columns={'tolls_amount':'tolls_count'})"
   ]
  },
  {
   "cell_type": "code",
   "execution_count": 166,
   "id": "427bd20f",
   "metadata": {},
   "outputs": [
    {
     "data": {
      "text/html": [
       "<div>\n",
       "<style scoped>\n",
       "    .dataframe tbody tr th:only-of-type {\n",
       "        vertical-align: middle;\n",
       "    }\n",
       "\n",
       "    .dataframe tbody tr th {\n",
       "        vertical-align: top;\n",
       "    }\n",
       "\n",
       "    .dataframe thead th {\n",
       "        text-align: right;\n",
       "    }\n",
       "</style>\n",
       "<table border=\"1\" class=\"dataframe\">\n",
       "  <thead>\n",
       "    <tr style=\"text-align: right;\">\n",
       "      <th></th>\n",
       "      <th>tolls_count</th>\n",
       "    </tr>\n",
       "    <tr>\n",
       "      <th>DOLocationID</th>\n",
       "      <th></th>\n",
       "    </tr>\n",
       "  </thead>\n",
       "  <tbody>\n",
       "    <tr>\n",
       "      <th>138</th>\n",
       "      <td>172</td>\n",
       "    </tr>\n",
       "    <tr>\n",
       "      <th>132</th>\n",
       "      <td>128</td>\n",
       "    </tr>\n",
       "    <tr>\n",
       "      <th>230</th>\n",
       "      <td>69</td>\n",
       "    </tr>\n",
       "    <tr>\n",
       "      <th>161</th>\n",
       "      <td>44</td>\n",
       "    </tr>\n",
       "    <tr>\n",
       "      <th>162</th>\n",
       "      <td>41</td>\n",
       "    </tr>\n",
       "  </tbody>\n",
       "</table>\n",
       "</div>"
      ],
      "text/plain": [
       "              tolls_count\n",
       "DOLocationID             \n",
       "138                   172\n",
       "132                   128\n",
       "230                    69\n",
       "161                    44\n",
       "162                    41"
      ]
     },
     "execution_count": 166,
     "metadata": {},
     "output_type": "execute_result"
    }
   ],
   "source": [
    "use_tolls.head()"
   ]
  },
  {
   "cell_type": "code",
   "execution_count": null,
   "id": "2c55e1fe",
   "metadata": {},
   "outputs": [],
   "source": [
    "DO_airport = pd.DataFrame(df[df['tolls_amount'] > 0].groupby('DOLocationID')['tolls_amount'].count()).sort_values('tolls_amount',ascending=False)"
   ]
  },
  {
   "cell_type": "code",
   "execution_count": null,
   "id": "e68bb3c5",
   "metadata": {},
   "outputs": [],
   "source": []
  },
  {
   "cell_type": "markdown",
   "id": "9798d0d5",
   "metadata": {},
   "source": [
    "# Hypothesis test\n",
    "paymant type effects to total amount or not\n",
    "Ho:average total amount between customers who credit cards and   \n",
    "    customer who ues cash are equal\n",
    "Ha:average total amount between customers who credit cards and   \n",
    "    customer who ues cash are not equal(credit card > cash)\n",
    "significant level = 5%"
   ]
  },
  {
   "cell_type": "code",
   "execution_count": 77,
   "id": "c95639ce",
   "metadata": {},
   "outputs": [
    {
     "name": "stdout",
     "output_type": "stream",
     "text": [
      "average tip by vendor VendorID\n",
      "1    2.732815\n",
      "2    2.727397\n",
      "Name: tip_amount, dtype: float64\n",
      "average total amount by vendor VendorID\n",
      "1    16.298119\n",
      "2    16.320382\n",
      "Name: total_amount, dtype: float64\n",
      "average tip amount by payment type payment_type\n",
      "1    2.7298\n",
      "2    0.0000\n",
      "3    0.0000\n",
      "4    0.0000\n",
      "Name: tip_amount, dtype: float64\n",
      "average total amount by payment type payment_type\n",
      "1    17.663577\n",
      "2    13.545821\n",
      "3    13.579669\n",
      "4    11.238261\n",
      "Name: total_amount, dtype: float64\n",
      "average tip amount by passenger count passenger_count\n",
      "0    2.610370\n",
      "1    2.714681\n",
      "2    2.829949\n",
      "3    2.726800\n",
      "4    2.607753\n",
      "5    2.762645\n",
      "6    2.643326\n",
      "Name: tip_amount, dtype: float64\n",
      "average total amount by passenger count passenger_count\n",
      "0    17.624242\n",
      "1    16.070787\n",
      "2    17.390460\n",
      "3    16.616842\n",
      "4    16.673626\n",
      "5    16.264121\n",
      "6    16.089322\n",
      "Name: total_amount, dtype: float64\n"
     ]
    }
   ],
   "source": [
    "print('average tip by vendor',df[df['payment_type']==1]['tip_amount'].groupby(df['VendorID']).mean())\n",
    "print('average total amount by vendor',df.groupby('VendorID')['total_amount'].mean())\n",
    "print('average tip amount by payment type',df.groupby('payment_type')['tip_amount'].mean())\n",
    "print('average total amount by payment type',df.groupby('payment_type')['total_amount'].mean())\n",
    "print('average tip amount by passenger count',df[df['payment_type']==1]['tip_amount'].groupby(df['passenger_count']).mean())\n",
    "print('average total amount by passenger count',df.groupby('passenger_count')['total_amount'].mean())"
   ]
  },
  {
   "cell_type": "code",
   "execution_count": 20,
   "id": "8ab9da2d",
   "metadata": {},
   "outputs": [],
   "source": [
    "credit_card = df[df['payment_type']==1]['total_amount']\n",
    "cash = df[df['payment_type']==2]['total_amount']"
   ]
  },
  {
   "cell_type": "code",
   "execution_count": 21,
   "id": "112ec776",
   "metadata": {},
   "outputs": [
    {
     "data": {
      "text/plain": [
       "Ttest_indResult(statistic=20.34644022783838, pvalue=4.5301445359736376e-91)"
      ]
     },
     "execution_count": 21,
     "metadata": {},
     "output_type": "execute_result"
    }
   ],
   "source": [
    "stats.ttest_ind(a=credit_card,b=cash, equal_var=False)"
   ]
  },
  {
   "cell_type": "markdown",
   "id": "935de4bd",
   "metadata": {},
   "source": [
    "pvalue < 0.05 ; reject Ho\n",
    "we should encouraging customers to pay with credit cards can generate more revenue for taxi cab drivers."
   ]
  },
  {
   "cell_type": "markdown",
   "id": "fad54315",
   "metadata": {},
   "source": [
    "passenger count effects to total amount or not Ho:average total amount between 1 passenger and more then 1 passenger are equal Ha:average total amount between 1 passenger and more then 1 passenger are not equal   significant level = 5%"
   ]
  },
  {
   "cell_type": "code",
   "execution_count": 57,
   "id": "bcbc3036",
   "metadata": {},
   "outputs": [],
   "source": [
    "passenger1 = df[df['passenger_count']==1]['total_amount']\n",
    "passenger2 = df[df['passenger_count']>1]['total_amount']"
   ]
  },
  {
   "cell_type": "code",
   "execution_count": 58,
   "id": "fe236c3d",
   "metadata": {},
   "outputs": [
    {
     "data": {
      "text/plain": [
       "Ttest_indResult(statistic=-3.59074694896474, pvalue=0.00033095404577990304)"
      ]
     },
     "execution_count": 58,
     "metadata": {},
     "output_type": "execute_result"
    }
   ],
   "source": [
    "stats.ttest_ind(a=passenger1,b=passenger2, equal_var=False)"
   ]
  },
  {
   "cell_type": "code",
   "execution_count": null,
   "id": "e286c4b4",
   "metadata": {},
   "outputs": [],
   "source": []
  },
  {
   "cell_type": "code",
   "execution_count": null,
   "id": "6c001f63",
   "metadata": {},
   "outputs": [],
   "source": []
  },
  {
   "cell_type": "code",
   "execution_count": null,
   "id": "44f85d73",
   "metadata": {},
   "outputs": [],
   "source": []
  }
 ],
 "metadata": {
  "kernelspec": {
   "display_name": "Python 3 (ipykernel)",
   "language": "python",
   "name": "python3"
  },
  "language_info": {
   "codemirror_mode": {
    "name": "ipython",
    "version": 3
   },
   "file_extension": ".py",
   "mimetype": "text/x-python",
   "name": "python",
   "nbconvert_exporter": "python",
   "pygments_lexer": "ipython3",
   "version": "3.9.7"
  },
  "varInspector": {
   "cols": {
    "lenName": 16,
    "lenType": 16,
    "lenVar": 40
   },
   "kernels_config": {
    "python": {
     "delete_cmd_postfix": "",
     "delete_cmd_prefix": "del ",
     "library": "var_list.py",
     "varRefreshCmd": "print(var_dic_list())"
    },
    "r": {
     "delete_cmd_postfix": ") ",
     "delete_cmd_prefix": "rm(",
     "library": "var_list.r",
     "varRefreshCmd": "cat(var_dic_list()) "
    }
   },
   "types_to_exclude": [
    "module",
    "function",
    "builtin_function_or_method",
    "instance",
    "_Feature"
   ],
   "window_display": false
  }
 },
 "nbformat": 4,
 "nbformat_minor": 5
}
